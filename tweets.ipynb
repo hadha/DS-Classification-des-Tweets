{
 "cells": [
  {
   "cell_type": "markdown",
   "metadata": {},
   "source": [
    "<br/>\n",
    "<center><i><b><font color=\"dodgerblue\" style=\"font-family:cursive; font-size:30px; color:#339999\">Classification des Tweets</font></b></i>\n",
    "<br/>\n",
    "<br/>\n",
    "\n",
    "<font color=\"goldenrod\" size=\"5px\" style=\"font-family:cursive; color:#00CC66\"><i>Hadhémi Gharbi</i></font>\n",
    "<br/>\n",
    "<font color=\"peru\" size=\"4px\" style=\"font-family:cursive; color:#00CC66\"><i>3 DNI Groupe 1</i></font>\n",
    "<br/>\n",
    "<br/>\n",
    "</center>\n"
   ]
  },
  {
   "cell_type": "markdown",
   "metadata": {},
   "source": [
    "<hr>"
   ]
  },
  {
   "cell_type": "markdown",
   "metadata": {},
   "source": [
    "<font style=\"font-family:cursive; font-size:24px; color:#339966\"><i>\n",
    "<b>Twitter :"
   ]
  },
  {
   "cell_type": "markdown",
   "metadata": {},
   "source": [
    "<font style=\"font-family:cursive;\"><i>\n",
    "    <blockquote>\n",
    "Twitter est une mine d'or de données. Contrairement aux autres plates-formes sociales, presque tous les tweets des utilisateurs sont entièrement publics et extractibles. C'est un énorme avantage si vous essayez d'obtenir une grande quantité de données sur lesquelles exécuter des analyses. Les données Twitter sont également assez spécifiques. L'API de Twitter nous permet d'effectuer des requêtes complexes, comme extraire chaque tweet sur un certain sujet au cours des vingt dernières minutes, ou extraire les tweets non retweetés d'un certain utilisateur.\n",
    "        <br/>\n",
    "        <blockquote>\n",
    "            <h3><font color=\"#339966\">Le tweet et le retweet</font></h3><br/>\n",
    "Chaque court message, le tweet, est limité à l'origine à 140 caractères. Il contraint les utilisateurs à être concis dans leur rédaction. Initialement, Twitter pouvait être utilisé par l'intermédiaire des SMS. Ceux-ci étant limités à 160 caractères, Twitter prend cette limite et conserve 20 caractères pour ajouter son nom d'utilisateur. La capacité limitée à 140 caractères par message sur le service a favorisé l'émergence de plateformes de contenu, telle TwitPic, qui permet de poster des images et photos ; bit.ly pour raccourcir les liens.\n",
    "<br/>\n",
    "Il existe deux manières de « retweeter » : soit comme initialement en copiant/collant intégralement le tweet lu en le précédant de la mention « RT @Bob », soit comme depuis fin 2009 en le « retweetant » automatiquement pour l’afficher à ses abonnés tel qu'on l'a vu soi-même, avec l'avatar de l'auteur d'origine, sauf si l'auteur d’origine utilise un compte protégé.        "
   ]
  },
  {
   "cell_type": "markdown",
   "metadata": {},
   "source": [
    "<i>\n",
    "<font style=\"font-family:cursive; font-size:24px; color:#339966\">\n",
    "    <b>Objectifs :</b>\n",
    "    </font>\n",
    "    <font style=\"font-family:cursive;\">\n",
    "<blockquote>\n",
    "Maitriser l’API de twitter pour l’extraction des tweets<br/>\n",
    "Maitriser la partie NLP (natural language processing) avec NLTK en Python<br/>\n",
    "Appliquer les principes de nettoyage des données<br/>\n",
    "Classer les tweets : regrouper ensemble les tweets qui sont similaires."
   ]
  },
  {
   "cell_type": "markdown",
   "metadata": {},
   "source": [
    "<hr>"
   ]
  },
  {
   "cell_type": "markdown",
   "metadata": {},
   "source": [
    "<b><i><font style=\"font-family:cursive; font-size:24px; color:#FF0033\">I - Importation des bibliothéques"
   ]
  },
  {
   "cell_type": "markdown",
   "metadata": {},
   "source": [
    "<blockquote>\n",
    "    <font style=\"font-family:cursive;\">\n",
    "        <i><font style=\"background-color:#33FF99;\"><b>Twython</b></font> est une bibliothèque Python offrant un moyen facile d'accéder aux données Twitter. \n",
    "            <br/>\n",
    "        <i><font style=\"background-color:#33FF99;\"><b>tweepy</b></font>Tweepy est une bibliothèque Python permettant d'accéder à l'API Twitter.\n",
    "            <br/>\n",
    "            <i><font style=\"background-color:#33FF99;\"><b>IPython.display</b></font> Lorsque cet objet est retourné par une cellule d'entrée ou passé à la fonction d'affichage, cela entraînera l'affichage de contrôles audio dans l'interface.\n",
    "                <br/>\n",
    "                <i><font style=\"background-color:#33FF99;\"><b>Seaborn</b></font> est une librairie qui vient s'ajouter à Matplotlib, remplace certains réglages par défaut et fonctions, et lui ajoute de nouvelles fonctionnalités.\n",
    "                    <br/>\n",
    "                  <i><font style=\"background-color:#33FF99;\"><b>matplotlib</b></font> destinée à tracer et visualiser des données sous formes de graphiques\n",
    "                      <br/>\n",
    "                      <i><font style=\"background-color:#33FF99;\"><b>pandas</b></font>permettant la manipulation et l'analyse des données\n",
    "                          <br/>\n",
    "                          <i><font style=\"background-color:#33FF99;\"><b>numpy</b></font> est une bibliothèque numérique apportant le support efficace de larges tableaux multidimensionnels, et de routines mathématiques de haut niveau (fonctions spéciales, algèbre linéaire, statistiques, etc.\n",
    "                              <br/>\n",
    "                              <i><font style=\"background-color:#33FF99;\"><b>TextBlob</b></font> est une bibliothèque Python pour le traitement de données textuelles. Il fournit une API simple pour plonger dans les tâches courantes de traitement du langage naturel (PNL) telles que le marquage d'une partie du discours, l'extraction de phrases nominales, l'analyse des sentiments, la classification, la traduction, etc.\n",
    "                                  <br/>\n",
    "                              <i><font style=\"background-color:#33FF99;\"><b> Le module re</b></font> fournit des modèles d'expressions régulières de style Perl. Les expressions régulières en Python nécessitent d'importer le module natif re.\n",
    "                                  <br/>\n",
    "                                <i><font style=\"background-color:#33FF99;\"><b>warnings.filterwarnings('ignore')</b></font> qui indique que le code utilisé va disparaître sous cette forme lors des prochaines release."
   ]
  },
  {
   "cell_type": "code",
   "execution_count": 1,
   "metadata": {},
   "outputs": [],
   "source": [
    "from twython import Twython\n",
    "import tweepy\n",
    "import pandas as pd\n",
    "import numpy as np \n",
    "from IPython.display import display\n",
    "import matplotlib.pyplot as plt\n",
    "import seaborn as sns\n",
    "from textblob import TextBlob\n",
    "import re\n",
    "import nltk\n",
    "import warnings\n",
    "warnings.filterwarnings('ignore')\n",
    "%matplotlib inline"
   ]
  },
  {
   "cell_type": "markdown",
   "metadata": {},
   "source": [
    "<b><i><font style=\"font-family:cursive; font-size:24px; color:#FF0033\">II - Accéder à l'API Twitter"
   ]
  },
  {
   "cell_type": "markdown",
   "metadata": {},
   "source": [
    "<i><font style=\"font-family:cursive;\"> Tweepy est une bibliothèque Python facile à utiliser pour accéder à l'API Twitter."
   ]
  },
  {
   "cell_type": "markdown",
   "metadata": {},
   "source": [
    "<i><font style=\"font-family:cursive; font-size:20px; color:#660033;\">Initialisation"
   ]
  },
  {
   "cell_type": "code",
   "execution_count": 2,
   "metadata": {},
   "outputs": [],
   "source": [
    "## Keys\n",
    "consumer_key = 'm0BDo0BLDGqTLOSWpb99Ysw0j'\n",
    "consumer_secret = 'arHcEvm2DNSmg8AXOxjzu3QiSq4xxBXlckjqMvlf3P0FL8ZUPv'\n",
    "access_key = '1022640036666384384-StQm0jaZO86EaDkeXgbaQF0ujuX8WE'\n",
    "access_secret = 'J13SwIueJMSnRO2AWo4mj47tNGilFq5MBZREG1Ag6nS1G'\n",
    "\n",
    "\n",
    "access_token = '1022640036666384384-StQm0jaZO86EaDkeXgbaQF0ujuX8WE'\n",
    "access_token_secret = 'J13SwIueJMSnRO2AWo4mj47tNGilFq5MBZREG1Ag6nS1G'"
   ]
  },
  {
   "cell_type": "markdown",
   "metadata": {},
   "source": [
    "<i><font style=\"font-family:cursive; color:#660033;\">\n",
    "<h3>L'API</h3>\n",
    "    </font>\n",
    "    <blockquote>\n",
    "    <font style=\"font-family:cursive;\">\n",
    "L'API Twitter est une passerelle ou interface de programmation permettant de se connecter aux données Twitter de façon automatisée.\n",
    "<br/>\n",
    "Une demande d’autorisation avec OAuth est toujours initiée par un client. \n",
    "    </font>"
   ]
  },
  {
   "cell_type": "markdown",
   "metadata": {},
   "source": [
    "<i><font style=\"font-family:cursive; color:#660033;\">\n",
    "<h3>Les tokens</h3>\n",
    "    </font>\n",
    "<br/>\n",
    "<font style=\"font-family:cursive;\">\n",
    "La demande d’accès à une ressource protégée via OAuth se traduit par la délivrance d’un token au client. Le token représente juste une chaîne de caractère unique permettant d’identifier le client et les différentes informations utiles durant le processus d’autorisation.\n",
    "\n",
    "Le serveur d’autorisation est en mesure d’en fournir deux types.\n",
    "  <blockquote> \n",
    "      <b>Token d’accès : Access token</b><br/>\n",
    "    Le token d’accès permet au client d’accéder à la ressource protégée. Ce token a une durée de validité limitée et peut avoir une portée limitée.\n",
    "<br/>\n",
    "Cette notion de portée permet d’accorder un accès limité au client. Ainsi, un utilisateur peut autoriser un client à accéder à ses ressources qu’en lecture seule.\n",
    "    <br/>\n",
    "    \n",
    "\n",
    "<b>Token de rafraîchissement : Refresh token</b><br/>\n",
    "Le token de rafraîchissement permet au client d’obtenir un nouveau token d’accès une fois que celui-ci a expiré. Sa durée de validité est aussi limitée mais est beaucoup plus élevée que celle du token d’accès.\n",
    "<br/>\n",
    "Son utilisation permet au client d’obtenir un nouveau token d’accès sans l’intervention du propriétaire de la ressource protégée.    "
   ]
  },
  {
   "cell_type": "code",
   "execution_count": 3,
   "metadata": {},
   "outputs": [],
   "source": [
    "# Impremier les tweets:\n",
    "#print(\"Les tweets:\\n\")\n",
    "#for tweet in tweets:\n",
    "#    print(tweet.text)\n",
    "#    print()"
   ]
  },
  {
   "cell_type": "markdown",
   "metadata": {},
   "source": [
    "<b><i><font style=\"font-family:cursive; font-size:24px; color:#FF0033\">III - Extraction des tweets\n",
    "</font>"
   ]
  },
  {
   "cell_type": "markdown",
   "metadata": {},
   "source": [
    "<i><b><font style=\"font-family:cursive;\">\n",
    "-> Nous avons choisi 5 théme différents :"
   ]
  },
  {
   "cell_type": "markdown",
   "metadata": {},
   "source": [
    "<i><b><font style=\"font-family:cursive; font-size:18px; color:#660033;\">Théme n°1 : Marketing"
   ]
  },
  {
   "cell_type": "code",
   "execution_count": 13,
   "metadata": {},
   "outputs": [
    {
     "name": "stdout",
     "output_type": "stream",
     "text": [
      "Getting tweets before 986611808814469119\n",
      "Number of Tweets have been downloaded so far: 400\n",
      "Getting tweets before 913771864467677183\n",
      "Number of Tweets have been downloaded so far: 600\n",
      "Getting tweets before 866299046876631039\n",
      "Number of Tweets have been downloaded so far: 800\n",
      "Getting tweets before 829379048937811969\n",
      "Number of Tweets have been downloaded so far: 1000\n",
      "Getting tweets before 792037970970865663\n",
      "Number of Tweets have been downloaded so far: 1200\n",
      "Getting tweets before 753989323637284865\n",
      "Number of Tweets have been downloaded so far: 1400\n",
      "Getting tweets before 717750501681537023\n",
      "Number of Tweets have been downloaded so far: 1600\n",
      "Getting tweets before 680736821253410816\n",
      "Number of Tweets have been downloaded so far: 1799\n",
      "Getting tweets before 120867344779198463\n",
      "Number of Tweets have been downloaded so far: 1999\n",
      "Getting tweets before 7409176889\n",
      "Number of Tweets have been downloaded so far: 2199\n",
      "Getting tweets before 2264898278\n",
      "Number of Tweets have been downloaded so far: 2399\n",
      "Getting tweets before 1138336029\n",
      "Number of Tweets have been downloaded so far: 2450\n",
      "Getting tweets before 1112455000\n",
      "Number of Tweets have been downloaded so far: 2450\n"
     ]
    }
   ],
   "source": [
    "screen_name_1=\"marketing\"\n",
    "\n",
    "def get_all_tweets(screen_name_1):\n",
    "    auth=tweepy.OAuthHandler(consumer_key, consumer_secret)\n",
    "    auth.set_access_token(access_key, access_secret)\n",
    "    api=tweepy.API(auth)\n",
    "    \n",
    "    tweets=[]\n",
    "    new_tweets=api.user_timeline(screen_name=screen_name_1, count=2000)\n",
    "    tweets.extend(new_tweets)\n",
    "    \n",
    "    oldest=tweets[-1].id-1\n",
    "    \n",
    "    while len(new_tweets)>0:\n",
    "        print(f\"Getting tweets before {oldest}\")\n",
    "        #all request will include oldest parameter to exclude the chances of the duplicates \n",
    "        new_tweets=api.user_timeline(screen_name=screen_name_1, count=2000, max_id=oldest)\n",
    "        tweets.extend(new_tweets)\n",
    "        oldest=tweets[-1].id-1\n",
    "        print(f\"Number of Tweets have been downloaded so far: {len(tweets)}\")\n",
    "    \n",
    "    return tweets\n",
    "\n",
    "tweets=get_all_tweets(screen_name_1)"
   ]
  },
  {
   "cell_type": "code",
   "execution_count": 14,
   "metadata": {},
   "outputs": [
    {
     "name": "stdout",
     "output_type": "stream",
     "text": [
      "2 recent Tweets\n",
      "how’s everyone’s 2019 so far?\n",
      "\n",
      "22 successful founders and marketers give their best offline #marketing tips for #smallbusinesses https://t.co/55swwScL84 #business\n",
      "\n"
     ]
    }
   ],
   "source": [
    "print(\"2 recent Tweets\")\n",
    "for tweet in tweets[:2]:\n",
    "    print(tweet.text)\n",
    "    print()"
   ]
  },
  {
   "cell_type": "markdown",
   "metadata": {},
   "source": [
    "<i><b><font style=\"font-family:cursive; font-size:15px; color:#660033;\">Créer le fichier CSV : marketing.csv"
   ]
  },
  {
   "cell_type": "code",
   "execution_count": 15,
   "metadata": {},
   "outputs": [],
   "source": [
    "def TDFT(tweets2):\n",
    "    tweets1 = pd.DataFrame()\n",
    "    tweets1['ID'] = [tweet.id for tweet in tweets2]\n",
    "    tweets1['Tweet'] = [tweet.text for tweet in tweets2]\n",
    "    tweets1['Source'] = [tweet.source for tweet in tweets2]\n",
    "    tweets1['Date'] = [tweet.created_at for tweet in tweets2]\n",
    "    tweets1['Likes'] = [tweet.favorite_count for tweet in tweets2]\n",
    "    tweets1['Retweet'] = [tweet.retweet_count for tweet in tweets2]\n",
    "    tweets1.to_csv(f'Datasets/_{screen_name_1}_.csv')\n",
    "    return tweets1\n",
    "\n",
    "tweets3 = TDFT(tweets)\n",
    "marketing = pd.read_csv('Datasets/_marketing_.csv')"
   ]
  },
  {
   "cell_type": "code",
   "execution_count": 16,
   "metadata": {},
   "outputs": [
    {
     "data": {
      "text/plain": [
       "(2450, 7)"
      ]
     },
     "execution_count": 16,
     "metadata": {},
     "output_type": "execute_result"
    }
   ],
   "source": [
    "np.shape(marketing)"
   ]
  },
  {
   "cell_type": "code",
   "execution_count": 17,
   "metadata": {},
   "outputs": [
    {
     "data": {
      "text/html": [
       "<div>\n",
       "<style scoped>\n",
       "    .dataframe tbody tr th:only-of-type {\n",
       "        vertical-align: middle;\n",
       "    }\n",
       "\n",
       "    .dataframe tbody tr th {\n",
       "        vertical-align: top;\n",
       "    }\n",
       "\n",
       "    .dataframe thead th {\n",
       "        text-align: right;\n",
       "    }\n",
       "</style>\n",
       "<table border=\"1\" class=\"dataframe\">\n",
       "  <thead>\n",
       "    <tr style=\"text-align: right;\">\n",
       "      <th></th>\n",
       "      <th>Unnamed: 0</th>\n",
       "      <th>ID</th>\n",
       "      <th>Tweet</th>\n",
       "      <th>Source</th>\n",
       "      <th>Date</th>\n",
       "      <th>Likes</th>\n",
       "      <th>Retweet</th>\n",
       "    </tr>\n",
       "  </thead>\n",
       "  <tbody>\n",
       "    <tr>\n",
       "      <th>0</th>\n",
       "      <td>0</td>\n",
       "      <td>1199559006777487360</td>\n",
       "      <td>how’s everyone’s 2019 so far?</td>\n",
       "      <td>Twitter Web App</td>\n",
       "      <td>2019-11-27 05:22:08</td>\n",
       "      <td>6</td>\n",
       "      <td>1</td>\n",
       "    </tr>\n",
       "    <tr>\n",
       "      <th>1</th>\n",
       "      <td>1</td>\n",
       "      <td>1088457900547174406</td>\n",
       "      <td>22 successful founders and marketers give thei...</td>\n",
       "      <td>Buffer</td>\n",
       "      <td>2019-01-24 15:26:00</td>\n",
       "      <td>58</td>\n",
       "      <td>21</td>\n",
       "    </tr>\n",
       "  </tbody>\n",
       "</table>\n",
       "</div>"
      ],
      "text/plain": [
       "   Unnamed: 0                   ID  \\\n",
       "0           0  1199559006777487360   \n",
       "1           1  1088457900547174406   \n",
       "\n",
       "                                               Tweet           Source  \\\n",
       "0                      how’s everyone’s 2019 so far?  Twitter Web App   \n",
       "1  22 successful founders and marketers give thei...           Buffer   \n",
       "\n",
       "                  Date  Likes  Retweet  \n",
       "0  2019-11-27 05:22:08      6        1  \n",
       "1  2019-01-24 15:26:00     58       21  "
      ]
     },
     "execution_count": 17,
     "metadata": {},
     "output_type": "execute_result"
    }
   ],
   "source": [
    "marketing.head(2)"
   ]
  },
  {
   "cell_type": "markdown",
   "metadata": {},
   "source": [
    "<i><b><font style=\"font-family:cursive; font-size:18px; color:#660033;\">Théme n°2 : Travel"
   ]
  },
  {
   "cell_type": "code",
   "execution_count": 18,
   "metadata": {},
   "outputs": [
    {
     "name": "stdout",
     "output_type": "stream",
     "text": [
      "Getting tweets before 1241352120357576704\n",
      "Number of Tweets have been downloaded so far: 400\n",
      "Getting tweets before 1214723901307138047\n",
      "Number of Tweets have been downloaded so far: 600\n",
      "Getting tweets before 1162803789386211327\n",
      "Number of Tweets have been downloaded so far: 800\n",
      "Getting tweets before 988562731329507327\n",
      "Number of Tweets have been downloaded so far: 1000\n",
      "Getting tweets before 908131307728781312\n",
      "Number of Tweets have been downloaded so far: 1200\n",
      "Getting tweets before 868261561583796224\n",
      "Number of Tweets have been downloaded so far: 1400\n",
      "Getting tweets before 827750300110954496\n",
      "Number of Tweets have been downloaded so far: 1600\n",
      "Getting tweets before 814685675278700543\n",
      "Number of Tweets have been downloaded so far: 1799\n",
      "Getting tweets before 802002954328932351\n",
      "Number of Tweets have been downloaded so far: 1999\n",
      "Getting tweets before 791434421954080767\n",
      "Number of Tweets have been downloaded so far: 2199\n",
      "Getting tweets before 781182692863991807\n",
      "Number of Tweets have been downloaded so far: 2399\n",
      "Getting tweets before 769586281412255743\n",
      "Number of Tweets have been downloaded so far: 2599\n",
      "Getting tweets before 758714791338835967\n",
      "Number of Tweets have been downloaded so far: 2799\n",
      "Getting tweets before 749292575975145471\n",
      "Number of Tweets have been downloaded so far: 2997\n",
      "Getting tweets before 739232812939775999\n",
      "Number of Tweets have been downloaded so far: 3197\n",
      "Getting tweets before 729055488667717631\n",
      "Number of Tweets have been downloaded so far: 3245\n",
      "Getting tweets before 726462197254225920\n",
      "Number of Tweets have been downloaded so far: 3245\n"
     ]
    }
   ],
   "source": [
    "screen_name_2=\"travel\"\n",
    "\n",
    "def get_all_tweets(screen_name_2):\n",
    "    auth=tweepy.OAuthHandler(consumer_key, consumer_secret)\n",
    "    auth.set_access_token(access_key, access_secret)\n",
    "    api=tweepy.API(auth)\n",
    "    \n",
    "    tweets=[]\n",
    "    new_tweets=api.user_timeline(screen_name=screen_name_2, count=2000)\n",
    "    tweets.extend(new_tweets)\n",
    "    \n",
    "    oldest=tweets[-1].id-1\n",
    "    \n",
    "    while len(new_tweets)>0:\n",
    "        print(f\"Getting tweets before {oldest}\")\n",
    "        #all request will include oldest parameter to exclude the chances of the duplicates \n",
    "        new_tweets=api.user_timeline(screen_name=screen_name_2, count=2000, max_id=oldest)\n",
    "        tweets.extend(new_tweets)\n",
    "        oldest=tweets[-1].id-1\n",
    "        print(f\"Number of Tweets have been downloaded so far: {len(tweets)}\")\n",
    "    \n",
    "    return tweets\n",
    "\n",
    "tweets=get_all_tweets(screen_name_2)"
   ]
  },
  {
   "cell_type": "code",
   "execution_count": 19,
   "metadata": {},
   "outputs": [
    {
     "name": "stdout",
     "output_type": "stream",
     "text": [
      "2 recent Tweets\n",
      "Wizards hat, Oregon, USA! \n",
      "📸: ©Chip Phillips https://t.co/01zPcDq0ek\n",
      "\n",
      "The Wave, Arizona, U.S. \n",
      "📸: © Travis Burke https://t.co/TA8u9mEVCp\n",
      "\n"
     ]
    }
   ],
   "source": [
    "print(\"2 recent Tweets\")\n",
    "for tweet in tweets[:2]:\n",
    "    print(tweet.text)\n",
    "    print()"
   ]
  },
  {
   "cell_type": "markdown",
   "metadata": {},
   "source": [
    "<i><b><font style=\"font-family:cursive; font-size:15px; color:#660033;\">Créer le fichier CSV : travel.csv"
   ]
  },
  {
   "cell_type": "code",
   "execution_count": 20,
   "metadata": {},
   "outputs": [],
   "source": [
    "def TDFT(tweets2):\n",
    "    tweets1 = pd.DataFrame()\n",
    "    tweets1['ID'] = [tweet.id for tweet in tweets2]\n",
    "    tweets1['Tweet'] = [tweet.text for tweet in tweets2]\n",
    "    tweets1['Source'] = [tweet.source for tweet in tweets2]\n",
    "    tweets1['Date'] = [tweet.created_at for tweet in tweets2]\n",
    "    tweets1['Likes'] = [tweet.favorite_count for tweet in tweets2]\n",
    "    tweets1['Retweet'] = [tweet.retweet_count for tweet in tweets2]\n",
    "    tweets1.to_csv(f'Datasets/_{screen_name_2}_.csv')\n",
    "    return tweets1\n",
    "\n",
    "tweets3 = TDFT(tweets)\n",
    "travel = pd.read_csv('Datasets/_travel_.csv')"
   ]
  },
  {
   "cell_type": "code",
   "execution_count": 21,
   "metadata": {},
   "outputs": [
    {
     "data": {
      "text/plain": [
       "(3245, 7)"
      ]
     },
     "execution_count": 21,
     "metadata": {},
     "output_type": "execute_result"
    }
   ],
   "source": [
    "np.shape(travel)"
   ]
  },
  {
   "cell_type": "code",
   "execution_count": 22,
   "metadata": {},
   "outputs": [
    {
     "data": {
      "text/html": [
       "<div>\n",
       "<style scoped>\n",
       "    .dataframe tbody tr th:only-of-type {\n",
       "        vertical-align: middle;\n",
       "    }\n",
       "\n",
       "    .dataframe tbody tr th {\n",
       "        vertical-align: top;\n",
       "    }\n",
       "\n",
       "    .dataframe thead th {\n",
       "        text-align: right;\n",
       "    }\n",
       "</style>\n",
       "<table border=\"1\" class=\"dataframe\">\n",
       "  <thead>\n",
       "    <tr style=\"text-align: right;\">\n",
       "      <th></th>\n",
       "      <th>Unnamed: 0</th>\n",
       "      <th>ID</th>\n",
       "      <th>Tweet</th>\n",
       "      <th>Source</th>\n",
       "      <th>Date</th>\n",
       "      <th>Likes</th>\n",
       "      <th>Retweet</th>\n",
       "    </tr>\n",
       "  </thead>\n",
       "  <tbody>\n",
       "    <tr>\n",
       "      <th>0</th>\n",
       "      <td>0</td>\n",
       "      <td>1337082748750716930</td>\n",
       "      <td>Wizards hat, Oregon, USA! \\n📸: ©Chip Phillips ...</td>\n",
       "      <td>Twitter for iPhone</td>\n",
       "      <td>2020-12-10 17:12:23</td>\n",
       "      <td>1012</td>\n",
       "      <td>78</td>\n",
       "    </tr>\n",
       "    <tr>\n",
       "      <th>1</th>\n",
       "      <td>1</td>\n",
       "      <td>1336386000000528389</td>\n",
       "      <td>The Wave, Arizona, U.S. \\n📸: © Travis Burke ht...</td>\n",
       "      <td>Twitter for iPhone</td>\n",
       "      <td>2020-12-08 19:03:45</td>\n",
       "      <td>1325</td>\n",
       "      <td>142</td>\n",
       "    </tr>\n",
       "  </tbody>\n",
       "</table>\n",
       "</div>"
      ],
      "text/plain": [
       "   Unnamed: 0                   ID  \\\n",
       "0           0  1337082748750716930   \n",
       "1           1  1336386000000528389   \n",
       "\n",
       "                                               Tweet              Source  \\\n",
       "0  Wizards hat, Oregon, USA! \\n📸: ©Chip Phillips ...  Twitter for iPhone   \n",
       "1  The Wave, Arizona, U.S. \\n📸: © Travis Burke ht...  Twitter for iPhone   \n",
       "\n",
       "                  Date  Likes  Retweet  \n",
       "0  2020-12-10 17:12:23   1012       78  \n",
       "1  2020-12-08 19:03:45   1325      142  "
      ]
     },
     "execution_count": 22,
     "metadata": {},
     "output_type": "execute_result"
    }
   ],
   "source": [
    "travel.head(2)"
   ]
  },
  {
   "cell_type": "markdown",
   "metadata": {},
   "source": [
    "<i><b><font style=\"font-family:cursive; font-size:18px; color:#660033;\">Théme n°3 : Google"
   ]
  },
  {
   "cell_type": "code",
   "execution_count": 23,
   "metadata": {},
   "outputs": [
    {
     "name": "stdout",
     "output_type": "stream",
     "text": [
      "Getting tweets before 1338167606281465857\n",
      "Number of Tweets have been downloaded so far: 400\n",
      "Getting tweets before 1337140120424738818\n",
      "Number of Tweets have been downloaded so far: 600\n",
      "Getting tweets before 1336597524455579647\n",
      "Number of Tweets have been downloaded so far: 800\n",
      "Getting tweets before 1334528703393619967\n",
      "Number of Tweets have been downloaded so far: 1000\n",
      "Getting tweets before 1331828016817860608\n",
      "Number of Tweets have been downloaded so far: 1200\n",
      "Getting tweets before 1331104609281208319\n",
      "Number of Tweets have been downloaded so far: 1400\n",
      "Getting tweets before 1329663010965770245\n",
      "Number of Tweets have been downloaded so far: 1600\n",
      "Getting tweets before 1328756151605932031\n",
      "Number of Tweets have been downloaded so far: 1800\n",
      "Getting tweets before 1327223237529497603\n",
      "Number of Tweets have been downloaded so far: 2000\n",
      "Getting tweets before 1326448347281035264\n",
      "Number of Tweets have been downloaded so far: 2200\n",
      "Getting tweets before 1324365703831556096\n",
      "Number of Tweets have been downloaded so far: 2400\n",
      "Getting tweets before 1323474748639219711\n",
      "Number of Tweets have been downloaded so far: 2600\n",
      "Getting tweets before 1322123037064482815\n",
      "Number of Tweets have been downloaded so far: 2800\n",
      "Getting tweets before 1321340649128550399\n",
      "Number of Tweets have been downloaded so far: 3000\n",
      "Getting tweets before 1320624929973391359\n",
      "Number of Tweets have been downloaded so far: 3200\n",
      "Getting tweets before 1319187745680523263\n",
      "Number of Tweets have been downloaded so far: 3250\n",
      "Getting tweets before 1318916917382533120\n",
      "Number of Tweets have been downloaded so far: 3250\n"
     ]
    }
   ],
   "source": [
    "screen_name_3=\"google\"\n",
    "\n",
    "def get_all_tweets(screen_name_3):\n",
    "    auth=tweepy.OAuthHandler(consumer_key, consumer_secret)\n",
    "    auth.set_access_token(access_key, access_secret)\n",
    "    api=tweepy.API(auth)\n",
    "    \n",
    "    tweets=[]\n",
    "    new_tweets=api.user_timeline(screen_name=screen_name_3, count=2000)\n",
    "    tweets.extend(new_tweets)\n",
    "    \n",
    "    oldest=tweets[-1].id-1\n",
    "    \n",
    "    while len(new_tweets)>0:\n",
    "        print(f\"Getting tweets before {oldest}\")\n",
    "        #all request will include oldest parameter to exclude the chances of the duplicates \n",
    "        new_tweets=api.user_timeline(screen_name=screen_name_3, count=2000, max_id=oldest)\n",
    "        tweets.extend(new_tweets)\n",
    "        oldest=tweets[-1].id-1\n",
    "        print(f\"Number of Tweets have been downloaded so far: {len(tweets)}\")\n",
    "    \n",
    "    return tweets\n",
    "\n",
    "tweets=get_all_tweets(screen_name_3)"
   ]
  },
  {
   "cell_type": "code",
   "execution_count": 24,
   "metadata": {},
   "outputs": [
    {
     "name": "stdout",
     "output_type": "stream",
     "text": [
      "2 recent Tweets\n",
      "@im_harsh09 Hi there. Thanks for the feedback, we're constantly working on improving the product.\n",
      "\n",
      "RT @GoogleWorkspace: Looking to make your #GoogleMeet video calls more inclusive? We're expanding Meet live captions to French, German, Por…\n",
      "\n"
     ]
    }
   ],
   "source": [
    "print(\"2 recent Tweets\")\n",
    "for tweet in tweets[:2]:\n",
    "    print(tweet.text)\n",
    "    print()"
   ]
  },
  {
   "cell_type": "markdown",
   "metadata": {},
   "source": [
    "<i><b><font style=\"font-family:cursive; font-size:15px; color:#660033;\">Créer le fichier CSV : google.csv"
   ]
  },
  {
   "cell_type": "code",
   "execution_count": 25,
   "metadata": {},
   "outputs": [],
   "source": [
    "def TDFT(tweets2):\n",
    "    tweets1 = pd.DataFrame()\n",
    "    tweets1['ID'] = [tweet.id for tweet in tweets2]\n",
    "    tweets1['Tweet'] = [tweet.text for tweet in tweets2]\n",
    "    tweets1['Source'] = [tweet.source for tweet in tweets2]\n",
    "    tweets1['Date'] = [tweet.created_at for tweet in tweets2]\n",
    "    tweets1['Likes'] = [tweet.favorite_count for tweet in tweets2]\n",
    "    tweets1['Retweet'] = [tweet.retweet_count for tweet in tweets2]\n",
    "    tweets1.to_csv(f'Datasets/_{screen_name_3}_.csv')\n",
    "    return tweets1\n",
    "\n",
    "tweets3 = TDFT(tweets)\n",
    "google = pd.read_csv('Datasets/_google_.csv')"
   ]
  },
  {
   "cell_type": "code",
   "execution_count": 26,
   "metadata": {},
   "outputs": [
    {
     "data": {
      "text/plain": [
       "(3250, 7)"
      ]
     },
     "execution_count": 26,
     "metadata": {},
     "output_type": "execute_result"
    }
   ],
   "source": [
    "np.shape(google)"
   ]
  },
  {
   "cell_type": "code",
   "execution_count": 27,
   "metadata": {},
   "outputs": [
    {
     "data": {
      "text/html": [
       "<div>\n",
       "<style scoped>\n",
       "    .dataframe tbody tr th:only-of-type {\n",
       "        vertical-align: middle;\n",
       "    }\n",
       "\n",
       "    .dataframe tbody tr th {\n",
       "        vertical-align: top;\n",
       "    }\n",
       "\n",
       "    .dataframe thead th {\n",
       "        text-align: right;\n",
       "    }\n",
       "</style>\n",
       "<table border=\"1\" class=\"dataframe\">\n",
       "  <thead>\n",
       "    <tr style=\"text-align: right;\">\n",
       "      <th></th>\n",
       "      <th>Unnamed: 0</th>\n",
       "      <th>ID</th>\n",
       "      <th>Tweet</th>\n",
       "      <th>Source</th>\n",
       "      <th>Date</th>\n",
       "      <th>Likes</th>\n",
       "      <th>Retweet</th>\n",
       "    </tr>\n",
       "  </thead>\n",
       "  <tbody>\n",
       "    <tr>\n",
       "      <th>0</th>\n",
       "      <td>0</td>\n",
       "      <td>1338946962310246402</td>\n",
       "      <td>@im_harsh09 Hi there. Thanks for the feedback,...</td>\n",
       "      <td>Conversocial</td>\n",
       "      <td>2020-12-15 20:40:06</td>\n",
       "      <td>1</td>\n",
       "      <td>0</td>\n",
       "    </tr>\n",
       "    <tr>\n",
       "      <th>1</th>\n",
       "      <td>1</td>\n",
       "      <td>1338944754881417216</td>\n",
       "      <td>RT @GoogleWorkspace: Looking to make your #Goo...</td>\n",
       "      <td>Twitter Web App</td>\n",
       "      <td>2020-12-15 20:31:20</td>\n",
       "      <td>0</td>\n",
       "      <td>15</td>\n",
       "    </tr>\n",
       "  </tbody>\n",
       "</table>\n",
       "</div>"
      ],
      "text/plain": [
       "   Unnamed: 0                   ID  \\\n",
       "0           0  1338946962310246402   \n",
       "1           1  1338944754881417216   \n",
       "\n",
       "                                               Tweet           Source  \\\n",
       "0  @im_harsh09 Hi there. Thanks for the feedback,...     Conversocial   \n",
       "1  RT @GoogleWorkspace: Looking to make your #Goo...  Twitter Web App   \n",
       "\n",
       "                  Date  Likes  Retweet  \n",
       "0  2020-12-15 20:40:06      1        0  \n",
       "1  2020-12-15 20:31:20      0       15  "
      ]
     },
     "execution_count": 27,
     "metadata": {},
     "output_type": "execute_result"
    }
   ],
   "source": [
    "google.head(2)"
   ]
  },
  {
   "cell_type": "markdown",
   "metadata": {},
   "source": [
    "<i><b><font style=\"font-family:cursive; font-size:18px; color:#660033;\">Théme n°4 : Huawei"
   ]
  },
  {
   "cell_type": "code",
   "execution_count": 28,
   "metadata": {},
   "outputs": [
    {
     "name": "stdout",
     "output_type": "stream",
     "text": [
      "Getting tweets before 1336992106615767039\n",
      "Number of Tweets have been downloaded so far: 400\n",
      "Getting tweets before 1335189496229347329\n",
      "Number of Tweets have been downloaded so far: 600\n",
      "Getting tweets before 1331466725859020799\n",
      "Number of Tweets have been downloaded so far: 800\n",
      "Getting tweets before 1329317001026629631\n",
      "Number of Tweets have been downloaded so far: 1000\n",
      "Getting tweets before 1327176318056685568\n",
      "Number of Tweets have been downloaded so far: 1200\n",
      "Getting tweets before 1325015251910160384\n",
      "Number of Tweets have been downloaded so far: 1400\n",
      "Getting tweets before 1321698450224812032\n",
      "Number of Tweets have been downloaded so far: 1600\n",
      "Getting tweets before 1318874112035467269\n",
      "Number of Tweets have been downloaded so far: 1800\n",
      "Getting tweets before 1316339836593164289\n",
      "Number of Tweets have been downloaded so far: 2000\n",
      "Getting tweets before 1310919499672031232\n",
      "Number of Tweets have been downloaded so far: 2200\n",
      "Getting tweets before 1308754465076305924\n",
      "Number of Tweets have been downloaded so far: 2400\n",
      "Getting tweets before 1307137670750056447\n",
      "Number of Tweets have been downloaded so far: 2600\n",
      "Getting tweets before 1304740427891793919\n",
      "Number of Tweets have been downloaded so far: 2800\n",
      "Getting tweets before 1302858783605972992\n",
      "Number of Tweets have been downloaded so far: 3000\n",
      "Getting tweets before 1300408864576122881\n",
      "Number of Tweets have been downloaded so far: 3200\n",
      "Getting tweets before 1298163310810943487\n",
      "Number of Tweets have been downloaded so far: 3242\n",
      "Getting tweets before 1297818081733959679\n",
      "Number of Tweets have been downloaded so far: 3242\n"
     ]
    }
   ],
   "source": [
    "screen_name_4=\"huawei\"\n",
    "\n",
    "def get_all_tweets(screen_name_4):\n",
    "    auth=tweepy.OAuthHandler(consumer_key, consumer_secret)\n",
    "    auth.set_access_token(access_key, access_secret)\n",
    "    api=tweepy.API(auth)\n",
    "    \n",
    "    tweets=[]\n",
    "    new_tweets=api.user_timeline(screen_name=screen_name_4, count=200)\n",
    "    tweets.extend(new_tweets)\n",
    "    \n",
    "    oldest=tweets[-1].id-1\n",
    "    \n",
    "    while len(new_tweets)>0:\n",
    "        print(f\"Getting tweets before {oldest}\")\n",
    "        #all request will include oldest parameter to exclude the chances of the duplicates \n",
    "        new_tweets=api.user_timeline(screen_name=screen_name_4, count=200, max_id=oldest)\n",
    "        tweets.extend(new_tweets)\n",
    "        oldest=tweets[-1].id-1\n",
    "        print(f\"Number of Tweets have been downloaded so far: {len(tweets)}\")\n",
    "    \n",
    "    return tweets\n",
    "\n",
    "tweets=get_all_tweets(screen_name_4)"
   ]
  },
  {
   "cell_type": "code",
   "execution_count": 29,
   "metadata": {},
   "outputs": [
    {
     "name": "stdout",
     "output_type": "stream",
     "text": [
      "2 recent Tweets\n",
      "Who would you dine with this Christmas? #StayConnected, tag your holiday friends and keep the celebrations going. 🍴… https://t.co/9mPX4YxTr0\n",
      "\n",
      "Need tips on impressing your girl this Christmas? Here are a few ways to overcome the distance, show love, and… https://t.co/pM7Rw1ja31\n",
      "\n"
     ]
    }
   ],
   "source": [
    "print(\"2 recent Tweets\")\n",
    "for tweet in tweets[:2]:\n",
    "    print(tweet.text)\n",
    "    print()"
   ]
  },
  {
   "cell_type": "markdown",
   "metadata": {},
   "source": [
    "<i><b><font style=\"font-family:cursive; font-size:15px; color:#660033;\">Créer le fichier CSV : huawei.csv"
   ]
  },
  {
   "cell_type": "code",
   "execution_count": 30,
   "metadata": {},
   "outputs": [],
   "source": [
    "def TDFT(tweets2):\n",
    "    tweets1 = pd.DataFrame()\n",
    "    tweets1['ID'] = [tweet.id for tweet in tweets2]\n",
    "    tweets1['Tweet'] = [tweet.text for tweet in tweets2]\n",
    "    tweets1['Source'] = [tweet.source for tweet in tweets2]\n",
    "    tweets1['Date'] = [tweet.created_at for tweet in tweets2]\n",
    "    tweets1['Likes'] = [tweet.favorite_count for tweet in tweets2]\n",
    "    tweets1['Retweet'] = [tweet.retweet_count for tweet in tweets2]\n",
    "    tweets1.to_csv(f'Datasets/_{screen_name_4}_.csv')\n",
    "    return tweets1\n",
    "\n",
    "tweets3 = TDFT(tweets)\n",
    "huawei = pd.read_csv('Datasets/_huawei_.csv')"
   ]
  },
  {
   "cell_type": "code",
   "execution_count": 31,
   "metadata": {},
   "outputs": [
    {
     "data": {
      "text/plain": [
       "(3242, 7)"
      ]
     },
     "execution_count": 31,
     "metadata": {},
     "output_type": "execute_result"
    }
   ],
   "source": [
    "np.shape(huawei)"
   ]
  },
  {
   "cell_type": "code",
   "execution_count": 32,
   "metadata": {},
   "outputs": [
    {
     "data": {
      "text/html": [
       "<div>\n",
       "<style scoped>\n",
       "    .dataframe tbody tr th:only-of-type {\n",
       "        vertical-align: middle;\n",
       "    }\n",
       "\n",
       "    .dataframe tbody tr th {\n",
       "        vertical-align: top;\n",
       "    }\n",
       "\n",
       "    .dataframe thead th {\n",
       "        text-align: right;\n",
       "    }\n",
       "</style>\n",
       "<table border=\"1\" class=\"dataframe\">\n",
       "  <thead>\n",
       "    <tr style=\"text-align: right;\">\n",
       "      <th></th>\n",
       "      <th>Unnamed: 0</th>\n",
       "      <th>ID</th>\n",
       "      <th>Tweet</th>\n",
       "      <th>Source</th>\n",
       "      <th>Date</th>\n",
       "      <th>Likes</th>\n",
       "      <th>Retweet</th>\n",
       "    </tr>\n",
       "  </thead>\n",
       "  <tbody>\n",
       "    <tr>\n",
       "      <th>0</th>\n",
       "      <td>0</td>\n",
       "      <td>1338859357187022848</td>\n",
       "      <td>Who would you dine with this Christmas? #StayC...</td>\n",
       "      <td>Twitter Media Studio</td>\n",
       "      <td>2020-12-15 14:52:00</td>\n",
       "      <td>191</td>\n",
       "      <td>22</td>\n",
       "    </tr>\n",
       "    <tr>\n",
       "      <th>1</th>\n",
       "      <td>1</td>\n",
       "      <td>1338859105662824454</td>\n",
       "      <td>Need tips on impressing your girl this Christm...</td>\n",
       "      <td>Twitter Media Studio</td>\n",
       "      <td>2020-12-15 14:51:00</td>\n",
       "      <td>132</td>\n",
       "      <td>6</td>\n",
       "    </tr>\n",
       "  </tbody>\n",
       "</table>\n",
       "</div>"
      ],
      "text/plain": [
       "   Unnamed: 0                   ID  \\\n",
       "0           0  1338859357187022848   \n",
       "1           1  1338859105662824454   \n",
       "\n",
       "                                               Tweet                Source  \\\n",
       "0  Who would you dine with this Christmas? #StayC...  Twitter Media Studio   \n",
       "1  Need tips on impressing your girl this Christm...  Twitter Media Studio   \n",
       "\n",
       "                  Date  Likes  Retweet  \n",
       "0  2020-12-15 14:52:00    191       22  \n",
       "1  2020-12-15 14:51:00    132        6  "
      ]
     },
     "execution_count": 32,
     "metadata": {},
     "output_type": "execute_result"
    }
   ],
   "source": [
    "huawei.head(2)"
   ]
  },
  {
   "cell_type": "markdown",
   "metadata": {},
   "source": [
    "<i><b><font style=\"font-family:cursive; font-size:15px; color:#660033;\">Théme n°5 : Care"
   ]
  },
  {
   "cell_type": "code",
   "execution_count": 33,
   "metadata": {},
   "outputs": [
    {
     "name": "stdout",
     "output_type": "stream",
     "text": [
      "Getting tweets before 1326197848350797823\n",
      "Number of Tweets have been downloaded so far: 400\n",
      "Getting tweets before 1314990338117951492\n",
      "Number of Tweets have been downloaded so far: 600\n",
      "Getting tweets before 1309138252415356927\n",
      "Number of Tweets have been downloaded so far: 800\n",
      "Getting tweets before 1299003852532965376\n",
      "Number of Tweets have been downloaded so far: 1000\n",
      "Getting tweets before 1291382478876401664\n",
      "Number of Tweets have been downloaded so far: 1200\n",
      "Getting tweets before 1282788523960041477\n",
      "Number of Tweets have been downloaded so far: 1400\n",
      "Getting tweets before 1273359380566740991\n",
      "Number of Tweets have been downloaded so far: 1600\n",
      "Getting tweets before 1263191528673095679\n",
      "Number of Tweets have been downloaded so far: 1800\n",
      "Getting tweets before 1255213865387819007\n",
      "Number of Tweets have been downloaded so far: 2000\n",
      "Getting tweets before 1247255400879140866\n",
      "Number of Tweets have been downloaded so far: 2200\n",
      "Getting tweets before 1239993698135539712\n",
      "Number of Tweets have been downloaded so far: 2400\n",
      "Getting tweets before 1234527208552718335\n",
      "Number of Tweets have been downloaded so far: 2600\n",
      "Getting tweets before 1222577763615432703\n",
      "Number of Tweets have been downloaded so far: 2800\n",
      "Getting tweets before 1211323529767116799\n",
      "Number of Tweets have been downloaded so far: 3000\n",
      "Getting tweets before 1201902131042824193\n",
      "Number of Tweets have been downloaded so far: 3199\n",
      "Getting tweets before 1187017434307485696\n",
      "Number of Tweets have been downloaded so far: 3225\n",
      "Getting tweets before 1185246583429980160\n",
      "Number of Tweets have been downloaded so far: 3225\n"
     ]
    }
   ],
   "source": [
    "screen_name_5=\"care\"\n",
    "\n",
    "def get_all_tweets(screen_name_5):\n",
    "    auth=tweepy.OAuthHandler(consumer_key, consumer_secret)\n",
    "    auth.set_access_token(access_key, access_secret)\n",
    "    api=tweepy.API(auth)\n",
    "    \n",
    "    tweets=[]\n",
    "    new_tweets=api.user_timeline(screen_name=screen_name_5, count=200)\n",
    "    tweets.extend(new_tweets)\n",
    "    \n",
    "    oldest=tweets[-1].id-1\n",
    "    \n",
    "    while len(new_tweets)>0:\n",
    "        print(f\"Getting tweets before {oldest}\")\n",
    "        #all request will include oldest parameter to exclude the chances of the duplicates \n",
    "        new_tweets=api.user_timeline(screen_name=screen_name_5, count=200, max_id=oldest)\n",
    "        tweets.extend(new_tweets)\n",
    "        oldest=tweets[-1].id-1\n",
    "        print(f\"Number of Tweets have been downloaded so far: {len(tweets)}\")\n",
    "    \n",
    "    return tweets\n",
    "\n",
    "tweets=get_all_tweets(screen_name_5)"
   ]
  },
  {
   "cell_type": "code",
   "execution_count": 34,
   "metadata": {},
   "outputs": [
    {
     "name": "stdout",
     "output_type": "stream",
     "text": [
      "2 recent Tweets\n",
      "RT @NewsHour: The pandemic has plunged many Americans into economic distress and food insecurity. CARE, which has helped people around the…\n",
      "\n",
      "\"We are dying here from hunger, lack of shelter and clothing.\" Over 50,000 people have fled violent conflict in Eth… https://t.co/UQ60LCV3vZ\n",
      "\n"
     ]
    }
   ],
   "source": [
    "print(\"2 recent Tweets\")\n",
    "for tweet in tweets[:2]:\n",
    "    print(tweet.text)\n",
    "    print()"
   ]
  },
  {
   "cell_type": "markdown",
   "metadata": {},
   "source": [
    "<i><b><font style=\"font-family:cursive; font-size:15px; color:#660033;\">Créer le fichier CSV : care.csv"
   ]
  },
  {
   "cell_type": "code",
   "execution_count": 36,
   "metadata": {},
   "outputs": [],
   "source": [
    "def TDFT(tweets2):\n",
    "    tweets1 = pd.DataFrame()\n",
    "    tweets1['ID'] = [tweet.id for tweet in tweets2]\n",
    "    tweets1['Tweet'] = [tweet.text for tweet in tweets2]\n",
    "    tweets1['Source'] = [tweet.source for tweet in tweets2]\n",
    "    tweets1['Date'] = [tweet.created_at for tweet in tweets2]\n",
    "    tweets1['Likes'] = [tweet.favorite_count for tweet in tweets2]\n",
    "    tweets1['Retweet'] = [tweet.retweet_count for tweet in tweets2]\n",
    "    tweets1.to_csv(f'Datasets/_{screen_name_5}_.csv')\n",
    "    return tweets1\n",
    "\n",
    "tweets3 = TDFT(tweets)\n",
    "care = pd.read_csv('Datasets/_care_.csv')"
   ]
  },
  {
   "cell_type": "code",
   "execution_count": 37,
   "metadata": {},
   "outputs": [
    {
     "data": {
      "text/plain": [
       "(3225, 7)"
      ]
     },
     "execution_count": 37,
     "metadata": {},
     "output_type": "execute_result"
    }
   ],
   "source": [
    "np.shape(care)"
   ]
  },
  {
   "cell_type": "code",
   "execution_count": 38,
   "metadata": {},
   "outputs": [
    {
     "data": {
      "text/html": [
       "<div>\n",
       "<style scoped>\n",
       "    .dataframe tbody tr th:only-of-type {\n",
       "        vertical-align: middle;\n",
       "    }\n",
       "\n",
       "    .dataframe tbody tr th {\n",
       "        vertical-align: top;\n",
       "    }\n",
       "\n",
       "    .dataframe thead th {\n",
       "        text-align: right;\n",
       "    }\n",
       "</style>\n",
       "<table border=\"1\" class=\"dataframe\">\n",
       "  <thead>\n",
       "    <tr style=\"text-align: right;\">\n",
       "      <th></th>\n",
       "      <th>Unnamed: 0</th>\n",
       "      <th>ID</th>\n",
       "      <th>Tweet</th>\n",
       "      <th>Source</th>\n",
       "      <th>Date</th>\n",
       "      <th>Likes</th>\n",
       "      <th>Retweet</th>\n",
       "    </tr>\n",
       "  </thead>\n",
       "  <tbody>\n",
       "    <tr>\n",
       "      <th>0</th>\n",
       "      <td>0</td>\n",
       "      <td>1338892315134488578</td>\n",
       "      <td>RT @NewsHour: The pandemic has plunged many Am...</td>\n",
       "      <td>Twitter Web App</td>\n",
       "      <td>2020-12-15 17:02:58</td>\n",
       "      <td>0</td>\n",
       "      <td>40</td>\n",
       "    </tr>\n",
       "    <tr>\n",
       "      <th>1</th>\n",
       "      <td>1</td>\n",
       "      <td>1338885311770857472</td>\n",
       "      <td>\"We are dying here from hunger, lack of shelte...</td>\n",
       "      <td>Hootsuite Inc.</td>\n",
       "      <td>2020-12-15 16:35:08</td>\n",
       "      <td>5</td>\n",
       "      <td>4</td>\n",
       "    </tr>\n",
       "  </tbody>\n",
       "</table>\n",
       "</div>"
      ],
      "text/plain": [
       "   Unnamed: 0                   ID  \\\n",
       "0           0  1338892315134488578   \n",
       "1           1  1338885311770857472   \n",
       "\n",
       "                                               Tweet           Source  \\\n",
       "0  RT @NewsHour: The pandemic has plunged many Am...  Twitter Web App   \n",
       "1  \"We are dying here from hunger, lack of shelte...   Hootsuite Inc.   \n",
       "\n",
       "                  Date  Likes  Retweet  \n",
       "0  2020-12-15 17:02:58      0       40  \n",
       "1  2020-12-15 16:35:08      5        4  "
      ]
     },
     "execution_count": 38,
     "metadata": {},
     "output_type": "execute_result"
    }
   ],
   "source": [
    "care.head(2)"
   ]
  },
  {
   "cell_type": "markdown",
   "metadata": {},
   "source": [
    "<i><b><font style=\"font-family:cursive; font-size:15px; color:#660033;\">Théme n°6 : Cristiano Ronaldo"
   ]
  },
  {
   "cell_type": "code",
   "execution_count": 39,
   "metadata": {},
   "outputs": [
    {
     "name": "stdout",
     "output_type": "stream",
     "text": [
      "Getting tweets before 1153717877704450047\n",
      "Number of Tweets have been downloaded so far: 400\n",
      "Getting tweets before 1029788480451293184\n",
      "Number of Tweets have been downloaded so far: 600\n",
      "Getting tweets before 929651230670032895\n",
      "Number of Tweets have been downloaded so far: 800\n",
      "Getting tweets before 850416602805829632\n",
      "Number of Tweets have been downloaded so far: 1000\n",
      "Getting tweets before 768874777046028288\n",
      "Number of Tweets have been downloaded so far: 1200\n",
      "Getting tweets before 686513541814325247\n",
      "Number of Tweets have been downloaded so far: 1400\n",
      "Getting tweets before 563372665063612415\n",
      "Number of Tweets have been downloaded so far: 1600\n",
      "Getting tweets before 497017668785164287\n",
      "Number of Tweets have been downloaded so far: 1798\n",
      "Getting tweets before 458640075530977279\n",
      "Number of Tweets have been downloaded so far: 1995\n",
      "Getting tweets before 410396045496303615\n",
      "Number of Tweets have been downloaded so far: 2195\n",
      "Getting tweets before 370185467636883456\n",
      "Number of Tweets have been downloaded so far: 2388\n",
      "Getting tweets before 323806273084731391\n",
      "Number of Tweets have been downloaded so far: 2560\n",
      "Getting tweets before 285050816761585663\n",
      "Number of Tweets have been downloaded so far: 2754\n",
      "Getting tweets before 213538300261179391\n",
      "Number of Tweets have been downloaded so far: 2952\n",
      "Getting tweets before 119513704692858880\n",
      "Number of Tweets have been downloaded so far: 3152\n",
      "Getting tweets before 34374424408887295\n",
      "Number of Tweets have been downloaded so far: 3174\n",
      "Getting tweets before 32508748819857409\n",
      "Number of Tweets have been downloaded so far: 3174\n"
     ]
    }
   ],
   "source": [
    "screen_name_7=\"cristiano\"\n",
    "\n",
    "def get_all_tweets(screen_name_7):\n",
    "    auth=tweepy.OAuthHandler(consumer_key, consumer_secret)\n",
    "    auth.set_access_token(access_key, access_secret)\n",
    "    api=tweepy.API(auth)\n",
    "    \n",
    "    tweets=[]\n",
    "    new_tweets=api.user_timeline(screen_name=screen_name_7, count=200)\n",
    "    tweets.extend(new_tweets)\n",
    "    \n",
    "    oldest=tweets[-1].id-1\n",
    "    \n",
    "    while len(new_tweets)>0:\n",
    "        print(f\"Getting tweets before {oldest}\")\n",
    "        #all request will include oldest parameter to exclude the chances of the duplicates \n",
    "        new_tweets=api.user_timeline(screen_name=screen_name_7, count=200, max_id=oldest)\n",
    "        tweets.extend(new_tweets)\n",
    "        oldest=tweets[-1].id-1\n",
    "        print(f\"Number of Tweets have been downloaded so far: {len(tweets)}\")\n",
    "    \n",
    "    return tweets\n",
    "\n",
    "tweets=get_all_tweets(screen_name_7)"
   ]
  },
  {
   "cell_type": "code",
   "execution_count": 40,
   "metadata": {},
   "outputs": [
    {
     "name": "stdout",
     "output_type": "stream",
     "text": [
      "2 recent Tweets\n",
      "I’m very honoured to be part of France Football’s All Time 11. What an amazing Dream Team... They all deserve my re… https://t.co/jCbIF5TURt\n",
      "\n",
      "I'm honored and proud to be among the finalists for the Globe Soccer Player of the Year and Player of the Century a… https://t.co/jmSx0Q2WAk\n",
      "\n"
     ]
    }
   ],
   "source": [
    "print(\"2 recent Tweets\")\n",
    "for tweet in tweets[:2]:\n",
    "    print(tweet.text)\n",
    "    print()"
   ]
  },
  {
   "cell_type": "markdown",
   "metadata": {},
   "source": [
    "<i><b><font style=\"font-family:cursive; font-size:15px; color:#660033;\">Créer le fichier CSV : cristiano.csv"
   ]
  },
  {
   "cell_type": "code",
   "execution_count": 41,
   "metadata": {},
   "outputs": [],
   "source": [
    "def TDFT(tweets2):\n",
    "    tweets1 = pd.DataFrame()\n",
    "    tweets1['ID'] = [tweet.id for tweet in tweets2]\n",
    "    tweets1['Tweet'] = [tweet.text for tweet in tweets2]\n",
    "    tweets1['Source'] = [tweet.source for tweet in tweets2]\n",
    "    tweets1['Date'] = [tweet.created_at for tweet in tweets2]\n",
    "    tweets1['Likes'] = [tweet.favorite_count for tweet in tweets2]\n",
    "    tweets1['Retweet'] = [tweet.retweet_count for tweet in tweets2]\n",
    "    tweets1.to_csv(f'Datasets/_{screen_name_7}_.csv')\n",
    "    return tweets1\n",
    "\n",
    "tweets3 = TDFT(tweets)\n",
    "cristiano = pd.read_csv('Datasets/_cristiano_.csv')"
   ]
  },
  {
   "cell_type": "code",
   "execution_count": 42,
   "metadata": {},
   "outputs": [
    {
     "data": {
      "text/plain": [
       "(3174, 7)"
      ]
     },
     "execution_count": 42,
     "metadata": {},
     "output_type": "execute_result"
    }
   ],
   "source": [
    "np.shape(cristiano)"
   ]
  },
  {
   "cell_type": "code",
   "execution_count": 43,
   "metadata": {},
   "outputs": [
    {
     "data": {
      "text/html": [
       "<div>\n",
       "<style scoped>\n",
       "    .dataframe tbody tr th:only-of-type {\n",
       "        vertical-align: middle;\n",
       "    }\n",
       "\n",
       "    .dataframe tbody tr th {\n",
       "        vertical-align: top;\n",
       "    }\n",
       "\n",
       "    .dataframe thead th {\n",
       "        text-align: right;\n",
       "    }\n",
       "</style>\n",
       "<table border=\"1\" class=\"dataframe\">\n",
       "  <thead>\n",
       "    <tr style=\"text-align: right;\">\n",
       "      <th></th>\n",
       "      <th>Unnamed: 0</th>\n",
       "      <th>ID</th>\n",
       "      <th>Tweet</th>\n",
       "      <th>Source</th>\n",
       "      <th>Date</th>\n",
       "      <th>Likes</th>\n",
       "      <th>Retweet</th>\n",
       "    </tr>\n",
       "  </thead>\n",
       "  <tbody>\n",
       "    <tr>\n",
       "      <th>0</th>\n",
       "      <td>0</td>\n",
       "      <td>1338591389534314498</td>\n",
       "      <td>I’m very honoured to be part of France Footbal...</td>\n",
       "      <td>Twitter for iPhone</td>\n",
       "      <td>2020-12-14 21:07:11</td>\n",
       "      <td>233232</td>\n",
       "      <td>13405</td>\n",
       "    </tr>\n",
       "    <tr>\n",
       "      <th>1</th>\n",
       "      <td>1</td>\n",
       "      <td>1338422100638490624</td>\n",
       "      <td>I'm honored and proud to be among the finalist...</td>\n",
       "      <td>Twitter for iPhone</td>\n",
       "      <td>2020-12-14 09:54:30</td>\n",
       "      <td>187893</td>\n",
       "      <td>9900</td>\n",
       "    </tr>\n",
       "  </tbody>\n",
       "</table>\n",
       "</div>"
      ],
      "text/plain": [
       "   Unnamed: 0                   ID  \\\n",
       "0           0  1338591389534314498   \n",
       "1           1  1338422100638490624   \n",
       "\n",
       "                                               Tweet              Source  \\\n",
       "0  I’m very honoured to be part of France Footbal...  Twitter for iPhone   \n",
       "1  I'm honored and proud to be among the finalist...  Twitter for iPhone   \n",
       "\n",
       "                  Date   Likes  Retweet  \n",
       "0  2020-12-14 21:07:11  233232    13405  \n",
       "1  2020-12-14 09:54:30  187893     9900  "
      ]
     },
     "execution_count": 43,
     "metadata": {},
     "output_type": "execute_result"
    }
   ],
   "source": [
    "cristiano.head(2)"
   ]
  },
  {
   "cell_type": "markdown",
   "metadata": {},
   "source": [
    "<b><i><font style=\"font-family:cursive; font-size:24px; color:#FF0033\">IV - Fusionner les fichiers CSV "
   ]
  },
  {
   "cell_type": "markdown",
   "metadata": {},
   "source": [
    "<i><font style=\"font-family:cursive;\"> <b>all_tweets</b> est une vafriable contient toutes les fichiers csv qu'ils sont dans le dossier d'environnement de travail."
   ]
  },
  {
   "cell_type": "code",
   "execution_count": 44,
   "metadata": {},
   "outputs": [
    {
     "name": "stdout",
     "output_type": "stream",
     "text": [
      "['Datasets\\\\_care_.csv', 'Datasets\\\\_cristiano_.csv', 'Datasets\\\\_google_.csv', 'Datasets\\\\_huawei_.csv', 'Datasets\\\\_marketing_.csv', 'Datasets\\\\_travel_.csv']\n"
     ]
    }
   ],
   "source": [
    "import glob\n",
    "\n",
    "extension = 'csv'\n",
    "all_tweets = [i for i in glob.glob('Datasets/*.csv')]\n",
    "print(all_tweets)"
   ]
  },
  {
   "cell_type": "markdown",
   "metadata": {},
   "source": [
    "<i><font style=\"font-family:cursive;\"> <b>concat</b> permet de faire la concatination de toutes les fichiers csv."
   ]
  },
  {
   "cell_type": "code",
   "execution_count": 45,
   "metadata": {},
   "outputs": [],
   "source": [
    "df = pd.concat([pd.read_csv(j) for j in all_tweets])\n",
    "df.to_csv(\"Datasets/my_tweets.csv\", index=False, encoding='utf-8-sig')"
   ]
  },
  {
   "cell_type": "markdown",
   "metadata": {},
   "source": [
    "<hr>"
   ]
  },
  {
   "cell_type": "markdown",
   "metadata": {},
   "source": [
    "<font style=\"font-family:cursive; font-size:24px; color:#FF0033\"><b><i>V - Data Preparation</i></b></font><br/><br/>\n",
    "<font style=\"font-family:cursive;\">\n",
    "Le terme « préparation des données » désigne les opérations de nettoyage et transformation qui doivent être appliqués aux données brutes avant leur traitement et analyse. Il s’agit d’une étape importante avant le traitement proprement dit, qui implique souvent de reformater et corriger les données et de combiner des datasets pour enrichir certaines données.\n",
    "<br/>\n",
    "La première étape de la data preparation consiste à pouvoir accéder aux données de n’importe quelle source, quel qu’en soit l’origine, le récit ou le format"
   ]
  },
  {
   "cell_type": "markdown",
   "metadata": {},
   "source": [
    "<i><font style=\"font-family:cursive; font-size:20px; color:#6666FF\">1 - Chargement des données : Data Retrievel</font><br/><br/>"
   ]
  },
  {
   "cell_type": "code",
   "execution_count": 46,
   "metadata": {},
   "outputs": [
    {
     "data": {
      "text/plain": [
       "(18586, 7)"
      ]
     },
     "execution_count": 46,
     "metadata": {},
     "output_type": "execute_result"
    }
   ],
   "source": [
    "my_data = pd.read_csv(\"Datasets/my_tweets.csv\")\n",
    "np.shape(my_data)"
   ]
  },
  {
   "cell_type": "code",
   "execution_count": 47,
   "metadata": {},
   "outputs": [
    {
     "data": {
      "text/html": [
       "<div>\n",
       "<style scoped>\n",
       "    .dataframe tbody tr th:only-of-type {\n",
       "        vertical-align: middle;\n",
       "    }\n",
       "\n",
       "    .dataframe tbody tr th {\n",
       "        vertical-align: top;\n",
       "    }\n",
       "\n",
       "    .dataframe thead th {\n",
       "        text-align: right;\n",
       "    }\n",
       "</style>\n",
       "<table border=\"1\" class=\"dataframe\">\n",
       "  <thead>\n",
       "    <tr style=\"text-align: right;\">\n",
       "      <th></th>\n",
       "      <th>Unnamed: 0</th>\n",
       "      <th>ID</th>\n",
       "      <th>Tweet</th>\n",
       "      <th>Source</th>\n",
       "      <th>Date</th>\n",
       "      <th>Likes</th>\n",
       "      <th>Retweet</th>\n",
       "    </tr>\n",
       "  </thead>\n",
       "  <tbody>\n",
       "    <tr>\n",
       "      <th>0</th>\n",
       "      <td>0</td>\n",
       "      <td>1338892315134488578</td>\n",
       "      <td>RT @NewsHour: The pandemic has plunged many Am...</td>\n",
       "      <td>Twitter Web App</td>\n",
       "      <td>2020-12-15 17:02:58</td>\n",
       "      <td>0</td>\n",
       "      <td>40</td>\n",
       "    </tr>\n",
       "    <tr>\n",
       "      <th>1</th>\n",
       "      <td>1</td>\n",
       "      <td>1338885311770857472</td>\n",
       "      <td>\"We are dying here from hunger, lack of shelte...</td>\n",
       "      <td>Hootsuite Inc.</td>\n",
       "      <td>2020-12-15 16:35:08</td>\n",
       "      <td>5</td>\n",
       "      <td>4</td>\n",
       "    </tr>\n",
       "    <tr>\n",
       "      <th>2</th>\n",
       "      <td>2</td>\n",
       "      <td>1338588498102800389</td>\n",
       "      <td>RT @MichelleNunn: Thank you to @Kimwilliamspai...</td>\n",
       "      <td>Twitter Web App</td>\n",
       "      <td>2020-12-14 20:55:42</td>\n",
       "      <td>0</td>\n",
       "      <td>2</td>\n",
       "    </tr>\n",
       "    <tr>\n",
       "      <th>3</th>\n",
       "      <td>3</td>\n",
       "      <td>1338564072384696320</td>\n",
       "      <td>RT @Kimwilliamspais: Thanks to @CARE CEO @Mich...</td>\n",
       "      <td>Twitter Web App</td>\n",
       "      <td>2020-12-14 19:18:38</td>\n",
       "      <td>0</td>\n",
       "      <td>4</td>\n",
       "    </tr>\n",
       "    <tr>\n",
       "      <th>4</th>\n",
       "      <td>4</td>\n",
       "      <td>1338558680296513538</td>\n",
       "      <td>ICYMI: CARE Ambassador @Kimwilliamspais and he...</td>\n",
       "      <td>Twitter Web App</td>\n",
       "      <td>2020-12-14 18:57:13</td>\n",
       "      <td>50</td>\n",
       "      <td>9</td>\n",
       "    </tr>\n",
       "  </tbody>\n",
       "</table>\n",
       "</div>"
      ],
      "text/plain": [
       "   Unnamed: 0                   ID  \\\n",
       "0           0  1338892315134488578   \n",
       "1           1  1338885311770857472   \n",
       "2           2  1338588498102800389   \n",
       "3           3  1338564072384696320   \n",
       "4           4  1338558680296513538   \n",
       "\n",
       "                                               Tweet           Source  \\\n",
       "0  RT @NewsHour: The pandemic has plunged many Am...  Twitter Web App   \n",
       "1  \"We are dying here from hunger, lack of shelte...   Hootsuite Inc.   \n",
       "2  RT @MichelleNunn: Thank you to @Kimwilliamspai...  Twitter Web App   \n",
       "3  RT @Kimwilliamspais: Thanks to @CARE CEO @Mich...  Twitter Web App   \n",
       "4  ICYMI: CARE Ambassador @Kimwilliamspais and he...  Twitter Web App   \n",
       "\n",
       "                  Date  Likes  Retweet  \n",
       "0  2020-12-15 17:02:58      0       40  \n",
       "1  2020-12-15 16:35:08      5        4  \n",
       "2  2020-12-14 20:55:42      0        2  \n",
       "3  2020-12-14 19:18:38      0        4  \n",
       "4  2020-12-14 18:57:13     50        9  "
      ]
     },
     "execution_count": 47,
     "metadata": {},
     "output_type": "execute_result"
    }
   ],
   "source": [
    "my_data.head(5)"
   ]
  },
  {
   "cell_type": "code",
   "execution_count": 48,
   "metadata": {},
   "outputs": [],
   "source": [
    "my_data.drop('Unnamed: 0', axis=1, inplace=True)"
   ]
  },
  {
   "cell_type": "code",
   "execution_count": 49,
   "metadata": {},
   "outputs": [
    {
     "data": {
      "text/html": [
       "<div>\n",
       "<style scoped>\n",
       "    .dataframe tbody tr th:only-of-type {\n",
       "        vertical-align: middle;\n",
       "    }\n",
       "\n",
       "    .dataframe tbody tr th {\n",
       "        vertical-align: top;\n",
       "    }\n",
       "\n",
       "    .dataframe thead th {\n",
       "        text-align: right;\n",
       "    }\n",
       "</style>\n",
       "<table border=\"1\" class=\"dataframe\">\n",
       "  <thead>\n",
       "    <tr style=\"text-align: right;\">\n",
       "      <th></th>\n",
       "      <th>ID</th>\n",
       "      <th>Tweet</th>\n",
       "      <th>Source</th>\n",
       "      <th>Date</th>\n",
       "      <th>Likes</th>\n",
       "      <th>Retweet</th>\n",
       "    </tr>\n",
       "  </thead>\n",
       "  <tbody>\n",
       "    <tr>\n",
       "      <th>0</th>\n",
       "      <td>1338892315134488578</td>\n",
       "      <td>RT @NewsHour: The pandemic has plunged many Am...</td>\n",
       "      <td>Twitter Web App</td>\n",
       "      <td>2020-12-15 17:02:58</td>\n",
       "      <td>0</td>\n",
       "      <td>40</td>\n",
       "    </tr>\n",
       "    <tr>\n",
       "      <th>1</th>\n",
       "      <td>1338885311770857472</td>\n",
       "      <td>\"We are dying here from hunger, lack of shelte...</td>\n",
       "      <td>Hootsuite Inc.</td>\n",
       "      <td>2020-12-15 16:35:08</td>\n",
       "      <td>5</td>\n",
       "      <td>4</td>\n",
       "    </tr>\n",
       "    <tr>\n",
       "      <th>2</th>\n",
       "      <td>1338588498102800389</td>\n",
       "      <td>RT @MichelleNunn: Thank you to @Kimwilliamspai...</td>\n",
       "      <td>Twitter Web App</td>\n",
       "      <td>2020-12-14 20:55:42</td>\n",
       "      <td>0</td>\n",
       "      <td>2</td>\n",
       "    </tr>\n",
       "    <tr>\n",
       "      <th>3</th>\n",
       "      <td>1338564072384696320</td>\n",
       "      <td>RT @Kimwilliamspais: Thanks to @CARE CEO @Mich...</td>\n",
       "      <td>Twitter Web App</td>\n",
       "      <td>2020-12-14 19:18:38</td>\n",
       "      <td>0</td>\n",
       "      <td>4</td>\n",
       "    </tr>\n",
       "    <tr>\n",
       "      <th>4</th>\n",
       "      <td>1338558680296513538</td>\n",
       "      <td>ICYMI: CARE Ambassador @Kimwilliamspais and he...</td>\n",
       "      <td>Twitter Web App</td>\n",
       "      <td>2020-12-14 18:57:13</td>\n",
       "      <td>50</td>\n",
       "      <td>9</td>\n",
       "    </tr>\n",
       "  </tbody>\n",
       "</table>\n",
       "</div>"
      ],
      "text/plain": [
       "                    ID                                              Tweet  \\\n",
       "0  1338892315134488578  RT @NewsHour: The pandemic has plunged many Am...   \n",
       "1  1338885311770857472  \"We are dying here from hunger, lack of shelte...   \n",
       "2  1338588498102800389  RT @MichelleNunn: Thank you to @Kimwilliamspai...   \n",
       "3  1338564072384696320  RT @Kimwilliamspais: Thanks to @CARE CEO @Mich...   \n",
       "4  1338558680296513538  ICYMI: CARE Ambassador @Kimwilliamspais and he...   \n",
       "\n",
       "            Source                 Date  Likes  Retweet  \n",
       "0  Twitter Web App  2020-12-15 17:02:58      0       40  \n",
       "1   Hootsuite Inc.  2020-12-15 16:35:08      5        4  \n",
       "2  Twitter Web App  2020-12-14 20:55:42      0        2  \n",
       "3  Twitter Web App  2020-12-14 19:18:38      0        4  \n",
       "4  Twitter Web App  2020-12-14 18:57:13     50        9  "
      ]
     },
     "execution_count": 49,
     "metadata": {},
     "output_type": "execute_result"
    }
   ],
   "source": [
    "my_data.head(5)"
   ]
  },
  {
   "cell_type": "markdown",
   "metadata": {},
   "source": [
    "<i><font style=\"font-family:cursive;\"> La commande <b>info()</b> permet d'afficher les informations de notre dataset"
   ]
  },
  {
   "cell_type": "code",
   "execution_count": 50,
   "metadata": {},
   "outputs": [
    {
     "name": "stdout",
     "output_type": "stream",
     "text": [
      "<class 'pandas.core.frame.DataFrame'>\n",
      "RangeIndex: 18586 entries, 0 to 18585\n",
      "Data columns (total 6 columns):\n",
      " #   Column   Non-Null Count  Dtype \n",
      "---  ------   --------------  ----- \n",
      " 0   ID       18586 non-null  int64 \n",
      " 1   Tweet    18586 non-null  object\n",
      " 2   Source   18586 non-null  object\n",
      " 3   Date     18586 non-null  object\n",
      " 4   Likes    18586 non-null  int64 \n",
      " 5   Retweet  18586 non-null  int64 \n",
      "dtypes: int64(3), object(3)\n",
      "memory usage: 871.3+ KB\n"
     ]
    }
   ],
   "source": [
    "my_data.info()"
   ]
  },
  {
   "cell_type": "markdown",
   "metadata": {},
   "source": [
    "<i><font style=\"font-family:cursive; font-size:20px; color:#6666FF\">2 - Les informations statistiques sur les données</font><br/><br/>"
   ]
  },
  {
   "cell_type": "markdown",
   "metadata": {},
   "source": [
    "<i><font style=\"font-family:cursive;\">Les statistiques descriptives incluent celles qui résument la tendance centrale, la dispersion et la forme de la distribution d'un ensemble de données, à l'exclusion des valeurs NaN."
   ]
  },
  {
   "cell_type": "code",
   "execution_count": 51,
   "metadata": {},
   "outputs": [
    {
     "data": {
      "text/html": [
       "<div>\n",
       "<style scoped>\n",
       "    .dataframe tbody tr th:only-of-type {\n",
       "        vertical-align: middle;\n",
       "    }\n",
       "\n",
       "    .dataframe tbody tr th {\n",
       "        vertical-align: top;\n",
       "    }\n",
       "\n",
       "    .dataframe thead th {\n",
       "        text-align: right;\n",
       "    }\n",
       "</style>\n",
       "<table border=\"1\" class=\"dataframe\">\n",
       "  <thead>\n",
       "    <tr style=\"text-align: right;\">\n",
       "      <th></th>\n",
       "      <th>ID</th>\n",
       "      <th>Likes</th>\n",
       "      <th>Retweet</th>\n",
       "    </tr>\n",
       "  </thead>\n",
       "  <tbody>\n",
       "    <tr>\n",
       "      <th>count</th>\n",
       "      <td>1.858600e+04</td>\n",
       "      <td>18586.000000</td>\n",
       "      <td>18586.000000</td>\n",
       "    </tr>\n",
       "    <tr>\n",
       "      <th>mean</th>\n",
       "      <td>1.016794e+18</td>\n",
       "      <td>7305.266975</td>\n",
       "      <td>1134.991768</td>\n",
       "    </tr>\n",
       "    <tr>\n",
       "      <th>std</th>\n",
       "      <td>3.818228e+17</td>\n",
       "      <td>36033.864466</td>\n",
       "      <td>4826.490663</td>\n",
       "    </tr>\n",
       "    <tr>\n",
       "      <th>min</th>\n",
       "      <td>1.112455e+09</td>\n",
       "      <td>0.000000</td>\n",
       "      <td>0.000000</td>\n",
       "    </tr>\n",
       "    <tr>\n",
       "      <th>25%</th>\n",
       "      <td>7.814319e+17</td>\n",
       "      <td>0.000000</td>\n",
       "      <td>0.000000</td>\n",
       "    </tr>\n",
       "    <tr>\n",
       "      <th>50%</th>\n",
       "      <td>1.233058e+18</td>\n",
       "      <td>5.000000</td>\n",
       "      <td>4.000000</td>\n",
       "    </tr>\n",
       "    <tr>\n",
       "      <th>75%</th>\n",
       "      <td>1.321070e+18</td>\n",
       "      <td>453.000000</td>\n",
       "      <td>200.750000</td>\n",
       "    </tr>\n",
       "    <tr>\n",
       "      <th>max</th>\n",
       "      <td>1.338947e+18</td>\n",
       "      <td>771916.000000</td>\n",
       "      <td>145310.000000</td>\n",
       "    </tr>\n",
       "  </tbody>\n",
       "</table>\n",
       "</div>"
      ],
      "text/plain": [
       "                 ID          Likes        Retweet\n",
       "count  1.858600e+04   18586.000000   18586.000000\n",
       "mean   1.016794e+18    7305.266975    1134.991768\n",
       "std    3.818228e+17   36033.864466    4826.490663\n",
       "min    1.112455e+09       0.000000       0.000000\n",
       "25%    7.814319e+17       0.000000       0.000000\n",
       "50%    1.233058e+18       5.000000       4.000000\n",
       "75%    1.321070e+18     453.000000     200.750000\n",
       "max    1.338947e+18  771916.000000  145310.000000"
      ]
     },
     "execution_count": 51,
     "metadata": {},
     "output_type": "execute_result"
    }
   ],
   "source": [
    "my_data.describe()"
   ]
  },
  {
   "cell_type": "markdown",
   "metadata": {},
   "source": [
    "<i><font style=\"font-family:cursive; font-size:20px; color:#6666FF\">3 - Les missings values</font><br/><br/>"
   ]
  },
  {
   "cell_type": "code",
   "execution_count": 52,
   "metadata": {},
   "outputs": [
    {
     "name": "stdout",
     "output_type": "stream",
     "text": [
      "ID         0\n",
      "Tweet      0\n",
      "Source     0\n",
      "Date       0\n",
      "Likes      0\n",
      "Retweet    0\n",
      "dtype: int64\n"
     ]
    }
   ],
   "source": [
    "missing = my_data.isna().sum()\n",
    "print(missing)"
   ]
  },
  {
   "cell_type": "markdown",
   "metadata": {},
   "source": [
    "<i><font style=\"font-family:cursive; font-size:20px; color:#6666FF\">4 - Les types des donneés : Numériques ou Catégoriques </font><br/><br/>"
   ]
  },
  {
   "cell_type": "markdown",
   "metadata": {},
   "source": [
    "<i><font style=\"font-family:cursive;\">\n",
    "    Les données numériques concernent des données représentées sous un format compatible avec un ordinateur. Un ordinateur ne peut traiter que des données numériques, puisqu'il fonctionne en mode binaire.\n",
    "<br/>\n",
    "    <font style=\"background-color:#33FF99;\"><b>Variables numériques</b></font><br/>\n",
    "Une variable numérique, connue aussi sous le nom de variable quantitative, est une variable qui peut supposer un nombre infini de nombres réels, comme l'âge ou le nombre de membres d'un ménage. Toutefois, on ne considère pas que toutes les variables décrites par des nombres sont des variables numériques."
   ]
  },
  {
   "cell_type": "markdown",
   "metadata": {},
   "source": [
    "<font style=\"font-family:cursive;\">\n",
    "    <b><font style=\"background-color:#33FF99;\">Une variable catégorique</font></b> (aussi appelée variable qualitative) est une variable où chaque réponse peut être classée dans une catégorie particulière. Ces catégories doivent être mutuellement exclusives et exhaustives. Une catégorie mutuellement exclusive signifie que toutes les réponses d'enquête possibles doivent faire partie d'une seule catégorie, alors qu'une catégorie exhaustive signifie qu'une catégorie doit tenir compte de toutes les réponses possibles. Une variable catégorique peut être nominale ou ordinale.<br/>\n",
    "<blockquote>\n",
    "    <b><font style=\"background-color:#33FF99;\">Variables nominales</font></b><br/>\n",
    "Une variable nominale décrit un nom ou une catégorie. Contrairement à une variable ordinale, les noms ou les catégories possibles ne suivent pas un ordre naturel. Le sexe et le genre de logement en sont des exemples.<br/>\n",
    "    <b><font style=\"background-color:#33FF99;\">Variables ordinale</font></b><br/>\n",
    "Une variable ordinale est une variable dite catégorique dans laquelle les catégories possibles peuvent être classées dans un ordre spécifique ou dans un ordre naturel quelconque."
   ]
  },
  {
   "cell_type": "code",
   "execution_count": 53,
   "metadata": {},
   "outputs": [
    {
     "name": "stdout",
     "output_type": "stream",
     "text": [
      "Index(['ID', 'Likes', 'Retweet'], dtype='object')\n",
      "Index(['Tweet', 'Source', 'Date'], dtype='object')\n"
     ]
    }
   ],
   "source": [
    "# Print numerical features\n",
    "num_features = my_data.select_dtypes(include=[np.number]).columns\n",
    "print(num_features)\n",
    "\n",
    "# Print categorical features\n",
    "cat_features = my_data.select_dtypes(include=[np.object]).columns\n",
    "print(cat_features)"
   ]
  },
  {
   "cell_type": "markdown",
   "metadata": {},
   "source": [
    "<i><font style=\"font-family:cursive; font-size:20px; color:#6666FF\">5 - Visualisation des histogrammes des variables numériques</font><br/><br/> "
   ]
  },
  {
   "cell_type": "code",
   "execution_count": 54,
   "metadata": {},
   "outputs": [
    {
     "data": {
      "image/png": "[encoded data removed]",
      "text/plain": [
       "<Figure size 1440x1080 with 4 Axes>"
      ]
     },
     "metadata": {
      "needs_background": "light"
     },
     "output_type": "display_data"
    }
   ],
   "source": [
    "my_data.hist(bins=50, figsize=(20,15),color='plum')\n",
    "plt.show()"
   ]
  },
  {
   "cell_type": "markdown",
   "metadata": {},
   "source": [
    "<i><font style=\"font-family:cursive; font-size:20px; color:#6666FF\">6 - La corrélation entre les variables</font><br/><br/> "
   ]
  },
  {
   "cell_type": "markdown",
   "metadata": {},
   "source": [
    "<i><font style=\"font-family:cursive;\">Une corrélation est une relation qu’il y a entre différentes variables"
   ]
  },
  {
   "cell_type": "code",
   "execution_count": 55,
   "metadata": {},
   "outputs": [
    {
     "data": {
      "text/plain": [
       "<matplotlib.axes._subplots.AxesSubplot at 0x2b4390544c0>"
      ]
     },
     "execution_count": 55,
     "metadata": {},
     "output_type": "execute_result"
    },
    {
     "data": {
      "image/png": "[encoded data removed]",
      "text/plain": [
       "<Figure size 432x288 with 2 Axes>"
      ]
     },
     "metadata": {
      "needs_background": "light"
     },
     "output_type": "display_data"
    }
   ],
   "source": [
    "corr_matrix = my_data.corr()\n",
    "sns.heatmap(corr_matrix, annot=True)"
   ]
  },
  {
   "cell_type": "markdown",
   "metadata": {},
   "source": [
    "<b><i><font style=\"font-family:cursive;\">les Retweets et les J'aime sont fortement corrélés."
   ]
  },
  {
   "cell_type": "code",
   "execution_count": 56,
   "metadata": {},
   "outputs": [
    {
     "data": {
      "text/plain": [
       "ID         1.000000\n",
       "Likes      0.016412\n",
       "Retweet   -0.106015\n",
       "Name: ID, dtype: float64"
      ]
     },
     "execution_count": 56,
     "metadata": {},
     "output_type": "execute_result"
    }
   ],
   "source": [
    "corr_matrix['ID'].sort_values(ascending=False)"
   ]
  },
  {
   "cell_type": "code",
   "execution_count": 57,
   "metadata": {},
   "outputs": [
    {
     "data": {
      "text/plain": [
       "(18586, 6)"
      ]
     },
     "execution_count": 57,
     "metadata": {},
     "output_type": "execute_result"
    }
   ],
   "source": [
    "np.shape(my_data)"
   ]
  },
  {
   "cell_type": "markdown",
   "metadata": {},
   "source": [
    "<hr>"
   ]
  },
  {
   "cell_type": "markdown",
   "metadata": {},
   "source": [
    "<b><i><font style=\"font-family:cursive; font-size:25px; color:#FF0033\">VI -Prétraitement des tweets : Cleaning Data</font><br/><br/> "
   ]
  },
  {
   "cell_type": "markdown",
   "metadata": {},
   "source": [
    "<i><font style=\"font-family:cursive;\">Les tweets contiennent de nombreux mots d'argot et des signes de ponctuation. Nous devons nettoyer nos tweets avant de pouvoir les utiliser pour entraîner le modèle d'apprentissage. Cependant, avant de nettoyer les tweets, divisons notre ensemble de données en ensembles d'entités et d'étiquettes."
   ]
  },
  {
   "cell_type": "code",
   "execution_count": 58,
   "metadata": {},
   "outputs": [
    {
     "data": {
      "text/html": [
       "\n",
       "        <iframe\n",
       "            width=\"400\"\n",
       "            height=\"300\"\n",
       "            src=\"https://www.youtube.com/embed/https://www.youtube.com/watch?v=KhXU7KOxQcg&ab_channel=UnfoldDataScience\"\n",
       "            frameborder=\"0\"\n",
       "            allowfullscreen\n",
       "        ></iframe>\n",
       "        "
      ],
      "text/plain": [
       "<IPython.lib.display.YouTubeVideo at 0x2b439349ac0>"
      ]
     },
     "metadata": {},
     "output_type": "display_data"
    }
   ],
   "source": [
    "# import IPython.display.YouTubeVideo class.\n",
    "from IPython.display import YouTubeVideo\n",
    "\n",
    "# create an instance of YouTubeVideo class with provided youtube video id.\n",
    "youtube_video = YouTubeVideo('https://www.youtube.com/watch?v=KhXU7KOxQcg&ab_channel=UnfoldDataScience')\n",
    "\n",
    "# display youtube video\n",
    "display(youtube_video)    "
   ]
  },
  {
   "cell_type": "code",
   "execution_count": 59,
   "metadata": {},
   "outputs": [
    {
     "data": {
      "text/html": [
       "\n",
       "        <iframe\n",
       "            width=\"400\"\n",
       "            height=\"300\"\n",
       "            src=\"https://www.youtube.com/embed/https://www.youtube.com/watch?v=NJHhDcIB0es&ab_channel=Sarikhin\"\n",
       "            frameborder=\"0\"\n",
       "            allowfullscreen\n",
       "        ></iframe>\n",
       "        "
      ],
      "text/plain": [
       "<IPython.lib.display.YouTubeVideo at 0x2b4393496d0>"
      ]
     },
     "metadata": {},
     "output_type": "display_data"
    }
   ],
   "source": [
    "# import IPython.display.YouTubeVideo class.\n",
    "from IPython.display import YouTubeVideo\n",
    "\n",
    "# create an instance of YouTubeVideo class with provided youtube video id.\n",
    "youtube_video = YouTubeVideo('https://www.youtube.com/watch?v=NJHhDcIB0es&ab_channel=Sarikhin')\n",
    "\n",
    "# display youtube video\n",
    "display(youtube_video)    "
   ]
  },
  {
   "cell_type": "markdown",
   "metadata": {},
   "source": [
    " <font style=\"font-family:cursive;\">\n",
    "Les tweets de longueur moyenne entraînent plus de retweets et de likes pour M. Modi\n",
    "Ceci est controversé. Les tweets de M. Modi avec un sentiment négatif obtiennent souvent plus de RT et de J'aime. Cependant, il peut s'agir d'exprimer des regrets pour des événements malheureux.\n",
    "Deuxièmement, traçons les sentiments, les mentions J'aime et les RT sur un nuage de points pour revérifier notre hypothèse."
   ]
  },
  {
   "cell_type": "code",
   "execution_count": 173,
   "metadata": {},
   "outputs": [],
   "source": [
    "#!pip install tweet-preprocessor"
   ]
  },
  {
   "cell_type": "markdown",
   "metadata": {},
   "source": [
    "<hr>"
   ]
  },
  {
   "cell_type": "markdown",
   "metadata": {},
   "source": [
    "<i><font style=\"font-family:cursive; font-size:24px; color:#009966;\">1 - Supprimer les noms des utilisateurs</font><br/><br/> "
   ]
  },
  {
   "cell_type": "markdown",
   "metadata": {},
   "source": [
    "<i><font style=\"font-family:cursive;\">Un nom précédé d'arobase « @ » est un lien vers le compte Twitter de l'utilisateur de ce nom (qui permet de voir tous ses tweets, sauf s'ils sont protégés)"
   ]
  },
  {
   "cell_type": "markdown",
   "metadata": {},
   "source": [
    "<i><font style=\"font-family:cursive;\">\n",
    "Le module de string de Python fournit des constantes pour les opérations liées aux chaînes. \n",
    "<br/>\n",
    "Le module re a été spécialement conçu pour travailler avec les expressions régulières (Regular Expressions). Il définit plusieurs fonctions utiles, que nous allons découvrir, ainsi que des objets propres pour modéliser des expressions."
   ]
  },
  {
   "cell_type": "code",
   "execution_count": 60,
   "metadata": {},
   "outputs": [],
   "source": [
    "import string\n",
    "import re\n",
    "\n",
    "def remove_pattern(tweet, pattern):\n",
    "    r = re.findall(pattern, tweet)\n",
    "    for i in r:\n",
    "        tweet = re.sub(i, '', tweet)\n",
    "    return tweet\n",
    "my_data['remove'] = np.vectorize(remove_pattern)(my_data['Tweet'], \"@[\\w]*\")\n",
    "my_data.drop_duplicates(subset =\"remove\", keep = 'first', inplace = True)"
   ]
  },
  {
   "cell_type": "code",
   "execution_count": 61,
   "metadata": {},
   "outputs": [
    {
     "data": {
      "text/html": [
       "<div>\n",
       "<style scoped>\n",
       "    .dataframe tbody tr th:only-of-type {\n",
       "        vertical-align: middle;\n",
       "    }\n",
       "\n",
       "    .dataframe tbody tr th {\n",
       "        vertical-align: top;\n",
       "    }\n",
       "\n",
       "    .dataframe thead th {\n",
       "        text-align: right;\n",
       "    }\n",
       "</style>\n",
       "<table border=\"1\" class=\"dataframe\">\n",
       "  <thead>\n",
       "    <tr style=\"text-align: right;\">\n",
       "      <th></th>\n",
       "      <th>ID</th>\n",
       "      <th>Tweet</th>\n",
       "      <th>Source</th>\n",
       "      <th>Date</th>\n",
       "      <th>Likes</th>\n",
       "      <th>Retweet</th>\n",
       "      <th>remove</th>\n",
       "    </tr>\n",
       "  </thead>\n",
       "  <tbody>\n",
       "    <tr>\n",
       "      <th>0</th>\n",
       "      <td>1338892315134488578</td>\n",
       "      <td>RT @NewsHour: The pandemic has plunged many Am...</td>\n",
       "      <td>Twitter Web App</td>\n",
       "      <td>2020-12-15 17:02:58</td>\n",
       "      <td>0</td>\n",
       "      <td>40</td>\n",
       "      <td>RT : The pandemic has plunged many Americans i...</td>\n",
       "    </tr>\n",
       "    <tr>\n",
       "      <th>1</th>\n",
       "      <td>1338885311770857472</td>\n",
       "      <td>\"We are dying here from hunger, lack of shelte...</td>\n",
       "      <td>Hootsuite Inc.</td>\n",
       "      <td>2020-12-15 16:35:08</td>\n",
       "      <td>5</td>\n",
       "      <td>4</td>\n",
       "      <td>\"We are dying here from hunger, lack of shelte...</td>\n",
       "    </tr>\n",
       "    <tr>\n",
       "      <th>2</th>\n",
       "      <td>1338588498102800389</td>\n",
       "      <td>RT @MichelleNunn: Thank you to @Kimwilliamspai...</td>\n",
       "      <td>Twitter Web App</td>\n",
       "      <td>2020-12-14 20:55:42</td>\n",
       "      <td>0</td>\n",
       "      <td>2</td>\n",
       "      <td>RT : Thank you to  and  for joining us  to hav...</td>\n",
       "    </tr>\n",
       "    <tr>\n",
       "      <th>3</th>\n",
       "      <td>1338564072384696320</td>\n",
       "      <td>RT @Kimwilliamspais: Thanks to @CARE CEO @Mich...</td>\n",
       "      <td>Twitter Web App</td>\n",
       "      <td>2020-12-14 19:18:38</td>\n",
       "      <td>0</td>\n",
       "      <td>4</td>\n",
       "      <td>RT : Thanks to  CEO  and   a great conversatio...</td>\n",
       "    </tr>\n",
       "    <tr>\n",
       "      <th>4</th>\n",
       "      <td>1338558680296513538</td>\n",
       "      <td>ICYMI: CARE Ambassador @Kimwilliamspais and he...</td>\n",
       "      <td>Twitter Web App</td>\n",
       "      <td>2020-12-14 18:57:13</td>\n",
       "      <td>50</td>\n",
       "      <td>9</td>\n",
       "      <td>ICYMI: CARE Ambassador  and her husband,  were...</td>\n",
       "    </tr>\n",
       "  </tbody>\n",
       "</table>\n",
       "</div>"
      ],
      "text/plain": [
       "                    ID                                              Tweet  \\\n",
       "0  1338892315134488578  RT @NewsHour: The pandemic has plunged many Am...   \n",
       "1  1338885311770857472  \"We are dying here from hunger, lack of shelte...   \n",
       "2  1338588498102800389  RT @MichelleNunn: Thank you to @Kimwilliamspai...   \n",
       "3  1338564072384696320  RT @Kimwilliamspais: Thanks to @CARE CEO @Mich...   \n",
       "4  1338558680296513538  ICYMI: CARE Ambassador @Kimwilliamspais and he...   \n",
       "\n",
       "            Source                 Date  Likes  Retweet  \\\n",
       "0  Twitter Web App  2020-12-15 17:02:58      0       40   \n",
       "1   Hootsuite Inc.  2020-12-15 16:35:08      5        4   \n",
       "2  Twitter Web App  2020-12-14 20:55:42      0        2   \n",
       "3  Twitter Web App  2020-12-14 19:18:38      0        4   \n",
       "4  Twitter Web App  2020-12-14 18:57:13     50        9   \n",
       "\n",
       "                                              remove  \n",
       "0  RT : The pandemic has plunged many Americans i...  \n",
       "1  \"We are dying here from hunger, lack of shelte...  \n",
       "2  RT : Thank you to  and  for joining us  to hav...  \n",
       "3  RT : Thanks to  CEO  and   a great conversatio...  \n",
       "4  ICYMI: CARE Ambassador  and her husband,  were...  "
      ]
     },
     "execution_count": 61,
     "metadata": {},
     "output_type": "execute_result"
    }
   ],
   "source": [
    "my_data.head(5)"
   ]
  },
  {
   "cell_type": "code",
   "execution_count": 62,
   "metadata": {},
   "outputs": [
    {
     "data": {
      "text/plain": [
       "(17595, 7)"
      ]
     },
     "execution_count": 62,
     "metadata": {},
     "output_type": "execute_result"
    }
   ],
   "source": [
    "np.shape(my_data)"
   ]
  },
  {
   "cell_type": "markdown",
   "metadata": {},
   "source": [
    "<i><font style=\"font-family:cursive; font-size:24px; color:#009966;\">2 - Remplacer une expression</font><br/><br/> "
   ]
  },
  {
   "cell_type": "markdown",
   "metadata": {},
   "source": [
    "<font style=\"font-family:cursive;\">\n",
    "<font style=\"background-color:#33FF99;\">Un mot précédé du signe « # » (croisillon) est un hashtag.</font> Il s'agit d'un sujet attribué au message, Twitter peut afficher tous les tweets comportant un hashtag précis, et établit un classement des mots ou bien des hashtags du moment les plus utilisés.\n",
    "<br/>\n",
    "D'abord, <font style=\"background-color:#33FF99;\">on trouve un caractère accent circonflexe ^ qui veut dire qu'on cherche l'expression au début de la chaîne.</font> Vous pouvez aussi voir, à la fin de la regex, <font style=\"background-color:#33FF99;\">le symbole $ qui veut dire que l'expression doit être à la fin de la chaîne.</font> Si l'expression doit être au début et à la fin de la chaîne, cela signifie que la chaîne dans laquelle on recherche ne doit rien contenir d'autre que l'expression.\n",
    "<br/>\n",
    "Nous avons ensuite <font style=\"background-color:#33FF99;\">une classe de caractère [0-9].</font> Cela signifie qu'après le 0, on doit trouver un chiffre compris entre 0 et 9 (peut-être 0, peut-être 1, peut-être 2…).\n",
    "<br/>"
   ]
  },
  {
   "cell_type": "markdown",
   "metadata": {},
   "source": [
    "<i><font style=\"font-family:cursive;\">\n",
    "Pour remplacer une partie d'une chaîne de caractères sur la base d'une regex, nous allons utiliser la fonction sub du module re.\n",
    "<br/>\n",
    "Elle prend trois paramètres :\n",
    "<br/>\n",
    "<blockquote>\n",
    "l'expression à rechercher ;\n",
    "<br/>\n",
    "par quoi remplacer cette expression ;\n",
    "<br/>\n",
    "la chaîne d'origine."
   ]
  },
  {
   "cell_type": "code",
   "execution_count": 63,
   "metadata": {},
   "outputs": [],
   "source": [
    " def remove(tweet):\n",
    "        #remove angha\n",
    "        tweet = re.sub('[0-9]+', '', tweet)\n",
    "        \n",
    "        #remove stock market tickers like $GE\n",
    "        tweet = re.sub(r'\\$\\w*', '', tweet)\n",
    "        \n",
    "        #remove old style retweet text 'RT'\n",
    "        tweet = re.sub(r'^RT[\\s]+', '', tweet)\n",
    "        \n",
    "        # remove hashtags\n",
    "        # only removing the hash # sign from the word\n",
    "        tweet = re.sub(r'#', '', tweet)\n",
    "        return tweet\n",
    "\n",
    "\n",
    "my_data['remove2'] = my_data['remove'].apply(lambda x: remove(x))\n",
    "my_data.sort_values(\"remove2\", inplace = True)\n",
    "my_data.drop_duplicates(subset =\"remove2\", keep = 'first', inplace = True)"
   ]
  },
  {
   "cell_type": "code",
   "execution_count": 64,
   "metadata": {},
   "outputs": [
    {
     "data": {
      "text/html": [
       "<div>\n",
       "<style scoped>\n",
       "    .dataframe tbody tr th:only-of-type {\n",
       "        vertical-align: middle;\n",
       "    }\n",
       "\n",
       "    .dataframe tbody tr th {\n",
       "        vertical-align: top;\n",
       "    }\n",
       "\n",
       "    .dataframe thead th {\n",
       "        text-align: right;\n",
       "    }\n",
       "</style>\n",
       "<table border=\"1\" class=\"dataframe\">\n",
       "  <thead>\n",
       "    <tr style=\"text-align: right;\">\n",
       "      <th></th>\n",
       "      <th>ID</th>\n",
       "      <th>Tweet</th>\n",
       "      <th>Source</th>\n",
       "      <th>Date</th>\n",
       "      <th>Likes</th>\n",
       "      <th>Retweet</th>\n",
       "      <th>remove</th>\n",
       "      <th>remove2</th>\n",
       "    </tr>\n",
       "  </thead>\n",
       "  <tbody>\n",
       "    <tr>\n",
       "      <th>17425</th>\n",
       "      <td>787053950235127810</td>\n",
       "      <td>@gbnewyorkcity @MarriottRewards \\nBora Bora so...</td>\n",
       "      <td>Twitter for iPhone</td>\n",
       "      <td>2016-10-14 22:14:19</td>\n",
       "      <td>4</td>\n",
       "      <td>1</td>\n",
       "      <td>\\nBora Bora sounds great to us! \\n#YouAreHer...</td>\n",
       "      <td>\\nBora Bora sounds great to us! \\nYouAreHere...</td>\n",
       "    </tr>\n",
       "    <tr>\n",
       "      <th>17427</th>\n",
       "      <td>787032808061411328</td>\n",
       "      <td>@jamesmaslow @MarriottRewards @spg \\nIceland! ...</td>\n",
       "      <td>Twitter for iPhone</td>\n",
       "      <td>2016-10-14 20:50:18</td>\n",
       "      <td>2</td>\n",
       "      <td>1</td>\n",
       "      <td>\\nIceland! \\n#YouAreHere 📍 #sweepstakes</td>\n",
       "      <td>\\nIceland! \\nYouAreHere 📍 sweepstakes</td>\n",
       "    </tr>\n",
       "    <tr>\n",
       "      <th>17424</th>\n",
       "      <td>787054909048836096</td>\n",
       "      <td>@FitnessQueen @MarriottRewards @spg \\nThailand...</td>\n",
       "      <td>Twitter for iPhone</td>\n",
       "      <td>2016-10-14 22:18:07</td>\n",
       "      <td>2</td>\n",
       "      <td>1</td>\n",
       "      <td>\\nThailand is a great choice! \\n#YouAreHere...</td>\n",
       "      <td>\\nThailand is a great choice! \\nYouAreHere ...</td>\n",
       "    </tr>\n",
       "    <tr>\n",
       "      <th>884</th>\n",
       "      <td>1296097309068070912</td>\n",
       "      <td>@chefjoseandres @UN @MINUSTAH @RedCross @MSF_U...</td>\n",
       "      <td>Hootsuite Inc.</td>\n",
       "      <td>2020-08-19 14:50:53</td>\n",
       "      <td>1</td>\n",
       "      <td>0</td>\n",
       "      <td>ICEF… https://t.co/UdtBszU4kJ</td>\n",
       "      <td>ICEF… https://t.co/UdtBszUkJ</td>\n",
       "    </tr>\n",
       "    <tr>\n",
       "      <th>10166</th>\n",
       "      <td>1333242164415926272</td>\n",
       "      <td>@romulo_damacena @jairbolsonaro @mec @MinEcono...</td>\n",
       "      <td>Twitter Web App</td>\n",
       "      <td>2020-11-30 02:51:17</td>\n",
       "      <td>3</td>\n",
       "      <td>0</td>\n",
       "      <td>… https://t.co/NptiQCcGmL</td>\n",
       "      <td>… https://t.co/NptiQCcGmL</td>\n",
       "    </tr>\n",
       "  </tbody>\n",
       "</table>\n",
       "</div>"
      ],
      "text/plain": [
       "                        ID                                              Tweet  \\\n",
       "17425   787053950235127810  @gbnewyorkcity @MarriottRewards \\nBora Bora so...   \n",
       "17427   787032808061411328  @jamesmaslow @MarriottRewards @spg \\nIceland! ...   \n",
       "17424   787054909048836096  @FitnessQueen @MarriottRewards @spg \\nThailand...   \n",
       "884    1296097309068070912  @chefjoseandres @UN @MINUSTAH @RedCross @MSF_U...   \n",
       "10166  1333242164415926272  @romulo_damacena @jairbolsonaro @mec @MinEcono...   \n",
       "\n",
       "                   Source                 Date  Likes  Retweet  \\\n",
       "17425  Twitter for iPhone  2016-10-14 22:14:19      4        1   \n",
       "17427  Twitter for iPhone  2016-10-14 20:50:18      2        1   \n",
       "17424  Twitter for iPhone  2016-10-14 22:18:07      2        1   \n",
       "884        Hootsuite Inc.  2020-08-19 14:50:53      1        0   \n",
       "10166     Twitter Web App  2020-11-30 02:51:17      3        0   \n",
       "\n",
       "                                                  remove  \\\n",
       "17425    \\nBora Bora sounds great to us! \\n#YouAreHer...   \n",
       "17427            \\nIceland! \\n#YouAreHere 📍 #sweepstakes   \n",
       "17424     \\nThailand is a great choice! \\n#YouAreHere...   \n",
       "884                        ICEF… https://t.co/UdtBszU4kJ   \n",
       "10166                          … https://t.co/NptiQCcGmL   \n",
       "\n",
       "                                                 remove2  \n",
       "17425    \\nBora Bora sounds great to us! \\nYouAreHere...  \n",
       "17427              \\nIceland! \\nYouAreHere 📍 sweepstakes  \n",
       "17424     \\nThailand is a great choice! \\nYouAreHere ...  \n",
       "884                         ICEF… https://t.co/UdtBszUkJ  \n",
       "10166                          … https://t.co/NptiQCcGmL  "
      ]
     },
     "execution_count": 64,
     "metadata": {},
     "output_type": "execute_result"
    }
   ],
   "source": [
    "my_data.head(5)"
   ]
  },
  {
   "cell_type": "code",
   "execution_count": 179,
   "metadata": {},
   "outputs": [
    {
     "data": {
      "text/plain": [
       "(17701, 8)"
      ]
     },
     "execution_count": 179,
     "metadata": {},
     "output_type": "execute_result"
    }
   ],
   "source": [
    "np.shape(my_data)"
   ]
  },
  {
   "cell_type": "markdown",
   "metadata": {},
   "source": [
    "<hr>"
   ]
  },
  {
   "cell_type": "markdown",
   "metadata": {},
   "source": [
    "<i><font style=\"font-family:cursive; font-size:25px; color:#FF0033\">VII - NLTK</font><br/>"
   ]
  },
  {
   "cell_type": "markdown",
   "metadata": {},
   "source": [
    "<i><font style=\"font-family:cursive; font-size:15px;\">\n",
    "NLTK, ou Natural Language Toolkit, est une bibliothèque de traitement du langage naturel qui contient des packages pour travailler avec des données en langage humain. Le téléchargement d'un package à partir de la bibliothèque NLTK permet à un programme d'utiliser des données NLTK.\n",
    "<br/>\n",
    "Les étapes nécessaires comprennent :\n",
    " \n",
    "<blockquote>\n",
    "    <b>\n",
    "1 - Tokenizing sentences pour décomposer le texte en phrases, mots ou autres unités<br/>\n",
    "2 - Removing stop words comme “if,” “but,” “or,” and so on<br/>\n",
    "3 - Normalizing words en condensant toutes les formes d'un mot en une seule forme<br/>\n",
    "4 - Vectorizing text en transformant le texte en représentation numérique pour la consommation de nos classificateur\n",
    "    </b>\n",
    "    </blockquote>\n",
    "    </font>"
   ]
  },
  {
   "cell_type": "code",
   "execution_count": null,
   "metadata": {},
   "outputs": [],
   "source": [
    " #nltk.download()"
   ]
  },
  {
   "cell_type": "code",
   "execution_count": 267,
   "metadata": {},
   "outputs": [
    {
     "name": "stderr",
     "output_type": "stream",
     "text": [
      "[nltk_data] Downloading package stopwords to\n",
      "[nltk_data]     C:\\Users\\Hadhouma\\AppData\\Roaming\\nltk_data...\n",
      "[nltk_data]   Unzipping corpora\\stopwords.zip.\n"
     ]
    },
    {
     "data": {
      "text/plain": [
       "True"
      ]
     },
     "execution_count": 267,
     "metadata": {},
     "output_type": "execute_result"
    }
   ],
   "source": [
    "import nltk\n",
    "nltk.download('stopwords')"
   ]
  },
  {
   "cell_type": "code",
   "execution_count": 110,
   "metadata": {},
   "outputs": [],
   "source": [
    "#pip install Sastrawi"
   ]
  },
  {
   "cell_type": "markdown",
   "metadata": {},
   "source": [
    "<i><font style=\"font-family:cursive; font-size:24px; color:#009966;\">1 - Tokenization"
   ]
  },
  {
   "cell_type": "code",
   "execution_count": 66,
   "metadata": {},
   "outputs": [
    {
     "data": {
      "text/html": [
       "<div>\n",
       "<style scoped>\n",
       "    .dataframe tbody tr th:only-of-type {\n",
       "        vertical-align: middle;\n",
       "    }\n",
       "\n",
       "    .dataframe tbody tr th {\n",
       "        vertical-align: top;\n",
       "    }\n",
       "\n",
       "    .dataframe thead th {\n",
       "        text-align: right;\n",
       "    }\n",
       "</style>\n",
       "<table border=\"1\" class=\"dataframe\">\n",
       "  <thead>\n",
       "    <tr style=\"text-align: right;\">\n",
       "      <th></th>\n",
       "      <th>ID</th>\n",
       "      <th>Tweet</th>\n",
       "      <th>Source</th>\n",
       "      <th>Date</th>\n",
       "      <th>Likes</th>\n",
       "      <th>Retweet</th>\n",
       "      <th>remove</th>\n",
       "      <th>remove2</th>\n",
       "      <th>Tweet_tokenized</th>\n",
       "      <th>tokenization_Tweets</th>\n",
       "    </tr>\n",
       "  </thead>\n",
       "  <tbody>\n",
       "    <tr>\n",
       "      <th>17425</th>\n",
       "      <td>787053950235127810</td>\n",
       "      <td>@gbnewyorkcity @MarriottRewards \\nBora Bora so...</td>\n",
       "      <td>Twitter for iPhone</td>\n",
       "      <td>2016-10-14 22:14:19</td>\n",
       "      <td>4</td>\n",
       "      <td>1</td>\n",
       "      <td>\\nBora Bora sounds great to us! \\n#YouAreHer...</td>\n",
       "      <td>\\nBora Bora sounds great to us! \\nYouAreHere...</td>\n",
       "      <td>[, , \\nbora, bora, sounds, great, to, us!, \\ny...</td>\n",
       "      <td>[, , \\nbora, bora, sounds, great, to, us!, \\ny...</td>\n",
       "    </tr>\n",
       "    <tr>\n",
       "      <th>17427</th>\n",
       "      <td>787032808061411328</td>\n",
       "      <td>@jamesmaslow @MarriottRewards @spg \\nIceland! ...</td>\n",
       "      <td>Twitter for iPhone</td>\n",
       "      <td>2016-10-14 20:50:18</td>\n",
       "      <td>2</td>\n",
       "      <td>1</td>\n",
       "      <td>\\nIceland! \\n#YouAreHere 📍 #sweepstakes</td>\n",
       "      <td>\\nIceland! \\nYouAreHere 📍 sweepstakes</td>\n",
       "      <td>[, , , \\niceland!, \\nyouarehere, 📍, sweepstakes]</td>\n",
       "      <td>[, , , \\niceland!, \\nyouarehere, 📍, sweepstakes]</td>\n",
       "    </tr>\n",
       "    <tr>\n",
       "      <th>17424</th>\n",
       "      <td>787054909048836096</td>\n",
       "      <td>@FitnessQueen @MarriottRewards @spg \\nThailand...</td>\n",
       "      <td>Twitter for iPhone</td>\n",
       "      <td>2016-10-14 22:18:07</td>\n",
       "      <td>2</td>\n",
       "      <td>1</td>\n",
       "      <td>\\nThailand is a great choice! \\n#YouAreHere...</td>\n",
       "      <td>\\nThailand is a great choice! \\nYouAreHere ...</td>\n",
       "      <td>[, , , \\nthailand, is, a, great, choice!, \\nyo...</td>\n",
       "      <td>[, , , \\nthailand, is, a, great, choice!, \\nyo...</td>\n",
       "    </tr>\n",
       "    <tr>\n",
       "      <th>884</th>\n",
       "      <td>1296097309068070912</td>\n",
       "      <td>@chefjoseandres @UN @MINUSTAH @RedCross @MSF_U...</td>\n",
       "      <td>Hootsuite Inc.</td>\n",
       "      <td>2020-08-19 14:50:53</td>\n",
       "      <td>1</td>\n",
       "      <td>0</td>\n",
       "      <td>ICEF… https://t.co/UdtBszU4kJ</td>\n",
       "      <td>ICEF… https://t.co/UdtBszUkJ</td>\n",
       "      <td>[, , , , , , , , , , icef…, https://t.co/udtbs...</td>\n",
       "      <td>[, , , , , , , , , , icef…, https://t.co/udtbs...</td>\n",
       "    </tr>\n",
       "    <tr>\n",
       "      <th>10166</th>\n",
       "      <td>1333242164415926272</td>\n",
       "      <td>@romulo_damacena @jairbolsonaro @mec @MinEcono...</td>\n",
       "      <td>Twitter Web App</td>\n",
       "      <td>2020-11-30 02:51:17</td>\n",
       "      <td>3</td>\n",
       "      <td>0</td>\n",
       "      <td>… https://t.co/NptiQCcGmL</td>\n",
       "      <td>… https://t.co/NptiQCcGmL</td>\n",
       "      <td>[, , , , , , , , …, https://t.co/nptiqccgml]</td>\n",
       "      <td>[, , , , , , , , …, https://t.co/nptiqccgml]</td>\n",
       "    </tr>\n",
       "    <tr>\n",
       "      <th>9842</th>\n",
       "      <td>1337012756344532992</td>\n",
       "      <td>@WearablesExpert @HuaweiUK @debraruh @YvesMulk...</td>\n",
       "      <td>Twitter Web App</td>\n",
       "      <td>2020-12-10 12:34:16</td>\n",
       "      <td>3</td>\n",
       "      <td>0</td>\n",
       "      <td>… https://t.co/aAGnHuX6w7</td>\n",
       "      <td>… https://t.co/aAGnHuXw</td>\n",
       "      <td>[, , , , , , , , …, https://t.co/aagnhuxw]</td>\n",
       "      <td>[, , , , , , , , …, https://t.co/aagnhuxw]</td>\n",
       "    </tr>\n",
       "    <tr>\n",
       "      <th>10037</th>\n",
       "      <td>1335824906638880768</td>\n",
       "      <td>@Ledawa @arsene_lejuif @Laety1988 @BerthierAce...</td>\n",
       "      <td>Twitter Web App</td>\n",
       "      <td>2020-12-07 05:54:10</td>\n",
       "      <td>11</td>\n",
       "      <td>1</td>\n",
       "      <td>… https://t.co/2g4ODLtU78</td>\n",
       "      <td>… https://t.co/gODLtU</td>\n",
       "      <td>[, , , , , , , , …, https://t.co/godltu]</td>\n",
       "      <td>[, , , , , , , , …, https://t.co/godltu]</td>\n",
       "    </tr>\n",
       "    <tr>\n",
       "      <th>12158</th>\n",
       "      <td>1306076126603739138</td>\n",
       "      <td>@Nicochan33 @jblefevre60 @maya_elkhoury @Hana_...</td>\n",
       "      <td>Twitter Web App</td>\n",
       "      <td>2020-09-16 03:43:08</td>\n",
       "      <td>4</td>\n",
       "      <td>1</td>\n",
       "      <td>Great article! Thanks for sharing!</td>\n",
       "      <td>Great article! Thanks for sharing!</td>\n",
       "      <td>[, , , , , , , great, article!, thanks, for, s...</td>\n",
       "      <td>[, , , , , , , great, article!, thanks, for, s...</td>\n",
       "    </tr>\n",
       "    <tr>\n",
       "      <th>10755</th>\n",
       "      <td>1326129422231990273</td>\n",
       "      <td>@GlenGilmore @Ronald_vanLoon @EliseQuevedo @de...</td>\n",
       "      <td>Twitter Web App</td>\n",
       "      <td>2020-11-10 11:47:47</td>\n",
       "      <td>2</td>\n",
       "      <td>0</td>\n",
       "      <td>See you on Nov 12!</td>\n",
       "      <td>See you on Nov !</td>\n",
       "      <td>[, , , , , , , see, you, on, nov, !]</td>\n",
       "      <td>[, , , , , , , see, you, on, nov, !]</td>\n",
       "    </tr>\n",
       "    <tr>\n",
       "      <th>2887</th>\n",
       "      <td>1206973994525696000</td>\n",
       "      <td>@WillyFerreira69 @MarinhaPT @DalaiLama @Daniel...</td>\n",
       "      <td>Twitter Web App</td>\n",
       "      <td>2019-12-17 16:26:39</td>\n",
       "      <td>0</td>\n",
       "      <td>0</td>\n",
       "      <td>You may have us… https://t.co/vBKQHaUOdp</td>\n",
       "      <td>You may have us… https://t.co/vBKQHaUOdp</td>\n",
       "      <td>[, , , , , , , you, may, have, us…, https://t....</td>\n",
       "      <td>[, , , , , , , you, may, have, us…, https://t....</td>\n",
       "    </tr>\n",
       "  </tbody>\n",
       "</table>\n",
       "</div>"
      ],
      "text/plain": [
       "                        ID                                              Tweet  \\\n",
       "17425   787053950235127810  @gbnewyorkcity @MarriottRewards \\nBora Bora so...   \n",
       "17427   787032808061411328  @jamesmaslow @MarriottRewards @spg \\nIceland! ...   \n",
       "17424   787054909048836096  @FitnessQueen @MarriottRewards @spg \\nThailand...   \n",
       "884    1296097309068070912  @chefjoseandres @UN @MINUSTAH @RedCross @MSF_U...   \n",
       "10166  1333242164415926272  @romulo_damacena @jairbolsonaro @mec @MinEcono...   \n",
       "9842   1337012756344532992  @WearablesExpert @HuaweiUK @debraruh @YvesMulk...   \n",
       "10037  1335824906638880768  @Ledawa @arsene_lejuif @Laety1988 @BerthierAce...   \n",
       "12158  1306076126603739138  @Nicochan33 @jblefevre60 @maya_elkhoury @Hana_...   \n",
       "10755  1326129422231990273  @GlenGilmore @Ronald_vanLoon @EliseQuevedo @de...   \n",
       "2887   1206973994525696000  @WillyFerreira69 @MarinhaPT @DalaiLama @Daniel...   \n",
       "\n",
       "                   Source                 Date  Likes  Retweet  \\\n",
       "17425  Twitter for iPhone  2016-10-14 22:14:19      4        1   \n",
       "17427  Twitter for iPhone  2016-10-14 20:50:18      2        1   \n",
       "17424  Twitter for iPhone  2016-10-14 22:18:07      2        1   \n",
       "884        Hootsuite Inc.  2020-08-19 14:50:53      1        0   \n",
       "10166     Twitter Web App  2020-11-30 02:51:17      3        0   \n",
       "9842      Twitter Web App  2020-12-10 12:34:16      3        0   \n",
       "10037     Twitter Web App  2020-12-07 05:54:10     11        1   \n",
       "12158     Twitter Web App  2020-09-16 03:43:08      4        1   \n",
       "10755     Twitter Web App  2020-11-10 11:47:47      2        0   \n",
       "2887      Twitter Web App  2019-12-17 16:26:39      0        0   \n",
       "\n",
       "                                                  remove  \\\n",
       "17425    \\nBora Bora sounds great to us! \\n#YouAreHer...   \n",
       "17427            \\nIceland! \\n#YouAreHere 📍 #sweepstakes   \n",
       "17424     \\nThailand is a great choice! \\n#YouAreHere...   \n",
       "884                        ICEF… https://t.co/UdtBszU4kJ   \n",
       "10166                          … https://t.co/NptiQCcGmL   \n",
       "9842                           … https://t.co/aAGnHuX6w7   \n",
       "10037                          … https://t.co/2g4ODLtU78   \n",
       "12158                 Great article! Thanks for sharing!   \n",
       "10755                                 See you on Nov 12!   \n",
       "2887            You may have us… https://t.co/vBKQHaUOdp   \n",
       "\n",
       "                                                 remove2  \\\n",
       "17425    \\nBora Bora sounds great to us! \\nYouAreHere...   \n",
       "17427              \\nIceland! \\nYouAreHere 📍 sweepstakes   \n",
       "17424     \\nThailand is a great choice! \\nYouAreHere ...   \n",
       "884                         ICEF… https://t.co/UdtBszUkJ   \n",
       "10166                          … https://t.co/NptiQCcGmL   \n",
       "9842                             … https://t.co/aAGnHuXw   \n",
       "10037                              … https://t.co/gODLtU   \n",
       "12158                 Great article! Thanks for sharing!   \n",
       "10755                                   See you on Nov !   \n",
       "2887            You may have us… https://t.co/vBKQHaUOdp   \n",
       "\n",
       "                                         Tweet_tokenized  \\\n",
       "17425  [, , \\nbora, bora, sounds, great, to, us!, \\ny...   \n",
       "17427   [, , , \\niceland!, \\nyouarehere, 📍, sweepstakes]   \n",
       "17424  [, , , \\nthailand, is, a, great, choice!, \\nyo...   \n",
       "884    [, , , , , , , , , , icef…, https://t.co/udtbs...   \n",
       "10166       [, , , , , , , , …, https://t.co/nptiqccgml]   \n",
       "9842          [, , , , , , , , …, https://t.co/aagnhuxw]   \n",
       "10037           [, , , , , , , , …, https://t.co/godltu]   \n",
       "12158  [, , , , , , , great, article!, thanks, for, s...   \n",
       "10755               [, , , , , , , see, you, on, nov, !]   \n",
       "2887   [, , , , , , , you, may, have, us…, https://t....   \n",
       "\n",
       "                                     tokenization_Tweets  \n",
       "17425  [, , \\nbora, bora, sounds, great, to, us!, \\ny...  \n",
       "17427   [, , , \\niceland!, \\nyouarehere, 📍, sweepstakes]  \n",
       "17424  [, , , \\nthailand, is, a, great, choice!, \\nyo...  \n",
       "884    [, , , , , , , , , , icef…, https://t.co/udtbs...  \n",
       "10166       [, , , , , , , , …, https://t.co/nptiqccgml]  \n",
       "9842          [, , , , , , , , …, https://t.co/aagnhuxw]  \n",
       "10037           [, , , , , , , , …, https://t.co/godltu]  \n",
       "12158  [, , , , , , , great, article!, thanks, for, s...  \n",
       "10755               [, , , , , , , see, you, on, nov, !]  \n",
       "2887   [, , , , , , , you, may, have, us…, https://t....  "
      ]
     },
     "execution_count": 66,
     "metadata": {},
     "output_type": "execute_result"
    }
   ],
   "source": [
    "def tokenization(text):\n",
    "    text = re.split(' ', text)\n",
    "    return text\n",
    "\n",
    "my_data['tokenization_Tweets'] = my_data['remove2'].apply(lambda x: tokenization(x.lower()))\n",
    "my_data.head(10)"
   ]
  },
  {
   "cell_type": "markdown",
   "metadata": {},
   "source": [
    "<i><font style=\"font-family:cursive; font-size:24px; color:#009966;\">2 - Stopwords & emotions"
   ]
  },
  {
   "cell_type": "code",
   "execution_count": 67,
   "metadata": {},
   "outputs": [],
   "source": [
    " #import stopword\n",
    "from nltk.corpus import stopwords \n",
    "stopwords_eng = stopwords.words('english')\n",
    " \n",
    "#import sastrawi\n",
    "from Sastrawi.Stemmer.StemmerFactory import StemmerFactory\n",
    "factory = StemmerFactory()\n",
    "stemmer = factory.create_stemmer()"
   ]
  },
  {
   "cell_type": "code",
   "execution_count": 68,
   "metadata": {},
   "outputs": [],
   "source": [
    "from nltk.tokenize import TweetTokenizer\n",
    "import string \n",
    "\n",
    "# Happy Emoticons\n",
    "emoticons_happy = set([\n",
    "    ':-)', ':)', ';)', ':o)', ':]', ':3', ':c)', ':>', '=]', '8)', '=)', ':}',\n",
    "    ':^)', ':-D', ':D', '8-D', '8D', 'x-D', 'xD', 'X-D', 'XD', '=-D', '=D',\n",
    "    '=-3', '=3', ':-))', \":'-)\", \":')\", ':*', ':^*', '>:P', ':-P', ':P', 'X-P',\n",
    "    'x-p', 'xp', 'XP', ':-p', ':p', '=p', ':-b', ':b', '>:)', '>;)', '>:-)',\n",
    "    '<3'\n",
    "    ])\n",
    "\n",
    "# Sad Emoticons\n",
    "emoticons_sad = set([\n",
    "    ':L', ':-/', '>:/', ':S', '>:[', ':@', ':-(', ':[', ':-||', '=L', ':<',\n",
    "    ':-[', ':-<', '=\\\\', '=/', '>:(', ':(', '>.<', \":'-(\", \":'(\", ':\\\\', ':-c',\n",
    "    ':c', ':{', '>:\\\\', ';('\n",
    "    ])\n",
    "\n",
    "# all emoticons (happy + sad)\n",
    "emoticons = emoticons_happy.union(emoticons_sad)"
   ]
  },
  {
   "cell_type": "code",
   "execution_count": 69,
   "metadata": {},
   "outputs": [],
   "source": [
    "def clean_tweets(tweet):\n",
    "    # remove stock market tickers like $GE\n",
    "    tweet = re.sub(r'\\$\\w*', '', tweet)\n",
    " \n",
    "    # remove old style retweet text \"RT\"\n",
    "    tweet = re.sub(r'^RT[\\s]+', '', tweet)\n",
    " \n",
    "    # remove hyperlinks\n",
    "    tweet = re.sub(r'https?:\\/\\/.*[\\r\\n]*', '', tweet)\n",
    "    \n",
    "    # remove hashtags\n",
    "    # only removing the hash # sign from the word\n",
    "    tweet = re.sub(r'#', '', tweet)\n",
    "    \n",
    "    #remove coma\n",
    "    tweet = re.sub(r',','',tweet)\n",
    "    \n",
    "    #remove angka\n",
    "    tweet = re.sub('[0-9]+', '', tweet)\n",
    " \n",
    "    # tokenize tweets\n",
    "    tokenizer = TweetTokenizer(preserve_case=False, strip_handles=True, reduce_len=True)\n",
    "    tweet_tokens = tokenizer.tokenize(tweet)\n",
    " \n",
    "    tweets_clean = []    \n",
    "    for word in tweet_tokens:\n",
    "        if (word not in stopwords_eng and # remove stopwords\n",
    "              word not in emoticons and # remove emoticons\n",
    "                word not in string.punctuation): # remove punctuation\n",
    "            #tweets_clean.append(word)\n",
    "            stem_word = stemmer.stem(word) # stemming word\n",
    "            tweets_clean.append(stem_word)\n",
    " \n",
    "    return tweets_clean"
   ]
  },
  {
   "cell_type": "code",
   "execution_count": 74,
   "metadata": {},
   "outputs": [],
   "source": [
    "my_data['tweet_clean'] = my_data['remove2'].apply(lambda x: clean_tweets(x))"
   ]
  },
  {
   "cell_type": "code",
   "execution_count": 75,
   "metadata": {
    "scrolled": true
   },
   "outputs": [
    {
     "data": {
      "text/html": [
       "<div>\n",
       "<style scoped>\n",
       "    .dataframe tbody tr th:only-of-type {\n",
       "        vertical-align: middle;\n",
       "    }\n",
       "\n",
       "    .dataframe tbody tr th {\n",
       "        vertical-align: top;\n",
       "    }\n",
       "\n",
       "    .dataframe thead th {\n",
       "        text-align: right;\n",
       "    }\n",
       "</style>\n",
       "<table border=\"1\" class=\"dataframe\">\n",
       "  <thead>\n",
       "    <tr style=\"text-align: right;\">\n",
       "      <th></th>\n",
       "      <th>ID</th>\n",
       "      <th>Tweet</th>\n",
       "      <th>Source</th>\n",
       "      <th>Date</th>\n",
       "      <th>Likes</th>\n",
       "      <th>Retweet</th>\n",
       "      <th>remove</th>\n",
       "      <th>remove2</th>\n",
       "      <th>Tweet_tokenized</th>\n",
       "      <th>tokenization_Tweets</th>\n",
       "      <th>tweet_clean</th>\n",
       "    </tr>\n",
       "  </thead>\n",
       "  <tbody>\n",
       "    <tr>\n",
       "      <th>17425</th>\n",
       "      <td>787053950235127810</td>\n",
       "      <td>@gbnewyorkcity @MarriottRewards \\nBora Bora so...</td>\n",
       "      <td>Twitter for iPhone</td>\n",
       "      <td>2016-10-14 22:14:19</td>\n",
       "      <td>4</td>\n",
       "      <td>1</td>\n",
       "      <td>\\nBora Bora sounds great to us! \\n#YouAreHer...</td>\n",
       "      <td>\\nBora Bora sounds great to us! \\nYouAreHere...</td>\n",
       "      <td>[, , \\nbora, bora, sounds, great, to, us!, \\ny...</td>\n",
       "      <td>[, , \\nbora, bora, sounds, great, to, us!, \\ny...</td>\n",
       "      <td>[bora, bora, sounds, great, us, youarehere, , ...</td>\n",
       "    </tr>\n",
       "    <tr>\n",
       "      <th>17427</th>\n",
       "      <td>787032808061411328</td>\n",
       "      <td>@jamesmaslow @MarriottRewards @spg \\nIceland! ...</td>\n",
       "      <td>Twitter for iPhone</td>\n",
       "      <td>2016-10-14 20:50:18</td>\n",
       "      <td>2</td>\n",
       "      <td>1</td>\n",
       "      <td>\\nIceland! \\n#YouAreHere 📍 #sweepstakes</td>\n",
       "      <td>\\nIceland! \\nYouAreHere 📍 sweepstakes</td>\n",
       "      <td>[, , , \\niceland!, \\nyouarehere, 📍, sweepstakes]</td>\n",
       "      <td>[, , , \\niceland!, \\nyouarehere, 📍, sweepstakes]</td>\n",
       "      <td>[iceland, youarehere, , sweepstakes]</td>\n",
       "    </tr>\n",
       "    <tr>\n",
       "      <th>17424</th>\n",
       "      <td>787054909048836096</td>\n",
       "      <td>@FitnessQueen @MarriottRewards @spg \\nThailand...</td>\n",
       "      <td>Twitter for iPhone</td>\n",
       "      <td>2016-10-14 22:18:07</td>\n",
       "      <td>2</td>\n",
       "      <td>1</td>\n",
       "      <td>\\nThailand is a great choice! \\n#YouAreHere...</td>\n",
       "      <td>\\nThailand is a great choice! \\nYouAreHere ...</td>\n",
       "      <td>[, , , \\nthailand, is, a, great, choice!, \\nyo...</td>\n",
       "      <td>[, , , \\nthailand, is, a, great, choice!, \\nyo...</td>\n",
       "      <td>[thailand, great, choice, youarehere, , sweeps...</td>\n",
       "    </tr>\n",
       "    <tr>\n",
       "      <th>884</th>\n",
       "      <td>1296097309068070912</td>\n",
       "      <td>@chefjoseandres @UN @MINUSTAH @RedCross @MSF_U...</td>\n",
       "      <td>Hootsuite Inc.</td>\n",
       "      <td>2020-08-19 14:50:53</td>\n",
       "      <td>1</td>\n",
       "      <td>0</td>\n",
       "      <td>ICEF… https://t.co/UdtBszU4kJ</td>\n",
       "      <td>ICEF… https://t.co/UdtBszUkJ</td>\n",
       "      <td>[, , , , , , , , , , icef…, https://t.co/udtbs...</td>\n",
       "      <td>[, , , , , , , , , , icef…, https://t.co/udtbs...</td>\n",
       "      <td>[icef, ]</td>\n",
       "    </tr>\n",
       "    <tr>\n",
       "      <th>10166</th>\n",
       "      <td>1333242164415926272</td>\n",
       "      <td>@romulo_damacena @jairbolsonaro @mec @MinEcono...</td>\n",
       "      <td>Twitter Web App</td>\n",
       "      <td>2020-11-30 02:51:17</td>\n",
       "      <td>3</td>\n",
       "      <td>0</td>\n",
       "      <td>… https://t.co/NptiQCcGmL</td>\n",
       "      <td>… https://t.co/NptiQCcGmL</td>\n",
       "      <td>[, , , , , , , , …, https://t.co/nptiqccgml]</td>\n",
       "      <td>[, , , , , , , , …, https://t.co/nptiqccgml]</td>\n",
       "      <td>[]</td>\n",
       "    </tr>\n",
       "  </tbody>\n",
       "</table>\n",
       "</div>"
      ],
      "text/plain": [
       "                        ID                                              Tweet  \\\n",
       "17425   787053950235127810  @gbnewyorkcity @MarriottRewards \\nBora Bora so...   \n",
       "17427   787032808061411328  @jamesmaslow @MarriottRewards @spg \\nIceland! ...   \n",
       "17424   787054909048836096  @FitnessQueen @MarriottRewards @spg \\nThailand...   \n",
       "884    1296097309068070912  @chefjoseandres @UN @MINUSTAH @RedCross @MSF_U...   \n",
       "10166  1333242164415926272  @romulo_damacena @jairbolsonaro @mec @MinEcono...   \n",
       "\n",
       "                   Source                 Date  Likes  Retweet  \\\n",
       "17425  Twitter for iPhone  2016-10-14 22:14:19      4        1   \n",
       "17427  Twitter for iPhone  2016-10-14 20:50:18      2        1   \n",
       "17424  Twitter for iPhone  2016-10-14 22:18:07      2        1   \n",
       "884        Hootsuite Inc.  2020-08-19 14:50:53      1        0   \n",
       "10166     Twitter Web App  2020-11-30 02:51:17      3        0   \n",
       "\n",
       "                                                  remove  \\\n",
       "17425    \\nBora Bora sounds great to us! \\n#YouAreHer...   \n",
       "17427            \\nIceland! \\n#YouAreHere 📍 #sweepstakes   \n",
       "17424     \\nThailand is a great choice! \\n#YouAreHere...   \n",
       "884                        ICEF… https://t.co/UdtBszU4kJ   \n",
       "10166                          … https://t.co/NptiQCcGmL   \n",
       "\n",
       "                                                 remove2  \\\n",
       "17425    \\nBora Bora sounds great to us! \\nYouAreHere...   \n",
       "17427              \\nIceland! \\nYouAreHere 📍 sweepstakes   \n",
       "17424     \\nThailand is a great choice! \\nYouAreHere ...   \n",
       "884                         ICEF… https://t.co/UdtBszUkJ   \n",
       "10166                          … https://t.co/NptiQCcGmL   \n",
       "\n",
       "                                         Tweet_tokenized  \\\n",
       "17425  [, , \\nbora, bora, sounds, great, to, us!, \\ny...   \n",
       "17427   [, , , \\niceland!, \\nyouarehere, 📍, sweepstakes]   \n",
       "17424  [, , , \\nthailand, is, a, great, choice!, \\nyo...   \n",
       "884    [, , , , , , , , , , icef…, https://t.co/udtbs...   \n",
       "10166       [, , , , , , , , …, https://t.co/nptiqccgml]   \n",
       "\n",
       "                                     tokenization_Tweets  \\\n",
       "17425  [, , \\nbora, bora, sounds, great, to, us!, \\ny...   \n",
       "17427   [, , , \\niceland!, \\nyouarehere, 📍, sweepstakes]   \n",
       "17424  [, , , \\nthailand, is, a, great, choice!, \\nyo...   \n",
       "884    [, , , , , , , , , , icef…, https://t.co/udtbs...   \n",
       "10166       [, , , , , , , , …, https://t.co/nptiqccgml]   \n",
       "\n",
       "                                             tweet_clean  \n",
       "17425  [bora, bora, sounds, great, us, youarehere, , ...  \n",
       "17427               [iceland, youarehere, , sweepstakes]  \n",
       "17424  [thailand, great, choice, youarehere, , sweeps...  \n",
       "884                                             [icef, ]  \n",
       "10166                                                 []  "
      ]
     },
     "execution_count": 75,
     "metadata": {},
     "output_type": "execute_result"
    }
   ],
   "source": [
    "my_data.head(5)"
   ]
  },
  {
   "cell_type": "markdown",
   "metadata": {},
   "source": [
    "<i><font style=\"font-family:cursive; font-size:24px; color:#009966;\">Punctiations"
   ]
  },
  {
   "cell_type": "markdown",
   "metadata": {},
   "source": [
    "<i><font style=\"font-family:cursive;\">string.punctuation est une chaîne pré-initialisée utilisée comme constante de chaîne. En Python, string.punctuation donnera tous les ensembles de ponctuation"
   ]
  },
  {
   "cell_type": "code",
   "execution_count": 76,
   "metadata": {},
   "outputs": [
    {
     "data": {
      "text/plain": [
       "'!\"#$%&\\'()*+,-./:;<=>?@[\\\\]^_`{|}~'"
      ]
     },
     "execution_count": 76,
     "metadata": {},
     "output_type": "execute_result"
    }
   ],
   "source": [
    "import string\n",
    "from string import punctuation\n",
    "\n",
    "string.punctuation"
   ]
  },
  {
   "cell_type": "code",
   "execution_count": 77,
   "metadata": {},
   "outputs": [],
   "source": [
    "#remove punct\n",
    "def remove_punct(text):\n",
    "    text  = \" \".join([char for char in text if char not in string.punctuation])\n",
    "    return text\n",
    "my_data['Tweets'] = my_data['tweet_clean'].apply(lambda x: remove_punct(x))"
   ]
  },
  {
   "cell_type": "code",
   "execution_count": 78,
   "metadata": {},
   "outputs": [
    {
     "data": {
      "text/html": [
       "<div>\n",
       "<style scoped>\n",
       "    .dataframe tbody tr th:only-of-type {\n",
       "        vertical-align: middle;\n",
       "    }\n",
       "\n",
       "    .dataframe tbody tr th {\n",
       "        vertical-align: top;\n",
       "    }\n",
       "\n",
       "    .dataframe thead th {\n",
       "        text-align: right;\n",
       "    }\n",
       "</style>\n",
       "<table border=\"1\" class=\"dataframe\">\n",
       "  <thead>\n",
       "    <tr style=\"text-align: right;\">\n",
       "      <th></th>\n",
       "      <th>ID</th>\n",
       "      <th>Tweet</th>\n",
       "      <th>Source</th>\n",
       "      <th>Date</th>\n",
       "      <th>Likes</th>\n",
       "      <th>Retweet</th>\n",
       "      <th>remove</th>\n",
       "      <th>remove2</th>\n",
       "      <th>Tweet_tokenized</th>\n",
       "      <th>tokenization_Tweets</th>\n",
       "      <th>tweet_clean</th>\n",
       "      <th>Tweets</th>\n",
       "    </tr>\n",
       "  </thead>\n",
       "  <tbody>\n",
       "    <tr>\n",
       "      <th>3718</th>\n",
       "      <td>976818128486354947</td>\n",
       "      <td>🇵🇹 https://t.co/b0SUaPwbdU</td>\n",
       "      <td>Twitter for iPhone</td>\n",
       "      <td>2018-03-22 13:49:24</td>\n",
       "      <td>113324</td>\n",
       "      <td>12497</td>\n",
       "      <td>🇵🇹 https://t.co/b0SUaPwbdU</td>\n",
       "      <td>🇵🇹 https://t.co/bSUaPwbdU</td>\n",
       "      <td>[🇵🇹, https://t.co/bsuapwbdu]</td>\n",
       "      <td>[🇵🇹, https://t.co/bsuapwbdu]</td>\n",
       "      <td>[, ]</td>\n",
       "      <td></td>\n",
       "    </tr>\n",
       "    <tr>\n",
       "      <th>16906</th>\n",
       "      <td>816436520781541376</td>\n",
       "      <td>Aare Gorge, Switzerland https://t.co/OWguq6VFID</td>\n",
       "      <td>Buffer</td>\n",
       "      <td>2017-01-04 00:10:09</td>\n",
       "      <td>707</td>\n",
       "      <td>244</td>\n",
       "      <td>Aare Gorge, Switzerland https://t.co/OWguq6VFID</td>\n",
       "      <td>Aare Gorge, Switzerland https://t.co/OWguqVFID</td>\n",
       "      <td>[aare, gorge,, switzerland, https://t.co/owguq...</td>\n",
       "      <td>[aare, gorge,, switzerland, https://t.co/owguq...</td>\n",
       "      <td>[aare, gorge, switzerland]</td>\n",
       "      <td>aare gorge switzerland</td>\n",
       "    </tr>\n",
       "    <tr>\n",
       "      <th>13918</th>\n",
       "      <td>786602176588251137</td>\n",
       "      <td>AB Test Intro: What is #AB Testing?- #Conversi...</td>\n",
       "      <td>Buffer</td>\n",
       "      <td>2016-10-13 16:19:07</td>\n",
       "      <td>5</td>\n",
       "      <td>0</td>\n",
       "      <td>AB Test Intro: What is #AB Testing?- #Conversi...</td>\n",
       "      <td>AB Test Intro: What is AB Testing?- Conversion...</td>\n",
       "      <td>[ab, test, intro:, what, is, ab, testing?-, co...</td>\n",
       "      <td>[ab, test, intro:, what, is, ab, testing?-, co...</td>\n",
       "      <td>[ab, test, intro, ab, testing, conversion, sci...</td>\n",
       "      <td>ab test intro ab testing conversion sciences</td>\n",
       "    </tr>\n",
       "    <tr>\n",
       "      <th>17788</th>\n",
       "      <td>767049563744116736</td>\n",
       "      <td>Abandoned Castle, Germany https://t.co/lCdCziB7BP</td>\n",
       "      <td>Buffer</td>\n",
       "      <td>2016-08-20 17:24:01</td>\n",
       "      <td>334</td>\n",
       "      <td>119</td>\n",
       "      <td>Abandoned Castle, Germany https://t.co/lCdCziB7BP</td>\n",
       "      <td>Abandoned Castle, Germany https://t.co/lCdCziBBP</td>\n",
       "      <td>[abandoned, castle,, germany, https://t.co/lcd...</td>\n",
       "      <td>[abandoned, castle,, germany, https://t.co/lcd...</td>\n",
       "      <td>[abandoned, castle, germany]</td>\n",
       "      <td>abandoned castle germany</td>\n",
       "    </tr>\n",
       "    <tr>\n",
       "      <th>17869</th>\n",
       "      <td>762338523412328449</td>\n",
       "      <td>Abandoned castle, Italy https://t.co/USkY9tdzeC</td>\n",
       "      <td>Buffer</td>\n",
       "      <td>2016-08-07 17:24:02</td>\n",
       "      <td>553</td>\n",
       "      <td>183</td>\n",
       "      <td>Abandoned castle, Italy https://t.co/USkY9tdzeC</td>\n",
       "      <td>Abandoned castle, Italy https://t.co/USkYtdzeC</td>\n",
       "      <td>[abandoned, castle,, italy, https://t.co/uskyt...</td>\n",
       "      <td>[abandoned, castle,, italy, https://t.co/uskyt...</td>\n",
       "      <td>[abandoned, castle, italy]</td>\n",
       "      <td>abandoned castle italy</td>\n",
       "    </tr>\n",
       "    <tr>\n",
       "      <th>...</th>\n",
       "      <td>...</td>\n",
       "      <td>...</td>\n",
       "      <td>...</td>\n",
       "      <td>...</td>\n",
       "      <td>...</td>\n",
       "      <td>...</td>\n",
       "      <td>...</td>\n",
       "      <td>...</td>\n",
       "      <td>...</td>\n",
       "      <td>...</td>\n",
       "      <td>...</td>\n",
       "      <td>...</td>\n",
       "    </tr>\n",
       "    <tr>\n",
       "      <th>17001</th>\n",
       "      <td>811293956269023236</td>\n",
       "      <td>Ziplining in Switzerland https://t.co/fnXdqfn47E</td>\n",
       "      <td>Buffer</td>\n",
       "      <td>2016-12-20 19:35:26</td>\n",
       "      <td>838</td>\n",
       "      <td>301</td>\n",
       "      <td>Ziplining in Switzerland https://t.co/fnXdqfn47E</td>\n",
       "      <td>Ziplining in Switzerland https://t.co/fnXdqfnE</td>\n",
       "      <td>[ziplining, in, switzerland, https://t.co/fnxd...</td>\n",
       "      <td>[ziplining, in, switzerland, https://t.co/fnxd...</td>\n",
       "      <td>[ziplining, switzerland]</td>\n",
       "      <td>ziplining switzerland</td>\n",
       "    </tr>\n",
       "    <tr>\n",
       "      <th>2906</th>\n",
       "      <td>1205534411502034945</td>\n",
       "      <td>Zohour and her family of 7 were forced to flee...</td>\n",
       "      <td>Twitter Web App</td>\n",
       "      <td>2019-12-13 17:06:16</td>\n",
       "      <td>9</td>\n",
       "      <td>3</td>\n",
       "      <td>Zohour and her family of 7 were forced to flee...</td>\n",
       "      <td>Zohour and her family of  were forced to flee ...</td>\n",
       "      <td>[zohour, and, her, family, of, , were, forced,...</td>\n",
       "      <td>[zohour, and, her, family, of, , were, forced,...</td>\n",
       "      <td>[zohour, family, forced, flee, village, bombed...</td>\n",
       "      <td>zohour family forced flee village bombed displ...</td>\n",
       "    </tr>\n",
       "    <tr>\n",
       "      <th>48</th>\n",
       "      <td>1334627233361780736</td>\n",
       "      <td>In 2017, Zokiya fled violence in Myanmar and b...</td>\n",
       "      <td>Hootsuite Inc.</td>\n",
       "      <td>2020-12-03 22:35:03</td>\n",
       "      <td>8</td>\n",
       "      <td>0</td>\n",
       "      <td>In 2017, Zokiya fled violence in Myanmar and b...</td>\n",
       "      <td>In , Zokiya fled violence in Myanmar and becam...</td>\n",
       "      <td>[in, ,, zokiya, fled, violence, in, myanmar, a...</td>\n",
       "      <td>[in, ,, zokiya, fled, violence, in, myanmar, a...</td>\n",
       "      <td>[zokiya, fled, violence, myanmar, became, part...</td>\n",
       "      <td>zokiya fled violence myanmar became part influ...</td>\n",
       "    </tr>\n",
       "    <tr>\n",
       "      <th>17294</th>\n",
       "      <td>793832324991516672</td>\n",
       "      <td>Zug, Switzerland https://t.co/M2QZUaFeu7</td>\n",
       "      <td>Buffer</td>\n",
       "      <td>2016-11-02 15:09:09</td>\n",
       "      <td>335</td>\n",
       "      <td>122</td>\n",
       "      <td>Zug, Switzerland https://t.co/M2QZUaFeu7</td>\n",
       "      <td>Zug, Switzerland https://t.co/MQZUaFeu</td>\n",
       "      <td>[zug,, switzerland, https://t.co/mqzuafeu]</td>\n",
       "      <td>[zug,, switzerland, https://t.co/mqzuafeu]</td>\n",
       "      <td>[zug, switzerland]</td>\n",
       "      <td>zug switzerland</td>\n",
       "    </tr>\n",
       "    <tr>\n",
       "      <th>16742</th>\n",
       "      <td>827549466328760320</td>\n",
       "      <td>Zurich, Switzerland https://t.co/MPd2459Bgb</td>\n",
       "      <td>Buffer</td>\n",
       "      <td>2017-02-03 16:09:02</td>\n",
       "      <td>863</td>\n",
       "      <td>239</td>\n",
       "      <td>Zurich, Switzerland https://t.co/MPd2459Bgb</td>\n",
       "      <td>Zurich, Switzerland https://t.co/MPdBgb</td>\n",
       "      <td>[zurich,, switzerland, https://t.co/mpdbgb]</td>\n",
       "      <td>[zurich,, switzerland, https://t.co/mpdbgb]</td>\n",
       "      <td>[zurich, switzerland]</td>\n",
       "      <td>zurich switzerland</td>\n",
       "    </tr>\n",
       "  </tbody>\n",
       "</table>\n",
       "<p>13876 rows × 12 columns</p>\n",
       "</div>"
      ],
      "text/plain": [
       "                        ID                                              Tweet  \\\n",
       "3718    976818128486354947                         🇵🇹 https://t.co/b0SUaPwbdU   \n",
       "16906   816436520781541376    Aare Gorge, Switzerland https://t.co/OWguq6VFID   \n",
       "13918   786602176588251137  AB Test Intro: What is #AB Testing?- #Conversi...   \n",
       "17788   767049563744116736  Abandoned Castle, Germany https://t.co/lCdCziB7BP   \n",
       "17869   762338523412328449    Abandoned castle, Italy https://t.co/USkY9tdzeC   \n",
       "...                    ...                                                ...   \n",
       "17001   811293956269023236   Ziplining in Switzerland https://t.co/fnXdqfn47E   \n",
       "2906   1205534411502034945  Zohour and her family of 7 were forced to flee...   \n",
       "48     1334627233361780736  In 2017, Zokiya fled violence in Myanmar and b...   \n",
       "17294   793832324991516672           Zug, Switzerland https://t.co/M2QZUaFeu7   \n",
       "16742   827549466328760320        Zurich, Switzerland https://t.co/MPd2459Bgb   \n",
       "\n",
       "                   Source                 Date   Likes  Retweet  \\\n",
       "3718   Twitter for iPhone  2018-03-22 13:49:24  113324    12497   \n",
       "16906              Buffer  2017-01-04 00:10:09     707      244   \n",
       "13918              Buffer  2016-10-13 16:19:07       5        0   \n",
       "17788              Buffer  2016-08-20 17:24:01     334      119   \n",
       "17869              Buffer  2016-08-07 17:24:02     553      183   \n",
       "...                   ...                  ...     ...      ...   \n",
       "17001              Buffer  2016-12-20 19:35:26     838      301   \n",
       "2906      Twitter Web App  2019-12-13 17:06:16       9        3   \n",
       "48         Hootsuite Inc.  2020-12-03 22:35:03       8        0   \n",
       "17294              Buffer  2016-11-02 15:09:09     335      122   \n",
       "16742              Buffer  2017-02-03 16:09:02     863      239   \n",
       "\n",
       "                                                  remove  \\\n",
       "3718                          🇵🇹 https://t.co/b0SUaPwbdU   \n",
       "16906    Aare Gorge, Switzerland https://t.co/OWguq6VFID   \n",
       "13918  AB Test Intro: What is #AB Testing?- #Conversi...   \n",
       "17788  Abandoned Castle, Germany https://t.co/lCdCziB7BP   \n",
       "17869    Abandoned castle, Italy https://t.co/USkY9tdzeC   \n",
       "...                                                  ...   \n",
       "17001   Ziplining in Switzerland https://t.co/fnXdqfn47E   \n",
       "2906   Zohour and her family of 7 were forced to flee...   \n",
       "48     In 2017, Zokiya fled violence in Myanmar and b...   \n",
       "17294           Zug, Switzerland https://t.co/M2QZUaFeu7   \n",
       "16742        Zurich, Switzerland https://t.co/MPd2459Bgb   \n",
       "\n",
       "                                                 remove2  \\\n",
       "3718                           🇵🇹 https://t.co/bSUaPwbdU   \n",
       "16906     Aare Gorge, Switzerland https://t.co/OWguqVFID   \n",
       "13918  AB Test Intro: What is AB Testing?- Conversion...   \n",
       "17788   Abandoned Castle, Germany https://t.co/lCdCziBBP   \n",
       "17869     Abandoned castle, Italy https://t.co/USkYtdzeC   \n",
       "...                                                  ...   \n",
       "17001     Ziplining in Switzerland https://t.co/fnXdqfnE   \n",
       "2906   Zohour and her family of  were forced to flee ...   \n",
       "48     In , Zokiya fled violence in Myanmar and becam...   \n",
       "17294             Zug, Switzerland https://t.co/MQZUaFeu   \n",
       "16742            Zurich, Switzerland https://t.co/MPdBgb   \n",
       "\n",
       "                                         Tweet_tokenized  \\\n",
       "3718                        [🇵🇹, https://t.co/bsuapwbdu]   \n",
       "16906  [aare, gorge,, switzerland, https://t.co/owguq...   \n",
       "13918  [ab, test, intro:, what, is, ab, testing?-, co...   \n",
       "17788  [abandoned, castle,, germany, https://t.co/lcd...   \n",
       "17869  [abandoned, castle,, italy, https://t.co/uskyt...   \n",
       "...                                                  ...   \n",
       "17001  [ziplining, in, switzerland, https://t.co/fnxd...   \n",
       "2906   [zohour, and, her, family, of, , were, forced,...   \n",
       "48     [in, ,, zokiya, fled, violence, in, myanmar, a...   \n",
       "17294         [zug,, switzerland, https://t.co/mqzuafeu]   \n",
       "16742        [zurich,, switzerland, https://t.co/mpdbgb]   \n",
       "\n",
       "                                     tokenization_Tweets  \\\n",
       "3718                        [🇵🇹, https://t.co/bsuapwbdu]   \n",
       "16906  [aare, gorge,, switzerland, https://t.co/owguq...   \n",
       "13918  [ab, test, intro:, what, is, ab, testing?-, co...   \n",
       "17788  [abandoned, castle,, germany, https://t.co/lcd...   \n",
       "17869  [abandoned, castle,, italy, https://t.co/uskyt...   \n",
       "...                                                  ...   \n",
       "17001  [ziplining, in, switzerland, https://t.co/fnxd...   \n",
       "2906   [zohour, and, her, family, of, , were, forced,...   \n",
       "48     [in, ,, zokiya, fled, violence, in, myanmar, a...   \n",
       "17294         [zug,, switzerland, https://t.co/mqzuafeu]   \n",
       "16742        [zurich,, switzerland, https://t.co/mpdbgb]   \n",
       "\n",
       "                                             tweet_clean  \\\n",
       "3718                                                [, ]   \n",
       "16906                         [aare, gorge, switzerland]   \n",
       "13918  [ab, test, intro, ab, testing, conversion, sci...   \n",
       "17788                       [abandoned, castle, germany]   \n",
       "17869                         [abandoned, castle, italy]   \n",
       "...                                                  ...   \n",
       "17001                           [ziplining, switzerland]   \n",
       "2906   [zohour, family, forced, flee, village, bombed...   \n",
       "48     [zokiya, fled, violence, myanmar, became, part...   \n",
       "17294                                 [zug, switzerland]   \n",
       "16742                              [zurich, switzerland]   \n",
       "\n",
       "                                                  Tweets  \n",
       "3718                                                      \n",
       "16906                             aare gorge switzerland  \n",
       "13918       ab test intro ab testing conversion sciences  \n",
       "17788                           abandoned castle germany  \n",
       "17869                             abandoned castle italy  \n",
       "...                                                  ...  \n",
       "17001                              ziplining switzerland  \n",
       "2906   zohour family forced flee village bombed displ...  \n",
       "48     zokiya fled violence myanmar became part influ...  \n",
       "17294                                    zug switzerland  \n",
       "16742                                 zurich switzerland  \n",
       "\n",
       "[13876 rows x 12 columns]"
      ]
     },
     "execution_count": 78,
     "metadata": {},
     "output_type": "execute_result"
    }
   ],
   "source": [
    "my_data.sort_values(\"Tweets\", inplace = True)\n",
    "my_data.drop_duplicates(subset =\"Tweets\", keep = 'first', inplace = True)\n",
    "my_data"
   ]
  },
  {
   "cell_type": "markdown",
   "metadata": {},
   "source": [
    "<i><font style=\"font-family:cursive; font-size:24px; color:#009966;\">4 - Normalizing Words"
   ]
  },
  {
   "cell_type": "markdown",
   "metadata": {},
   "source": [
    "<i><font style=\"font-family:cursive; font-size:20px; color:blue;\">Stemming"
   ]
  },
  {
   "cell_type": "code",
   "execution_count": 79,
   "metadata": {},
   "outputs": [
    {
     "data": {
      "text/html": [
       "<div>\n",
       "<style scoped>\n",
       "    .dataframe tbody tr th:only-of-type {\n",
       "        vertical-align: middle;\n",
       "    }\n",
       "\n",
       "    .dataframe tbody tr th {\n",
       "        vertical-align: top;\n",
       "    }\n",
       "\n",
       "    .dataframe thead th {\n",
       "        text-align: right;\n",
       "    }\n",
       "</style>\n",
       "<table border=\"1\" class=\"dataframe\">\n",
       "  <thead>\n",
       "    <tr style=\"text-align: right;\">\n",
       "      <th></th>\n",
       "      <th>ID</th>\n",
       "      <th>Tweet</th>\n",
       "      <th>Source</th>\n",
       "      <th>Date</th>\n",
       "      <th>Likes</th>\n",
       "      <th>Retweet</th>\n",
       "      <th>remove</th>\n",
       "      <th>remove2</th>\n",
       "      <th>Tweet_tokenized</th>\n",
       "      <th>tokenization_Tweets</th>\n",
       "      <th>tweet_clean</th>\n",
       "      <th>Tweets</th>\n",
       "      <th>Stemming_Tweets</th>\n",
       "    </tr>\n",
       "  </thead>\n",
       "  <tbody>\n",
       "    <tr>\n",
       "      <th>3718</th>\n",
       "      <td>976818128486354947</td>\n",
       "      <td>🇵🇹 https://t.co/b0SUaPwbdU</td>\n",
       "      <td>Twitter for iPhone</td>\n",
       "      <td>2018-03-22 13:49:24</td>\n",
       "      <td>113324</td>\n",
       "      <td>12497</td>\n",
       "      <td>🇵🇹 https://t.co/b0SUaPwbdU</td>\n",
       "      <td>🇵🇹 https://t.co/bSUaPwbdU</td>\n",
       "      <td>[🇵🇹, https://t.co/bsuapwbdu]</td>\n",
       "      <td>[🇵🇹, https://t.co/bsuapwbdu]</td>\n",
       "      <td>[, ]</td>\n",
       "      <td></td>\n",
       "      <td>[, ]</td>\n",
       "    </tr>\n",
       "    <tr>\n",
       "      <th>16906</th>\n",
       "      <td>816436520781541376</td>\n",
       "      <td>Aare Gorge, Switzerland https://t.co/OWguq6VFID</td>\n",
       "      <td>Buffer</td>\n",
       "      <td>2017-01-04 00:10:09</td>\n",
       "      <td>707</td>\n",
       "      <td>244</td>\n",
       "      <td>Aare Gorge, Switzerland https://t.co/OWguq6VFID</td>\n",
       "      <td>Aare Gorge, Switzerland https://t.co/OWguqVFID</td>\n",
       "      <td>[aare, gorge,, switzerland, https://t.co/owguq...</td>\n",
       "      <td>[aare, gorge,, switzerland, https://t.co/owguq...</td>\n",
       "      <td>[aare, gorge, switzerland]</td>\n",
       "      <td>aare gorge switzerland</td>\n",
       "      <td>[aar, gorg, switzerland]</td>\n",
       "    </tr>\n",
       "    <tr>\n",
       "      <th>13918</th>\n",
       "      <td>786602176588251137</td>\n",
       "      <td>AB Test Intro: What is #AB Testing?- #Conversi...</td>\n",
       "      <td>Buffer</td>\n",
       "      <td>2016-10-13 16:19:07</td>\n",
       "      <td>5</td>\n",
       "      <td>0</td>\n",
       "      <td>AB Test Intro: What is #AB Testing?- #Conversi...</td>\n",
       "      <td>AB Test Intro: What is AB Testing?- Conversion...</td>\n",
       "      <td>[ab, test, intro:, what, is, ab, testing?-, co...</td>\n",
       "      <td>[ab, test, intro:, what, is, ab, testing?-, co...</td>\n",
       "      <td>[ab, test, intro, ab, testing, conversion, sci...</td>\n",
       "      <td>ab test intro ab testing conversion sciences</td>\n",
       "      <td>[ab, test, intro, ab, test, convers, scienc]</td>\n",
       "    </tr>\n",
       "    <tr>\n",
       "      <th>17788</th>\n",
       "      <td>767049563744116736</td>\n",
       "      <td>Abandoned Castle, Germany https://t.co/lCdCziB7BP</td>\n",
       "      <td>Buffer</td>\n",
       "      <td>2016-08-20 17:24:01</td>\n",
       "      <td>334</td>\n",
       "      <td>119</td>\n",
       "      <td>Abandoned Castle, Germany https://t.co/lCdCziB7BP</td>\n",
       "      <td>Abandoned Castle, Germany https://t.co/lCdCziBBP</td>\n",
       "      <td>[abandoned, castle,, germany, https://t.co/lcd...</td>\n",
       "      <td>[abandoned, castle,, germany, https://t.co/lcd...</td>\n",
       "      <td>[abandoned, castle, germany]</td>\n",
       "      <td>abandoned castle germany</td>\n",
       "      <td>[abandon, castl, germani]</td>\n",
       "    </tr>\n",
       "    <tr>\n",
       "      <th>17869</th>\n",
       "      <td>762338523412328449</td>\n",
       "      <td>Abandoned castle, Italy https://t.co/USkY9tdzeC</td>\n",
       "      <td>Buffer</td>\n",
       "      <td>2016-08-07 17:24:02</td>\n",
       "      <td>553</td>\n",
       "      <td>183</td>\n",
       "      <td>Abandoned castle, Italy https://t.co/USkY9tdzeC</td>\n",
       "      <td>Abandoned castle, Italy https://t.co/USkYtdzeC</td>\n",
       "      <td>[abandoned, castle,, italy, https://t.co/uskyt...</td>\n",
       "      <td>[abandoned, castle,, italy, https://t.co/uskyt...</td>\n",
       "      <td>[abandoned, castle, italy]</td>\n",
       "      <td>abandoned castle italy</td>\n",
       "      <td>[abandon, castl, itali]</td>\n",
       "    </tr>\n",
       "  </tbody>\n",
       "</table>\n",
       "</div>"
      ],
      "text/plain": [
       "                       ID                                              Tweet  \\\n",
       "3718   976818128486354947                         🇵🇹 https://t.co/b0SUaPwbdU   \n",
       "16906  816436520781541376    Aare Gorge, Switzerland https://t.co/OWguq6VFID   \n",
       "13918  786602176588251137  AB Test Intro: What is #AB Testing?- #Conversi...   \n",
       "17788  767049563744116736  Abandoned Castle, Germany https://t.co/lCdCziB7BP   \n",
       "17869  762338523412328449    Abandoned castle, Italy https://t.co/USkY9tdzeC   \n",
       "\n",
       "                   Source                 Date   Likes  Retweet  \\\n",
       "3718   Twitter for iPhone  2018-03-22 13:49:24  113324    12497   \n",
       "16906              Buffer  2017-01-04 00:10:09     707      244   \n",
       "13918              Buffer  2016-10-13 16:19:07       5        0   \n",
       "17788              Buffer  2016-08-20 17:24:01     334      119   \n",
       "17869              Buffer  2016-08-07 17:24:02     553      183   \n",
       "\n",
       "                                                  remove  \\\n",
       "3718                          🇵🇹 https://t.co/b0SUaPwbdU   \n",
       "16906    Aare Gorge, Switzerland https://t.co/OWguq6VFID   \n",
       "13918  AB Test Intro: What is #AB Testing?- #Conversi...   \n",
       "17788  Abandoned Castle, Germany https://t.co/lCdCziB7BP   \n",
       "17869    Abandoned castle, Italy https://t.co/USkY9tdzeC   \n",
       "\n",
       "                                                 remove2  \\\n",
       "3718                           🇵🇹 https://t.co/bSUaPwbdU   \n",
       "16906     Aare Gorge, Switzerland https://t.co/OWguqVFID   \n",
       "13918  AB Test Intro: What is AB Testing?- Conversion...   \n",
       "17788   Abandoned Castle, Germany https://t.co/lCdCziBBP   \n",
       "17869     Abandoned castle, Italy https://t.co/USkYtdzeC   \n",
       "\n",
       "                                         Tweet_tokenized  \\\n",
       "3718                        [🇵🇹, https://t.co/bsuapwbdu]   \n",
       "16906  [aare, gorge,, switzerland, https://t.co/owguq...   \n",
       "13918  [ab, test, intro:, what, is, ab, testing?-, co...   \n",
       "17788  [abandoned, castle,, germany, https://t.co/lcd...   \n",
       "17869  [abandoned, castle,, italy, https://t.co/uskyt...   \n",
       "\n",
       "                                     tokenization_Tweets  \\\n",
       "3718                        [🇵🇹, https://t.co/bsuapwbdu]   \n",
       "16906  [aare, gorge,, switzerland, https://t.co/owguq...   \n",
       "13918  [ab, test, intro:, what, is, ab, testing?-, co...   \n",
       "17788  [abandoned, castle,, germany, https://t.co/lcd...   \n",
       "17869  [abandoned, castle,, italy, https://t.co/uskyt...   \n",
       "\n",
       "                                             tweet_clean  \\\n",
       "3718                                                [, ]   \n",
       "16906                         [aare, gorge, switzerland]   \n",
       "13918  [ab, test, intro, ab, testing, conversion, sci...   \n",
       "17788                       [abandoned, castle, germany]   \n",
       "17869                         [abandoned, castle, italy]   \n",
       "\n",
       "                                             Tweets  \\\n",
       "3718                                                  \n",
       "16906                        aare gorge switzerland   \n",
       "13918  ab test intro ab testing conversion sciences   \n",
       "17788                      abandoned castle germany   \n",
       "17869                        abandoned castle italy   \n",
       "\n",
       "                                    Stemming_Tweets  \n",
       "3718                                           [, ]  \n",
       "16906                      [aar, gorg, switzerland]  \n",
       "13918  [ab, test, intro, ab, test, convers, scienc]  \n",
       "17788                     [abandon, castl, germani]  \n",
       "17869                       [abandon, castl, itali]  "
      ]
     },
     "execution_count": 79,
     "metadata": {},
     "output_type": "execute_result"
    }
   ],
   "source": [
    "stm = nltk.PorterStemmer()\n",
    "def stemming(text):\n",
    "    text = [stm.stem(word) for word in text]\n",
    "    return text\n",
    "\n",
    "my_data['Stemming_Tweets'] = my_data['tweet_clean'].apply(lambda x: stemming(x))\n",
    "my_data.head()"
   ]
  },
  {
   "cell_type": "markdown",
   "metadata": {},
   "source": [
    "<i><font style=\"font-family:cursive; font-size:20px; color:blue;\">Lemmatization"
   ]
  },
  {
   "cell_type": "code",
   "execution_count": 127,
   "metadata": {},
   "outputs": [
    {
     "name": "stderr",
     "output_type": "stream",
     "text": [
      "[nltk_data] Downloading package wordnet to\n",
      "[nltk_data]     C:\\Users\\Hadhouma\\AppData\\Roaming\\nltk_data...\n",
      "[nltk_data]   Unzipping corpora\\wordnet.zip.\n"
     ]
    },
    {
     "data": {
      "text/plain": [
       "True"
      ]
     },
     "execution_count": 127,
     "metadata": {},
     "output_type": "execute_result"
    }
   ],
   "source": [
    "import nltk\n",
    "nltk.download('wordnet')"
   ]
  },
  {
   "cell_type": "code",
   "execution_count": 80,
   "metadata": {},
   "outputs": [
    {
     "data": {
      "text/html": [
       "<div>\n",
       "<style scoped>\n",
       "    .dataframe tbody tr th:only-of-type {\n",
       "        vertical-align: middle;\n",
       "    }\n",
       "\n",
       "    .dataframe tbody tr th {\n",
       "        vertical-align: top;\n",
       "    }\n",
       "\n",
       "    .dataframe thead th {\n",
       "        text-align: right;\n",
       "    }\n",
       "</style>\n",
       "<table border=\"1\" class=\"dataframe\">\n",
       "  <thead>\n",
       "    <tr style=\"text-align: right;\">\n",
       "      <th></th>\n",
       "      <th>ID</th>\n",
       "      <th>Tweet</th>\n",
       "      <th>Source</th>\n",
       "      <th>Date</th>\n",
       "      <th>Likes</th>\n",
       "      <th>Retweet</th>\n",
       "      <th>remove</th>\n",
       "      <th>remove2</th>\n",
       "      <th>Tweet_tokenized</th>\n",
       "      <th>tokenization_Tweets</th>\n",
       "      <th>tweet_clean</th>\n",
       "      <th>Tweets</th>\n",
       "      <th>Stemming_Tweets</th>\n",
       "      <th>Lemmatization_Tweets</th>\n",
       "    </tr>\n",
       "  </thead>\n",
       "  <tbody>\n",
       "    <tr>\n",
       "      <th>3718</th>\n",
       "      <td>976818128486354947</td>\n",
       "      <td>🇵🇹 https://t.co/b0SUaPwbdU</td>\n",
       "      <td>Twitter for iPhone</td>\n",
       "      <td>2018-03-22 13:49:24</td>\n",
       "      <td>113324</td>\n",
       "      <td>12497</td>\n",
       "      <td>🇵🇹 https://t.co/b0SUaPwbdU</td>\n",
       "      <td>🇵🇹 https://t.co/bSUaPwbdU</td>\n",
       "      <td>[🇵🇹, https://t.co/bsuapwbdu]</td>\n",
       "      <td>[🇵🇹, https://t.co/bsuapwbdu]</td>\n",
       "      <td>[, ]</td>\n",
       "      <td></td>\n",
       "      <td>[, ]</td>\n",
       "      <td>[, ]</td>\n",
       "    </tr>\n",
       "    <tr>\n",
       "      <th>16906</th>\n",
       "      <td>816436520781541376</td>\n",
       "      <td>Aare Gorge, Switzerland https://t.co/OWguq6VFID</td>\n",
       "      <td>Buffer</td>\n",
       "      <td>2017-01-04 00:10:09</td>\n",
       "      <td>707</td>\n",
       "      <td>244</td>\n",
       "      <td>Aare Gorge, Switzerland https://t.co/OWguq6VFID</td>\n",
       "      <td>Aare Gorge, Switzerland https://t.co/OWguqVFID</td>\n",
       "      <td>[aare, gorge,, switzerland, https://t.co/owguq...</td>\n",
       "      <td>[aare, gorge,, switzerland, https://t.co/owguq...</td>\n",
       "      <td>[aare, gorge, switzerland]</td>\n",
       "      <td>aare gorge switzerland</td>\n",
       "      <td>[aar, gorg, switzerland]</td>\n",
       "      <td>[aar, gorg, switzerland]</td>\n",
       "    </tr>\n",
       "    <tr>\n",
       "      <th>13918</th>\n",
       "      <td>786602176588251137</td>\n",
       "      <td>AB Test Intro: What is #AB Testing?- #Conversi...</td>\n",
       "      <td>Buffer</td>\n",
       "      <td>2016-10-13 16:19:07</td>\n",
       "      <td>5</td>\n",
       "      <td>0</td>\n",
       "      <td>AB Test Intro: What is #AB Testing?- #Conversi...</td>\n",
       "      <td>AB Test Intro: What is AB Testing?- Conversion...</td>\n",
       "      <td>[ab, test, intro:, what, is, ab, testing?-, co...</td>\n",
       "      <td>[ab, test, intro:, what, is, ab, testing?-, co...</td>\n",
       "      <td>[ab, test, intro, ab, testing, conversion, sci...</td>\n",
       "      <td>ab test intro ab testing conversion sciences</td>\n",
       "      <td>[ab, test, intro, ab, test, convers, scienc]</td>\n",
       "      <td>[ab, test, intro, ab, test, convers, scienc]</td>\n",
       "    </tr>\n",
       "    <tr>\n",
       "      <th>17788</th>\n",
       "      <td>767049563744116736</td>\n",
       "      <td>Abandoned Castle, Germany https://t.co/lCdCziB7BP</td>\n",
       "      <td>Buffer</td>\n",
       "      <td>2016-08-20 17:24:01</td>\n",
       "      <td>334</td>\n",
       "      <td>119</td>\n",
       "      <td>Abandoned Castle, Germany https://t.co/lCdCziB7BP</td>\n",
       "      <td>Abandoned Castle, Germany https://t.co/lCdCziBBP</td>\n",
       "      <td>[abandoned, castle,, germany, https://t.co/lcd...</td>\n",
       "      <td>[abandoned, castle,, germany, https://t.co/lcd...</td>\n",
       "      <td>[abandoned, castle, germany]</td>\n",
       "      <td>abandoned castle germany</td>\n",
       "      <td>[abandon, castl, germani]</td>\n",
       "      <td>[abandon, castl, germani]</td>\n",
       "    </tr>\n",
       "    <tr>\n",
       "      <th>17869</th>\n",
       "      <td>762338523412328449</td>\n",
       "      <td>Abandoned castle, Italy https://t.co/USkY9tdzeC</td>\n",
       "      <td>Buffer</td>\n",
       "      <td>2016-08-07 17:24:02</td>\n",
       "      <td>553</td>\n",
       "      <td>183</td>\n",
       "      <td>Abandoned castle, Italy https://t.co/USkY9tdzeC</td>\n",
       "      <td>Abandoned castle, Italy https://t.co/USkYtdzeC</td>\n",
       "      <td>[abandoned, castle,, italy, https://t.co/uskyt...</td>\n",
       "      <td>[abandoned, castle,, italy, https://t.co/uskyt...</td>\n",
       "      <td>[abandoned, castle, italy]</td>\n",
       "      <td>abandoned castle italy</td>\n",
       "      <td>[abandon, castl, itali]</td>\n",
       "      <td>[abandon, castl, itali]</td>\n",
       "    </tr>\n",
       "  </tbody>\n",
       "</table>\n",
       "</div>"
      ],
      "text/plain": [
       "                       ID                                              Tweet  \\\n",
       "3718   976818128486354947                         🇵🇹 https://t.co/b0SUaPwbdU   \n",
       "16906  816436520781541376    Aare Gorge, Switzerland https://t.co/OWguq6VFID   \n",
       "13918  786602176588251137  AB Test Intro: What is #AB Testing?- #Conversi...   \n",
       "17788  767049563744116736  Abandoned Castle, Germany https://t.co/lCdCziB7BP   \n",
       "17869  762338523412328449    Abandoned castle, Italy https://t.co/USkY9tdzeC   \n",
       "\n",
       "                   Source                 Date   Likes  Retweet  \\\n",
       "3718   Twitter for iPhone  2018-03-22 13:49:24  113324    12497   \n",
       "16906              Buffer  2017-01-04 00:10:09     707      244   \n",
       "13918              Buffer  2016-10-13 16:19:07       5        0   \n",
       "17788              Buffer  2016-08-20 17:24:01     334      119   \n",
       "17869              Buffer  2016-08-07 17:24:02     553      183   \n",
       "\n",
       "                                                  remove  \\\n",
       "3718                          🇵🇹 https://t.co/b0SUaPwbdU   \n",
       "16906    Aare Gorge, Switzerland https://t.co/OWguq6VFID   \n",
       "13918  AB Test Intro: What is #AB Testing?- #Conversi...   \n",
       "17788  Abandoned Castle, Germany https://t.co/lCdCziB7BP   \n",
       "17869    Abandoned castle, Italy https://t.co/USkY9tdzeC   \n",
       "\n",
       "                                                 remove2  \\\n",
       "3718                           🇵🇹 https://t.co/bSUaPwbdU   \n",
       "16906     Aare Gorge, Switzerland https://t.co/OWguqVFID   \n",
       "13918  AB Test Intro: What is AB Testing?- Conversion...   \n",
       "17788   Abandoned Castle, Germany https://t.co/lCdCziBBP   \n",
       "17869     Abandoned castle, Italy https://t.co/USkYtdzeC   \n",
       "\n",
       "                                         Tweet_tokenized  \\\n",
       "3718                        [🇵🇹, https://t.co/bsuapwbdu]   \n",
       "16906  [aare, gorge,, switzerland, https://t.co/owguq...   \n",
       "13918  [ab, test, intro:, what, is, ab, testing?-, co...   \n",
       "17788  [abandoned, castle,, germany, https://t.co/lcd...   \n",
       "17869  [abandoned, castle,, italy, https://t.co/uskyt...   \n",
       "\n",
       "                                     tokenization_Tweets  \\\n",
       "3718                        [🇵🇹, https://t.co/bsuapwbdu]   \n",
       "16906  [aare, gorge,, switzerland, https://t.co/owguq...   \n",
       "13918  [ab, test, intro:, what, is, ab, testing?-, co...   \n",
       "17788  [abandoned, castle,, germany, https://t.co/lcd...   \n",
       "17869  [abandoned, castle,, italy, https://t.co/uskyt...   \n",
       "\n",
       "                                             tweet_clean  \\\n",
       "3718                                                [, ]   \n",
       "16906                         [aare, gorge, switzerland]   \n",
       "13918  [ab, test, intro, ab, testing, conversion, sci...   \n",
       "17788                       [abandoned, castle, germany]   \n",
       "17869                         [abandoned, castle, italy]   \n",
       "\n",
       "                                             Tweets  \\\n",
       "3718                                                  \n",
       "16906                        aare gorge switzerland   \n",
       "13918  ab test intro ab testing conversion sciences   \n",
       "17788                      abandoned castle germany   \n",
       "17869                        abandoned castle italy   \n",
       "\n",
       "                                    Stemming_Tweets  \\\n",
       "3718                                           [, ]   \n",
       "16906                      [aar, gorg, switzerland]   \n",
       "13918  [ab, test, intro, ab, test, convers, scienc]   \n",
       "17788                     [abandon, castl, germani]   \n",
       "17869                       [abandon, castl, itali]   \n",
       "\n",
       "                               Lemmatization_Tweets  \n",
       "3718                                           [, ]  \n",
       "16906                      [aar, gorg, switzerland]  \n",
       "13918  [ab, test, intro, ab, test, convers, scienc]  \n",
       "17788                     [abandon, castl, germani]  \n",
       "17869                       [abandon, castl, itali]  "
      ]
     },
     "execution_count": 80,
     "metadata": {},
     "output_type": "execute_result"
    }
   ],
   "source": [
    "lem = nltk.WordNetLemmatizer()\n",
    "\n",
    "def lemmatizer(text):\n",
    "    text = [lem.lemmatize(word) for word in text]\n",
    "    return text\n",
    "\n",
    "my_data['Lemmatization_Tweets'] = my_data['Stemming_Tweets'].apply(lambda x: lemmatizer(x))\n",
    "my_data.head()"
   ]
  },
  {
   "cell_type": "code",
   "execution_count": 82,
   "metadata": {},
   "outputs": [
    {
     "data": {
      "text/plain": [
       "3718                                                  [, ]\n",
       "16906                             [aar, gorg, switzerland]\n",
       "13918         [ab, test, intro, ab, test, convers, scienc]\n",
       "17788                            [abandon, castl, germani]\n",
       "17869                              [abandon, castl, itali]\n",
       "                               ...                        \n",
       "17001                                [ziplin, switzerland]\n",
       "2906     [zohour, famili, forc, flee, villag, bomb, dis...\n",
       "48       [zokiya, fled, violenc, myanmar, becam, part, ...\n",
       "17294                                   [zug, switzerland]\n",
       "16742                                [zurich, switzerland]\n",
       "Name: Lemmatization_Tweets, Length: 13876, dtype: object"
      ]
     },
     "execution_count": 82,
     "metadata": {},
     "output_type": "execute_result"
    }
   ],
   "source": [
    "my_data.Lemmatization_Tweets"
   ]
  },
  {
   "cell_type": "code",
   "execution_count": 83,
   "metadata": {},
   "outputs": [],
   "source": [
    "my_data.Lemmatization_Tweets.to_csv('Datasets/Lemmatization_Tweets.csv',index = False)"
   ]
  },
  {
   "cell_type": "code",
   "execution_count": 84,
   "metadata": {},
   "outputs": [
    {
     "data": {
      "text/html": [
       "<div>\n",
       "<style scoped>\n",
       "    .dataframe tbody tr th:only-of-type {\n",
       "        vertical-align: middle;\n",
       "    }\n",
       "\n",
       "    .dataframe tbody tr th {\n",
       "        vertical-align: top;\n",
       "    }\n",
       "\n",
       "    .dataframe thead th {\n",
       "        text-align: right;\n",
       "    }\n",
       "</style>\n",
       "<table border=\"1\" class=\"dataframe\">\n",
       "  <thead>\n",
       "    <tr style=\"text-align: right;\">\n",
       "      <th></th>\n",
       "      <th>Lemmatization_Tweets</th>\n",
       "    </tr>\n",
       "  </thead>\n",
       "  <tbody>\n",
       "    <tr>\n",
       "      <th>0</th>\n",
       "      <td>['', '']</td>\n",
       "    </tr>\n",
       "    <tr>\n",
       "      <th>1</th>\n",
       "      <td>['aar', 'gorg', 'switzerland']</td>\n",
       "    </tr>\n",
       "    <tr>\n",
       "      <th>2</th>\n",
       "      <td>['ab', 'test', 'intro', 'ab', 'test', 'convers...</td>\n",
       "    </tr>\n",
       "    <tr>\n",
       "      <th>3</th>\n",
       "      <td>['abandon', 'castl', 'germani']</td>\n",
       "    </tr>\n",
       "    <tr>\n",
       "      <th>4</th>\n",
       "      <td>['abandon', 'castl', 'itali']</td>\n",
       "    </tr>\n",
       "  </tbody>\n",
       "</table>\n",
       "</div>"
      ],
      "text/plain": [
       "                                Lemmatization_Tweets\n",
       "0                                           ['', '']\n",
       "1                     ['aar', 'gorg', 'switzerland']\n",
       "2  ['ab', 'test', 'intro', 'ab', 'test', 'convers...\n",
       "3                    ['abandon', 'castl', 'germani']\n",
       "4                      ['abandon', 'castl', 'itali']"
      ]
     },
     "execution_count": 84,
     "metadata": {},
     "output_type": "execute_result"
    }
   ],
   "source": [
    "clean = pd.read_csv(\"Datasets/Lemmatization_Tweets.csv\")\n",
    "np.shape(clean)\n",
    "clean.head(5)"
   ]
  },
  {
   "cell_type": "markdown",
   "metadata": {},
   "source": [
    "<i><font style=\"font-family:cursive; font-size:24px; color:#009966;\">5 - Vectorization"
   ]
  },
  {
   "cell_type": "code",
   "execution_count": 87,
   "metadata": {},
   "outputs": [],
   "source": [
    "from sklearn.feature_extraction.text import CountVectorizer\n",
    "\n",
    "count_vectorizer = CountVectorizer(max_features = 5000)\n",
    "\n",
    "feature_vector = count_vectorizer.fit( clean.Lemmatization_Tweets )\n",
    "train_ds_features = count_vectorizer.transform( clean.Lemmatization_Tweets )"
   ]
  },
  {
   "cell_type": "code",
   "execution_count": 88,
   "metadata": {},
   "outputs": [
    {
     "data": {
      "text/plain": [
       "['aalala',\n",
       " 'ab',\n",
       " 'abandon',\n",
       " 'abbey',\n",
       " 'abbiamo',\n",
       " 'abc',\n",
       " 'abdul',\n",
       " 'abeer',\n",
       " 'abhi',\n",
       " 'abhishek',\n",
       " 'abil',\n",
       " 'abl',\n",
       " 'abm',\n",
       " 'abond',\n",
       " 'abra',\n",
       " 'abrazo',\n",
       " 'abroad',\n",
       " 'absolut',\n",
       " 'abt',\n",
       " 'abus']"
      ]
     },
     "execution_count": 88,
     "metadata": {},
     "output_type": "execute_result"
    }
   ],
   "source": [
    "features = feature_vector.get_feature_names()\n",
    "features[0:20]"
   ]
  },
  {
   "cell_type": "code",
   "execution_count": 89,
   "metadata": {},
   "outputs": [],
   "source": [
    "features_counts = np.sum( train_ds_features.toarray(), axis = 0 )"
   ]
  },
  {
   "cell_type": "code",
   "execution_count": 90,
   "metadata": {},
   "outputs": [],
   "source": [
    "feature_counts = pd.DataFrame( dict( features = features,\n",
    "                                  counts = features_counts ) )"
   ]
  },
  {
   "cell_type": "code",
   "execution_count": 91,
   "metadata": {},
   "outputs": [
    {
     "data": {
      "text/html": [
       "<div>\n",
       "<style scoped>\n",
       "    .dataframe tbody tr th:only-of-type {\n",
       "        vertical-align: middle;\n",
       "    }\n",
       "\n",
       "    .dataframe tbody tr th {\n",
       "        vertical-align: top;\n",
       "    }\n",
       "\n",
       "    .dataframe thead th {\n",
       "        text-align: right;\n",
       "    }\n",
       "</style>\n",
       "<table border=\"1\" class=\"dataframe\">\n",
       "  <thead>\n",
       "    <tr style=\"text-align: right;\">\n",
       "      <th></th>\n",
       "      <th>features</th>\n",
       "      <th>counts</th>\n",
       "    </tr>\n",
       "  </thead>\n",
       "  <tbody>\n",
       "    <tr>\n",
       "      <th>0</th>\n",
       "      <td>aalala</td>\n",
       "      <td>3</td>\n",
       "    </tr>\n",
       "    <tr>\n",
       "      <th>1</th>\n",
       "      <td>ab</td>\n",
       "      <td>8</td>\n",
       "    </tr>\n",
       "    <tr>\n",
       "      <th>2</th>\n",
       "      <td>abandon</td>\n",
       "      <td>12</td>\n",
       "    </tr>\n",
       "    <tr>\n",
       "      <th>3</th>\n",
       "      <td>abbey</td>\n",
       "      <td>5</td>\n",
       "    </tr>\n",
       "    <tr>\n",
       "      <th>4</th>\n",
       "      <td>abbiamo</td>\n",
       "      <td>3</td>\n",
       "    </tr>\n",
       "  </tbody>\n",
       "</table>\n",
       "</div>"
      ],
      "text/plain": [
       "  features  counts\n",
       "0   aalala       3\n",
       "1       ab       8\n",
       "2  abandon      12\n",
       "3    abbey       5\n",
       "4  abbiamo       3"
      ]
     },
     "execution_count": 91,
     "metadata": {},
     "output_type": "execute_result"
    }
   ],
   "source": [
    "feature_counts.head(5)"
   ]
  },
  {
   "cell_type": "markdown",
   "metadata": {},
   "source": [
    "<i><font style=\"font-family:cursive; font-size:24px; color:#009966;\">Removing stop words"
   ]
  },
  {
   "cell_type": "code",
   "execution_count": 92,
   "metadata": {},
   "outputs": [],
   "source": [
    "count_vectorizer = CountVectorizer( stop_words = \"english\",\n",
    "                                 max_features = 5000 )\n",
    "feature_vector = count_vectorizer.fit( clean.Lemmatization_Tweets )\n",
    "train_ds_features = count_vectorizer.transform( clean.Lemmatization_Tweets )"
   ]
  },
  {
   "cell_type": "code",
   "execution_count": 93,
   "metadata": {},
   "outputs": [
    {
     "data": {
      "text/html": [
       "<div>\n",
       "<style scoped>\n",
       "    .dataframe tbody tr th:only-of-type {\n",
       "        vertical-align: middle;\n",
       "    }\n",
       "\n",
       "    .dataframe tbody tr th {\n",
       "        vertical-align: top;\n",
       "    }\n",
       "\n",
       "    .dataframe thead th {\n",
       "        text-align: right;\n",
       "    }\n",
       "</style>\n",
       "<table border=\"1\" class=\"dataframe\">\n",
       "  <thead>\n",
       "    <tr style=\"text-align: right;\">\n",
       "      <th></th>\n",
       "      <th>features</th>\n",
       "      <th>counts</th>\n",
       "    </tr>\n",
       "  </thead>\n",
       "  <tbody>\n",
       "    <tr>\n",
       "      <th>1964</th>\n",
       "      <td>hi</td>\n",
       "      <td>1622</td>\n",
       "    </tr>\n",
       "    <tr>\n",
       "      <th>2512</th>\n",
       "      <td>let</td>\n",
       "      <td>1049</td>\n",
       "    </tr>\n",
       "    <tr>\n",
       "      <th>2726</th>\n",
       "      <td>market</td>\n",
       "      <td>940</td>\n",
       "    </tr>\n",
       "    <tr>\n",
       "      <th>1954</th>\n",
       "      <td>help</td>\n",
       "      <td>881</td>\n",
       "    </tr>\n",
       "    <tr>\n",
       "      <th>4252</th>\n",
       "      <td>step</td>\n",
       "      <td>843</td>\n",
       "    </tr>\n",
       "    <tr>\n",
       "      <th>4433</th>\n",
       "      <td>thank</td>\n",
       "      <td>692</td>\n",
       "    </tr>\n",
       "    <tr>\n",
       "      <th>3321</th>\n",
       "      <td>plea</td>\n",
       "      <td>653</td>\n",
       "    </tr>\n",
       "    <tr>\n",
       "      <th>2418</th>\n",
       "      <td>know</td>\n",
       "      <td>636</td>\n",
       "    </tr>\n",
       "    <tr>\n",
       "      <th>3027</th>\n",
       "      <td>new</td>\n",
       "      <td>603</td>\n",
       "    </tr>\n",
       "    <tr>\n",
       "      <th>4903</th>\n",
       "      <td>woman</td>\n",
       "      <td>572</td>\n",
       "    </tr>\n",
       "    <tr>\n",
       "      <th>4556</th>\n",
       "      <td>tri</td>\n",
       "      <td>568</td>\n",
       "    </tr>\n",
       "    <tr>\n",
       "      <th>1287</th>\n",
       "      <td>dm</td>\n",
       "      <td>533</td>\n",
       "    </tr>\n",
       "    <tr>\n",
       "      <th>2540</th>\n",
       "      <td>like</td>\n",
       "      <td>533</td>\n",
       "    </tr>\n",
       "    <tr>\n",
       "      <th>662</th>\n",
       "      <td>care</td>\n",
       "      <td>507</td>\n",
       "    </tr>\n",
       "    <tr>\n",
       "      <th>2600</th>\n",
       "      <td>look</td>\n",
       "      <td>487</td>\n",
       "    </tr>\n",
       "    <tr>\n",
       "      <th>34</th>\n",
       "      <td>account</td>\n",
       "      <td>461</td>\n",
       "    </tr>\n",
       "    <tr>\n",
       "      <th>1679</th>\n",
       "      <td>follow</td>\n",
       "      <td>457</td>\n",
       "    </tr>\n",
       "    <tr>\n",
       "      <th>2048</th>\n",
       "      <td>huawei</td>\n",
       "      <td>451</td>\n",
       "    </tr>\n",
       "    <tr>\n",
       "      <th>1038</th>\n",
       "      <td>covid</td>\n",
       "      <td>417</td>\n",
       "    </tr>\n",
       "    <tr>\n",
       "      <th>2670</th>\n",
       "      <td>make</td>\n",
       "      <td>382</td>\n",
       "    </tr>\n",
       "  </tbody>\n",
       "</table>\n",
       "</div>"
      ],
      "text/plain": [
       "     features  counts\n",
       "1964       hi    1622\n",
       "2512      let    1049\n",
       "2726   market     940\n",
       "1954     help     881\n",
       "4252     step     843\n",
       "4433    thank     692\n",
       "3321     plea     653\n",
       "2418     know     636\n",
       "3027      new     603\n",
       "4903    woman     572\n",
       "4556      tri     568\n",
       "1287       dm     533\n",
       "2540     like     533\n",
       "662      care     507\n",
       "2600     look     487\n",
       "34    account     461\n",
       "1679   follow     457\n",
       "2048   huawei     451\n",
       "1038    covid     417\n",
       "2670     make     382"
      ]
     },
     "execution_count": 93,
     "metadata": {},
     "output_type": "execute_result"
    }
   ],
   "source": [
    "features = feature_vector.get_feature_names()\n",
    "features_counts = np.sum( train_ds_features.toarray(), axis = 0 )\n",
    "feature_counts = pd.DataFrame( dict( features = features,\n",
    "                                  counts = features_counts ) )\n",
    "feature_counts.sort_values( \"counts\", ascending = False )[0:20]"
   ]
  },
  {
   "cell_type": "code",
   "execution_count": 94,
   "metadata": {},
   "outputs": [
    {
     "data": {
      "text/plain": [
       "Lemmatization_Tweets    13876\n",
       "dtype: int64"
      ]
     },
     "execution_count": 94,
     "metadata": {},
     "output_type": "execute_result"
    }
   ],
   "source": [
    "clean.count()"
   ]
  },
  {
   "cell_type": "code",
   "execution_count": 95,
   "metadata": {},
   "outputs": [
    {
     "data": {
      "text/html": [
       "<div>\n",
       "<style scoped>\n",
       "    .dataframe tbody tr th:only-of-type {\n",
       "        vertical-align: middle;\n",
       "    }\n",
       "\n",
       "    .dataframe tbody tr th {\n",
       "        vertical-align: top;\n",
       "    }\n",
       "\n",
       "    .dataframe thead th {\n",
       "        text-align: right;\n",
       "    }\n",
       "</style>\n",
       "<table border=\"1\" class=\"dataframe\">\n",
       "  <thead>\n",
       "    <tr style=\"text-align: right;\">\n",
       "      <th></th>\n",
       "      <th>Lemmatization_Tweets</th>\n",
       "    </tr>\n",
       "  </thead>\n",
       "  <tbody>\n",
       "    <tr>\n",
       "      <th>0</th>\n",
       "      <td>['', '']</td>\n",
       "    </tr>\n",
       "    <tr>\n",
       "      <th>1</th>\n",
       "      <td>['aar', 'gorg', 'switzerland']</td>\n",
       "    </tr>\n",
       "    <tr>\n",
       "      <th>2</th>\n",
       "      <td>['ab', 'test', 'intro', 'ab', 'test', 'convers...</td>\n",
       "    </tr>\n",
       "    <tr>\n",
       "      <th>3</th>\n",
       "      <td>['abandon', 'castl', 'germani']</td>\n",
       "    </tr>\n",
       "    <tr>\n",
       "      <th>4</th>\n",
       "      <td>['abandon', 'castl', 'itali']</td>\n",
       "    </tr>\n",
       "    <tr>\n",
       "      <th>...</th>\n",
       "      <td>...</td>\n",
       "    </tr>\n",
       "    <tr>\n",
       "      <th>13871</th>\n",
       "      <td>['ziplin', 'switzerland']</td>\n",
       "    </tr>\n",
       "    <tr>\n",
       "      <th>13872</th>\n",
       "      <td>['zohour', 'famili', 'forc', 'flee', 'villag',...</td>\n",
       "    </tr>\n",
       "    <tr>\n",
       "      <th>13873</th>\n",
       "      <td>['zokiya', 'fled', 'violenc', 'myanmar', 'beca...</td>\n",
       "    </tr>\n",
       "    <tr>\n",
       "      <th>13874</th>\n",
       "      <td>['zug', 'switzerland']</td>\n",
       "    </tr>\n",
       "    <tr>\n",
       "      <th>13875</th>\n",
       "      <td>['zurich', 'switzerland']</td>\n",
       "    </tr>\n",
       "  </tbody>\n",
       "</table>\n",
       "<p>13876 rows × 1 columns</p>\n",
       "</div>"
      ],
      "text/plain": [
       "                                    Lemmatization_Tweets\n",
       "0                                               ['', '']\n",
       "1                         ['aar', 'gorg', 'switzerland']\n",
       "2      ['ab', 'test', 'intro', 'ab', 'test', 'convers...\n",
       "3                        ['abandon', 'castl', 'germani']\n",
       "4                          ['abandon', 'castl', 'itali']\n",
       "...                                                  ...\n",
       "13871                          ['ziplin', 'switzerland']\n",
       "13872  ['zohour', 'famili', 'forc', 'flee', 'villag',...\n",
       "13873  ['zokiya', 'fled', 'violenc', 'myanmar', 'beca...\n",
       "13874                             ['zug', 'switzerland']\n",
       "13875                          ['zurich', 'switzerland']\n",
       "\n",
       "[13876 rows x 1 columns]"
      ]
     },
     "execution_count": 95,
     "metadata": {},
     "output_type": "execute_result"
    }
   ],
   "source": [
    "clean.dropna()"
   ]
  },
  {
   "cell_type": "code",
   "execution_count": 104,
   "metadata": {},
   "outputs": [],
   "source": [
    "X = count_vectorizer.fit_transform( clean.Lemmatization_Tweets )"
   ]
  },
  {
   "cell_type": "markdown",
   "metadata": {},
   "source": [
    "<b><i><font style=\"font-family:cursive; font-size:20px; color:#66CC33\">L'affichage d'Image des Tweets"
   ]
  },
  {
   "cell_type": "code",
   "execution_count": null,
   "metadata": {},
   "outputs": [],
   "source": [
    "#!pip install stylecloud"
   ]
  },
  {
   "cell_type": "code",
   "execution_count": null,
   "metadata": {},
   "outputs": [],
   "source": [
    "#!pip install wordcloud"
   ]
  },
  {
   "cell_type": "code",
   "execution_count": null,
   "metadata": {},
   "outputs": [],
   "source": [
    "#pip install opencv-python"
   ]
  },
  {
   "cell_type": "code",
   "execution_count": 144,
   "metadata": {},
   "outputs": [],
   "source": [
    "from wordcloud import WordCloud, ImageColorGenerator\n",
    "import stylecloud\n",
    "import cv2\n",
    "\n",
    "tweets = \" \".join(review for review in my_data['Lemmatization_Tweets'].apply(lambda x: ' '.join(x)))\n",
    "\n",
    "image =stylecloud.gen_stylecloud(tweets, icon_name= \"fab fa-twitter\")"
   ]
  },
  {
   "cell_type": "code",
   "execution_count": 145,
   "metadata": {},
   "outputs": [
    {
     "data": {
      "image/png": "[encoded data removed]",
      "text/plain": [
       "<IPython.core.display.Image object>"
      ]
     },
     "execution_count": 145,
     "metadata": {},
     "output_type": "execute_result"
    }
   ],
   "source": [
    "from IPython.display import Image\n",
    "Image(filename='stylecloud.png')"
   ]
  },
  {
   "cell_type": "markdown",
   "metadata": {},
   "source": [
    "<hr>"
   ]
  },
  {
   "cell_type": "markdown",
   "metadata": {},
   "source": [
    "<b><i><font style=\"font-family:cursive; font-size:25px; color:#FF0033\">VIII - Clustering : KMeans</font><br/><br/>"
   ]
  },
  {
   "cell_type": "code",
   "execution_count": 111,
   "metadata": {},
   "outputs": [
    {
     "name": "stdout",
     "output_type": "stream",
     "text": [
      "marketing\n",
      "google\n",
      "travel\n",
      "care\n",
      "huawei\n",
      "cristiano\n",
      "(83262,)\n"
     ]
    }
   ],
   "source": [
    "from sklearn.cluster import KMeans\n",
    "import sys\n",
    "import json\n",
    "import numpy as np\n",
    "from sklearn import decomposition\n",
    "import matplotlib.pyplot as plt\n",
    "import random\n",
    "\n",
    "TWEETER_FEEDS = ['marketing', 'google', 'travel', 'care', 'huawei', 'cristiano']\n",
    "#'cnn', 'bbcnews', 'cnet', 'msnuk', 'telegraph']\n",
    "#usatoday, wsj, washingtonpost, bostonglobe, newscomauhq, skynews, sfgate,##\n",
    "#ajenglish, independent, guardian, latimes, reutersagency, abc, business, bw, time,]\n",
    "\n",
    "#feature_data = open('/Users/lukekumar/Documents/Twitter-App/NYTimes-7500.csv', 'r')\n",
    "X = []\n",
    "for feed in TWEETER_FEEDS:\n",
    "    print (feed)\n",
    "    feature_data = open('Datasets/Lemmatization_Tweets.csv', 'r')\n",
    "    for line in feature_data:\n",
    "        X.append(map(float, line.split(',')))\n",
    "    feature_data.close()\n",
    "\n",
    "X = np.array(X)\n",
    "print (X.shape)"
   ]
  },
  {
   "cell_type": "code",
   "execution_count": 106,
   "metadata": {},
   "outputs": [],
   "source": [
    "#true_k=30\n",
    "#Kmeans=KMeans(n_clusters=true_k,init='k-means++',n_init=1, max_iter=300, n_init=10,random_state=0)\n",
    "#Kmeans.fit(X)"
   ]
  },
  {
   "cell_type": "code",
   "execution_count": 105,
   "metadata": {},
   "outputs": [
    {
     "data": {
      "image/png": "[encoded data removed]",
      "text/plain": [
       "<Figure size 432x288 with 1 Axes>"
      ]
     },
     "metadata": {
      "needs_background": "light"
     },
     "output_type": "display_data"
    }
   ],
   "source": [
    "from sklearn.cluster import KMeans\n",
    "\n",
    "wcss=[]\n",
    "X = count_vectorizer.fit_transform( clean.Lemmatization_Tweets )\n",
    "\n",
    "# cette boucle adaptera l'algorithme k-means à nos données et\n",
    "#second, nous allons calculer la somme des carrés dans le cluster et # ajoutée à notre liste wcss.\n",
    "\n",
    "for i in range(3,30):\n",
    "    kmeans = KMeans(n_clusters=i, init ='k-means++', max_iter=300,  n_init=10,random_state=0 )\n",
    "    kmeans.fit(X)\n",
    "    wcss.append(kmeans.inertia_)\n",
    "    \n",
    "#i ci-dessus est compris entre 3 et 30 chiffres. Le paramètre init est la méthode #initialization aléatoire\n",
    "# nous sélectionnons la méthode kmeans ++. paramètre max_iter le nombre maximum d'itérations qu'il peut y avoir\n",
    "#trouver les clusters finaux lorsque l'algorithme K-Meands est en cours d'exécution. we #enter la valeur par défaut de 300\n",
    "# le paramètre suivant est n_init qui est le nombre de fois que l'algorithme #K_means sera exécuté avec\n",
    "# centroïde initial différent.\n",
    "\n",
    "#kmeans algorithm fits les X dataset\n",
    "#L'attribut #kmeans inertia_ est: Somme des distances au carré des échantillons # à leur centre de cluster le plus proche.\n",
    "#4.Plot the elbow graph\n",
    "plt.plot(range(3,30),wcss)\n",
    "plt.title('The Elbow Method Graph')\n",
    "plt.xlabel('Number of clusters')\n",
    "plt.show()"
   ]
  },
  {
   "cell_type": "code",
   "execution_count": null,
   "metadata": {},
   "outputs": [],
   "source": [
    "#5 According to the Elbow graph we deterrmine the clusters number as #5. Applying k-means algorithm to the X dataset.\n",
    "kmeans = KMeans(n_clusters=5, init ='k-means++', max_iter=300, n_init=10,random_state=0 )\n",
    "\n",
    "# We are going to use the fit predict method that returns for each observation which cluster it belongs to. The cluster to which #client belongs and it will return this cluster numbers into a #single vector that is  called y K-means\n",
    "y_kmeans = kmeans.fit_predict(X)"
   ]
  },
  {
   "cell_type": "code",
   "execution_count": null,
   "metadata": {},
   "outputs": [],
   "source": [
    "#6 Visualising the clusters\n",
    "plt.scatter(X[y_kmeans==0, 0], X[y_kmeans==0, 1], s=100, c='red', label ='Cluster 1')\n",
    "plt.scatter(X[y_kmeans==1, 0], X[y_kmeans==1, 1], s=100, c='green', label ='Cluster 2')\n",
    "plt.scatter(X[y_kmeans==2, 0], X[y_kmeans==2, 1], s=100, c='grey', label ='Cluster 3')\n",
    "plt.scatter(X[y_kmeans==3, 0], X[y_kmeans==3, 1], s=100, c='black', label ='Cluster 4')\n",
    "plt.scatter(X[y_kmeans==4, 0], X[y_kmeans==4, 1], s=100, c='pink', label ='Cluster 5')\n",
    "#Plot the centroid. This time we're going to use the cluster centres  #attribute that returns here the coordinates of the centroid.\n",
    "plt.scatter(kmeans.cluster_centers_[:, 0], kmeans.cluster_centers_[:, 1], s=300, c='yellow', label = 'Centroids')\n",
    "plt.title('Clusters of My tweets')\n",
    "plt.show()"
   ]
  },
  {
   "cell_type": "markdown",
   "metadata": {},
   "source": [
    "<hr>"
   ]
  },
  {
   "cell_type": "markdown",
   "metadata": {},
   "source": [
    "<i><font style=\"font-family:cursive; font-size:25px; color:#FF0033\">IX - Analyse des Sentiments</font><br/><br/>\n",
    "<font style=\"font-family:cursive;\"> analysant les tweets, nous voulons simplement nous limiter aux tweets. Bien que nous n'ayons aucun moyen d'identifier les tweets retweetés. Nous pouvons ignorer les tweets qui n'ont aucun \"J'aime\", car Twitter ne désigne pas les \"J'aime\" sur les Tweets retweetés aux utilisateurs qui ont retweeté. De plus, il est très peu probable qu'un tweet n'ait aucun \"J'aime\"."
   ]
  },
  {
   "cell_type": "code",
   "execution_count": 107,
   "metadata": {},
   "outputs": [],
   "source": [
    "def analize_sentiment(tweet):\n",
    "    analysis = TextBlob(tweet)\n",
    "    if analysis.sentiment.polarity > 0:\n",
    "        return 1\n",
    "    elif analysis.sentiment.polarity == 0:\n",
    "        return 0\n",
    "    else:\n",
    "        return -1"
   ]
  },
  {
   "cell_type": "code",
   "execution_count": 113,
   "metadata": {},
   "outputs": [
    {
     "data": {
      "text/html": [
       "<div>\n",
       "<style scoped>\n",
       "    .dataframe tbody tr th:only-of-type {\n",
       "        vertical-align: middle;\n",
       "    }\n",
       "\n",
       "    .dataframe tbody tr th {\n",
       "        vertical-align: top;\n",
       "    }\n",
       "\n",
       "    .dataframe thead th {\n",
       "        text-align: right;\n",
       "    }\n",
       "</style>\n",
       "<table border=\"1\" class=\"dataframe\">\n",
       "  <thead>\n",
       "    <tr style=\"text-align: right;\">\n",
       "      <th></th>\n",
       "      <th>ID</th>\n",
       "      <th>Tweet</th>\n",
       "      <th>Source</th>\n",
       "      <th>Date</th>\n",
       "      <th>Likes</th>\n",
       "      <th>Retweet</th>\n",
       "      <th>remove</th>\n",
       "      <th>remove2</th>\n",
       "      <th>Tweet_tokenized</th>\n",
       "      <th>tokenization_Tweets</th>\n",
       "      <th>tweet_clean</th>\n",
       "      <th>Tweets</th>\n",
       "      <th>Stemming_Tweets</th>\n",
       "      <th>Lemmatization_Tweets</th>\n",
       "      <th>sentiment</th>\n",
       "    </tr>\n",
       "  </thead>\n",
       "  <tbody>\n",
       "    <tr>\n",
       "      <th>3718</th>\n",
       "      <td>976818128486354947</td>\n",
       "      <td>🇵🇹 https://t.co/b0SUaPwbdU</td>\n",
       "      <td>Twitter for iPhone</td>\n",
       "      <td>2018-03-22 13:49:24</td>\n",
       "      <td>113324</td>\n",
       "      <td>12497</td>\n",
       "      <td>🇵🇹 https://t.co/b0SUaPwbdU</td>\n",
       "      <td>🇵🇹 https://t.co/bSUaPwbdU</td>\n",
       "      <td>[🇵🇹, https://t.co/bsuapwbdu]</td>\n",
       "      <td>[🇵🇹, https://t.co/bsuapwbdu]</td>\n",
       "      <td>[, ]</td>\n",
       "      <td></td>\n",
       "      <td>[, ]</td>\n",
       "      <td>[, ]</td>\n",
       "      <td>0</td>\n",
       "    </tr>\n",
       "    <tr>\n",
       "      <th>16906</th>\n",
       "      <td>816436520781541376</td>\n",
       "      <td>Aare Gorge, Switzerland https://t.co/OWguq6VFID</td>\n",
       "      <td>Buffer</td>\n",
       "      <td>2017-01-04 00:10:09</td>\n",
       "      <td>707</td>\n",
       "      <td>244</td>\n",
       "      <td>Aare Gorge, Switzerland https://t.co/OWguq6VFID</td>\n",
       "      <td>Aare Gorge, Switzerland https://t.co/OWguqVFID</td>\n",
       "      <td>[aare, gorge,, switzerland, https://t.co/owguq...</td>\n",
       "      <td>[aare, gorge,, switzerland, https://t.co/owguq...</td>\n",
       "      <td>[aare, gorge, switzerland]</td>\n",
       "      <td>aare gorge switzerland</td>\n",
       "      <td>[aar, gorg, switzerland]</td>\n",
       "      <td>[aar, gorg, switzerland]</td>\n",
       "      <td>0</td>\n",
       "    </tr>\n",
       "    <tr>\n",
       "      <th>13918</th>\n",
       "      <td>786602176588251137</td>\n",
       "      <td>AB Test Intro: What is #AB Testing?- #Conversi...</td>\n",
       "      <td>Buffer</td>\n",
       "      <td>2016-10-13 16:19:07</td>\n",
       "      <td>5</td>\n",
       "      <td>0</td>\n",
       "      <td>AB Test Intro: What is #AB Testing?- #Conversi...</td>\n",
       "      <td>AB Test Intro: What is AB Testing?- Conversion...</td>\n",
       "      <td>[ab, test, intro:, what, is, ab, testing?-, co...</td>\n",
       "      <td>[ab, test, intro:, what, is, ab, testing?-, co...</td>\n",
       "      <td>[ab, test, intro, ab, testing, conversion, sci...</td>\n",
       "      <td>ab test intro ab testing conversion sciences</td>\n",
       "      <td>[ab, test, intro, ab, test, convers, scienc]</td>\n",
       "      <td>[ab, test, intro, ab, test, convers, scienc]</td>\n",
       "      <td>0</td>\n",
       "    </tr>\n",
       "    <tr>\n",
       "      <th>17788</th>\n",
       "      <td>767049563744116736</td>\n",
       "      <td>Abandoned Castle, Germany https://t.co/lCdCziB7BP</td>\n",
       "      <td>Buffer</td>\n",
       "      <td>2016-08-20 17:24:01</td>\n",
       "      <td>334</td>\n",
       "      <td>119</td>\n",
       "      <td>Abandoned Castle, Germany https://t.co/lCdCziB7BP</td>\n",
       "      <td>Abandoned Castle, Germany https://t.co/lCdCziBBP</td>\n",
       "      <td>[abandoned, castle,, germany, https://t.co/lcd...</td>\n",
       "      <td>[abandoned, castle,, germany, https://t.co/lcd...</td>\n",
       "      <td>[abandoned, castle, germany]</td>\n",
       "      <td>abandoned castle germany</td>\n",
       "      <td>[abandon, castl, germani]</td>\n",
       "      <td>[abandon, castl, germani]</td>\n",
       "      <td>0</td>\n",
       "    </tr>\n",
       "    <tr>\n",
       "      <th>17869</th>\n",
       "      <td>762338523412328449</td>\n",
       "      <td>Abandoned castle, Italy https://t.co/USkY9tdzeC</td>\n",
       "      <td>Buffer</td>\n",
       "      <td>2016-08-07 17:24:02</td>\n",
       "      <td>553</td>\n",
       "      <td>183</td>\n",
       "      <td>Abandoned castle, Italy https://t.co/USkY9tdzeC</td>\n",
       "      <td>Abandoned castle, Italy https://t.co/USkYtdzeC</td>\n",
       "      <td>[abandoned, castle,, italy, https://t.co/uskyt...</td>\n",
       "      <td>[abandoned, castle,, italy, https://t.co/uskyt...</td>\n",
       "      <td>[abandoned, castle, italy]</td>\n",
       "      <td>abandoned castle italy</td>\n",
       "      <td>[abandon, castl, itali]</td>\n",
       "      <td>[abandon, castl, itali]</td>\n",
       "      <td>0</td>\n",
       "    </tr>\n",
       "    <tr>\n",
       "      <th>17600</th>\n",
       "      <td>777253045847588865</td>\n",
       "      <td>Abandoned Château des Singes - France https://...</td>\n",
       "      <td>Buffer</td>\n",
       "      <td>2016-09-17 21:09:01</td>\n",
       "      <td>232</td>\n",
       "      <td>65</td>\n",
       "      <td>Abandoned Château des Singes - France https://...</td>\n",
       "      <td>Abandoned Château des Singes - France https://...</td>\n",
       "      <td>[abandoned, château, des, singes, -, france, h...</td>\n",
       "      <td>[abandoned, château, des, singes, -, france, h...</td>\n",
       "      <td>[abandoned, ch teau, des, singes, france]</td>\n",
       "      <td>abandoned ch teau des singes france</td>\n",
       "      <td>[abandon, ch teau, de, sing, franc]</td>\n",
       "      <td>[abandon, ch teau, de, sing, franc]</td>\n",
       "      <td>0</td>\n",
       "    </tr>\n",
       "    <tr>\n",
       "      <th>17986</th>\n",
       "      <td>756506418031763456</td>\n",
       "      <td>Abandoned chapel in France https://t.co/87pUTJ...</td>\n",
       "      <td>Buffer</td>\n",
       "      <td>2016-07-22 15:09:19</td>\n",
       "      <td>285</td>\n",
       "      <td>73</td>\n",
       "      <td>Abandoned chapel in France https://t.co/87pUTJ...</td>\n",
       "      <td>Abandoned chapel in France https://t.co/pUTJiJpr</td>\n",
       "      <td>[abandoned, chapel, in, france, https://t.co/p...</td>\n",
       "      <td>[abandoned, chapel, in, france, https://t.co/p...</td>\n",
       "      <td>[abandoned, chapel, france]</td>\n",
       "      <td>abandoned chapel france</td>\n",
       "      <td>[abandon, chapel, franc]</td>\n",
       "      <td>[abandon, chapel, franc]</td>\n",
       "      <td>0</td>\n",
       "    </tr>\n",
       "    <tr>\n",
       "      <th>18190</th>\n",
       "      <td>747084324671995904</td>\n",
       "      <td>Abandoned house in Saskatchewan, Canada https:...</td>\n",
       "      <td>Buffer</td>\n",
       "      <td>2016-06-26 15:09:17</td>\n",
       "      <td>330</td>\n",
       "      <td>108</td>\n",
       "      <td>Abandoned house in Saskatchewan, Canada https:...</td>\n",
       "      <td>Abandoned house in Saskatchewan, Canada https:...</td>\n",
       "      <td>[abandoned, house, in, saskatchewan,, canada, ...</td>\n",
       "      <td>[abandoned, house, in, saskatchewan,, canada, ...</td>\n",
       "      <td>[abandoned, house, saskatchewan, canada]</td>\n",
       "      <td>abandoned house saskatchewan canada</td>\n",
       "      <td>[abandon, hous, saskatchewan, canada]</td>\n",
       "      <td>[abandon, hous, saskatchewan, canada]</td>\n",
       "      <td>0</td>\n",
       "    </tr>\n",
       "    <tr>\n",
       "      <th>17965</th>\n",
       "      <td>757593541979803648</td>\n",
       "      <td>Abandoned mansion in France https://t.co/qdpOw...</td>\n",
       "      <td>Buffer</td>\n",
       "      <td>2016-07-25 15:09:10</td>\n",
       "      <td>459</td>\n",
       "      <td>129</td>\n",
       "      <td>Abandoned mansion in France https://t.co/qdpOw...</td>\n",
       "      <td>Abandoned mansion in France https://t.co/qdpOw...</td>\n",
       "      <td>[abandoned, mansion, in, france, https://t.co/...</td>\n",
       "      <td>[abandoned, mansion, in, france, https://t.co/...</td>\n",
       "      <td>[abandoned, mansion, france]</td>\n",
       "      <td>abandoned mansion france</td>\n",
       "      <td>[abandon, mansion, franc]</td>\n",
       "      <td>[abandon, mansion, franc]</td>\n",
       "      <td>0</td>\n",
       "    </tr>\n",
       "    <tr>\n",
       "      <th>16758</th>\n",
       "      <td>826190511866265601</td>\n",
       "      <td>Abandoned old house in Quebec, Canada https://...</td>\n",
       "      <td>Buffer</td>\n",
       "      <td>2017-01-30 22:09:02</td>\n",
       "      <td>867</td>\n",
       "      <td>184</td>\n",
       "      <td>Abandoned old house in Quebec, Canada https://...</td>\n",
       "      <td>Abandoned old house in Quebec, Canada https://...</td>\n",
       "      <td>[abandoned, old, house, in, quebec,, canada, h...</td>\n",
       "      <td>[abandoned, old, house, in, quebec,, canada, h...</td>\n",
       "      <td>[abandoned, old, house, quebec, canada]</td>\n",
       "      <td>abandoned old house quebec canada</td>\n",
       "      <td>[abandon, old, hous, quebec, canada]</td>\n",
       "      <td>[abandon, old, hous, quebec, canada]</td>\n",
       "      <td>1</td>\n",
       "    </tr>\n",
       "  </tbody>\n",
       "</table>\n",
       "</div>"
      ],
      "text/plain": [
       "                       ID                                              Tweet  \\\n",
       "3718   976818128486354947                         🇵🇹 https://t.co/b0SUaPwbdU   \n",
       "16906  816436520781541376    Aare Gorge, Switzerland https://t.co/OWguq6VFID   \n",
       "13918  786602176588251137  AB Test Intro: What is #AB Testing?- #Conversi...   \n",
       "17788  767049563744116736  Abandoned Castle, Germany https://t.co/lCdCziB7BP   \n",
       "17869  762338523412328449    Abandoned castle, Italy https://t.co/USkY9tdzeC   \n",
       "17600  777253045847588865  Abandoned Château des Singes - France https://...   \n",
       "17986  756506418031763456  Abandoned chapel in France https://t.co/87pUTJ...   \n",
       "18190  747084324671995904  Abandoned house in Saskatchewan, Canada https:...   \n",
       "17965  757593541979803648  Abandoned mansion in France https://t.co/qdpOw...   \n",
       "16758  826190511866265601  Abandoned old house in Quebec, Canada https://...   \n",
       "\n",
       "                   Source                 Date   Likes  Retweet  \\\n",
       "3718   Twitter for iPhone  2018-03-22 13:49:24  113324    12497   \n",
       "16906              Buffer  2017-01-04 00:10:09     707      244   \n",
       "13918              Buffer  2016-10-13 16:19:07       5        0   \n",
       "17788              Buffer  2016-08-20 17:24:01     334      119   \n",
       "17869              Buffer  2016-08-07 17:24:02     553      183   \n",
       "17600              Buffer  2016-09-17 21:09:01     232       65   \n",
       "17986              Buffer  2016-07-22 15:09:19     285       73   \n",
       "18190              Buffer  2016-06-26 15:09:17     330      108   \n",
       "17965              Buffer  2016-07-25 15:09:10     459      129   \n",
       "16758              Buffer  2017-01-30 22:09:02     867      184   \n",
       "\n",
       "                                                  remove  \\\n",
       "3718                          🇵🇹 https://t.co/b0SUaPwbdU   \n",
       "16906    Aare Gorge, Switzerland https://t.co/OWguq6VFID   \n",
       "13918  AB Test Intro: What is #AB Testing?- #Conversi...   \n",
       "17788  Abandoned Castle, Germany https://t.co/lCdCziB7BP   \n",
       "17869    Abandoned castle, Italy https://t.co/USkY9tdzeC   \n",
       "17600  Abandoned Château des Singes - France https://...   \n",
       "17986  Abandoned chapel in France https://t.co/87pUTJ...   \n",
       "18190  Abandoned house in Saskatchewan, Canada https:...   \n",
       "17965  Abandoned mansion in France https://t.co/qdpOw...   \n",
       "16758  Abandoned old house in Quebec, Canada https://...   \n",
       "\n",
       "                                                 remove2  \\\n",
       "3718                           🇵🇹 https://t.co/bSUaPwbdU   \n",
       "16906     Aare Gorge, Switzerland https://t.co/OWguqVFID   \n",
       "13918  AB Test Intro: What is AB Testing?- Conversion...   \n",
       "17788   Abandoned Castle, Germany https://t.co/lCdCziBBP   \n",
       "17869     Abandoned castle, Italy https://t.co/USkYtdzeC   \n",
       "17600  Abandoned Château des Singes - France https://...   \n",
       "17986   Abandoned chapel in France https://t.co/pUTJiJpr   \n",
       "18190  Abandoned house in Saskatchewan, Canada https:...   \n",
       "17965  Abandoned mansion in France https://t.co/qdpOw...   \n",
       "16758  Abandoned old house in Quebec, Canada https://...   \n",
       "\n",
       "                                         Tweet_tokenized  \\\n",
       "3718                        [🇵🇹, https://t.co/bsuapwbdu]   \n",
       "16906  [aare, gorge,, switzerland, https://t.co/owguq...   \n",
       "13918  [ab, test, intro:, what, is, ab, testing?-, co...   \n",
       "17788  [abandoned, castle,, germany, https://t.co/lcd...   \n",
       "17869  [abandoned, castle,, italy, https://t.co/uskyt...   \n",
       "17600  [abandoned, château, des, singes, -, france, h...   \n",
       "17986  [abandoned, chapel, in, france, https://t.co/p...   \n",
       "18190  [abandoned, house, in, saskatchewan,, canada, ...   \n",
       "17965  [abandoned, mansion, in, france, https://t.co/...   \n",
       "16758  [abandoned, old, house, in, quebec,, canada, h...   \n",
       "\n",
       "                                     tokenization_Tweets  \\\n",
       "3718                        [🇵🇹, https://t.co/bsuapwbdu]   \n",
       "16906  [aare, gorge,, switzerland, https://t.co/owguq...   \n",
       "13918  [ab, test, intro:, what, is, ab, testing?-, co...   \n",
       "17788  [abandoned, castle,, germany, https://t.co/lcd...   \n",
       "17869  [abandoned, castle,, italy, https://t.co/uskyt...   \n",
       "17600  [abandoned, château, des, singes, -, france, h...   \n",
       "17986  [abandoned, chapel, in, france, https://t.co/p...   \n",
       "18190  [abandoned, house, in, saskatchewan,, canada, ...   \n",
       "17965  [abandoned, mansion, in, france, https://t.co/...   \n",
       "16758  [abandoned, old, house, in, quebec,, canada, h...   \n",
       "\n",
       "                                             tweet_clean  \\\n",
       "3718                                                [, ]   \n",
       "16906                         [aare, gorge, switzerland]   \n",
       "13918  [ab, test, intro, ab, testing, conversion, sci...   \n",
       "17788                       [abandoned, castle, germany]   \n",
       "17869                         [abandoned, castle, italy]   \n",
       "17600          [abandoned, ch teau, des, singes, france]   \n",
       "17986                        [abandoned, chapel, france]   \n",
       "18190           [abandoned, house, saskatchewan, canada]   \n",
       "17965                       [abandoned, mansion, france]   \n",
       "16758            [abandoned, old, house, quebec, canada]   \n",
       "\n",
       "                                             Tweets  \\\n",
       "3718                                                  \n",
       "16906                        aare gorge switzerland   \n",
       "13918  ab test intro ab testing conversion sciences   \n",
       "17788                      abandoned castle germany   \n",
       "17869                        abandoned castle italy   \n",
       "17600           abandoned ch teau des singes france   \n",
       "17986                       abandoned chapel france   \n",
       "18190           abandoned house saskatchewan canada   \n",
       "17965                      abandoned mansion france   \n",
       "16758             abandoned old house quebec canada   \n",
       "\n",
       "                                    Stemming_Tweets  \\\n",
       "3718                                           [, ]   \n",
       "16906                      [aar, gorg, switzerland]   \n",
       "13918  [ab, test, intro, ab, test, convers, scienc]   \n",
       "17788                     [abandon, castl, germani]   \n",
       "17869                       [abandon, castl, itali]   \n",
       "17600           [abandon, ch teau, de, sing, franc]   \n",
       "17986                      [abandon, chapel, franc]   \n",
       "18190         [abandon, hous, saskatchewan, canada]   \n",
       "17965                     [abandon, mansion, franc]   \n",
       "16758          [abandon, old, hous, quebec, canada]   \n",
       "\n",
       "                               Lemmatization_Tweets  sentiment  \n",
       "3718                                           [, ]          0  \n",
       "16906                      [aar, gorg, switzerland]          0  \n",
       "13918  [ab, test, intro, ab, test, convers, scienc]          0  \n",
       "17788                     [abandon, castl, germani]          0  \n",
       "17869                       [abandon, castl, itali]          0  \n",
       "17600           [abandon, ch teau, de, sing, franc]          0  \n",
       "17986                      [abandon, chapel, franc]          0  \n",
       "18190         [abandon, hous, saskatchewan, canada]          0  \n",
       "17965                     [abandon, mansion, franc]          0  \n",
       "16758          [abandon, old, hous, quebec, canada]          1  "
      ]
     },
     "metadata": {},
     "output_type": "display_data"
    }
   ],
   "source": [
    "my_data['sentiment'] = np.array([ analize_sentiment(tweet) for tweet in my_data['Tweets']])\n",
    "display(my_data.head(10))"
   ]
  },
  {
   "cell_type": "code",
   "execution_count": 114,
   "metadata": {},
   "outputs": [],
   "source": [
    "positive=my_data.loc[my_data.sentiment==1,'Tweets'].count()\n",
    "negative=my_data.loc[my_data.sentiment==-1,'Tweets'].count()\n",
    "neutral=my_data.loc[my_data.sentiment==0,'Tweets'].count()"
   ]
  },
  {
   "cell_type": "code",
   "execution_count": 115,
   "metadata": {},
   "outputs": [
    {
     "data": {
      "image/png": "[encoded data removed]",
      "text/plain": [
       "<Figure size 432x288 with 1 Axes>"
      ]
     },
     "metadata": {},
     "output_type": "display_data"
    }
   ],
   "source": [
    "#plot\n",
    "labels='Postive', 'Negative', 'Neutral'\n",
    "sizes=[positive, negative, neutral]\n",
    "explode=(0, 0.1, 0)\n",
    "fig1, ax1 = plt.subplots()\n",
    "ax1.pie(sizes, explode=explode, labels=labels, autopct='%1.1f%%',\n",
    "        shadow=True, startangle=0)\n",
    "ax1.axis('equal') \n",
    "plt.show()"
   ]
  },
  {
   "cell_type": "markdown",
   "metadata": {},
   "source": [
    "<hr>"
   ]
  },
  {
   "cell_type": "markdown",
   "metadata": {},
   "source": [
    "<b><i><font style=\"font-family:cursive; font-size:25px; color:#FF0033\">X - Analyse des sources</font><br/><br/>"
   ]
  },
  {
   "cell_type": "code",
   "execution_count": 116,
   "metadata": {},
   "outputs": [
    {
     "name": "stdout",
     "output_type": "stream",
     "text": [
      "Sources de création de contenu:\n",
      "* Twitter for iPhone\n",
      "* Buffer\n",
      "* Twitter Web App\n",
      "* Salesforce - Social Studio\n",
      "* Hootsuite Inc.\n",
      "* Twitter Media Studio\n",
      "* Twitter Web Client\n",
      "* Viva Ronaldo\n",
      "* Twitter for Advertisers (legacy)\n",
      "* Hootsuite\n",
      "* WhoSay\n",
      "* Conversocial\n",
      "* Twitter for Android\n",
      "* Google\n",
      "* MobioINsider.com\n",
      "* Instagram\n",
      "* Players' Post\n",
      "* 10 - Sport Through Your Lens\n",
      "* Twitter for Websites\n",
      "* erased5909530\n",
      "* OneDirect Suite - P\n",
      "* Twitter for Advertisers\n",
      "* Twitter for iPad\n",
      "* swonkie\n",
      "* Influential CO\n",
      "* Crowdfire Inc.\n",
      "* Periscope\n",
      "* TweetDeck\n",
      "* Twitter Ads\n",
      "* Adly Connect\n",
      "* Twitter for BlackBerry®\n",
      "* Thunderclap\n",
      "* Percolate\n",
      "* Facebook\n",
      "* iOS\n"
     ]
    }
   ],
   "source": [
    "sources = []\n",
    "for source in my_data['Source']:\n",
    "    if source not in sources:\n",
    "        sources.append(source)\n",
    "\n",
    "# Imprimimos fuentes:\n",
    "print(\"Sources de création de contenu:\")\n",
    "for source in sources:\n",
    "    print(\"* {}\".format(source))"
   ]
  },
  {
   "cell_type": "code",
   "execution_count": 117,
   "metadata": {},
   "outputs": [
    {
     "data": {
      "image/png": "[encoded data removed]",
      "text/plain": [
       "<Figure size 360x360 with 1 Axes>"
      ]
     },
     "metadata": {},
     "output_type": "display_data"
    }
   ],
   "source": [
    "percent = np.zeros(len(sources))\n",
    "\n",
    "for source in my_data['Source']:\n",
    "    for index in range(len(sources)):\n",
    "        if source == sources[index]:\n",
    "            percent[index] += 1\n",
    "            pass\n",
    "\n",
    "percent /= 100\n",
    "\n",
    "# Pie chart:\n",
    "output_sources = pd.Series(percent, index=sources, name='Sources')\n",
    "output_sources.plot.pie(fontsize=11, autopct='%.2f', figsize=(5, 5));"
   ]
  },
  {
   "cell_type": "markdown",
   "metadata": {},
   "source": [
    "<b><i><font style=\"font-family:cursive; font-size:25px; color:#FF0033\">XI - Conclusion"
   ]
  },
  {
   "cell_type": "markdown",
   "metadata": {},
   "source": [
    "<i><font style=\"font-family:cursive;\">Dans ce projet, nous avons vu l'extraction de tweets et les analyser avec la bibliothèque nltk pour regrouper les thèmes que nous avons choisis."
   ]
  },
  {
   "cell_type": "markdown",
   "metadata": {},
   "source": [
    "<hr>"
   ]
  },
  {
   "cell_type": "markdown",
   "metadata": {},
   "source": [
    "<b><i><font style=\"font-family:cursive; font-size:20px; color:#66CC33\">Générer le fichier requirements.tx pour Binder"
   ]
  },
  {
   "cell_type": "code",
   "execution_count": 128,
   "metadata": {},
   "outputs": [
    {
     "name": "stdout",
     "output_type": "stream",
     "text": [
      "Collecting watermark\n",
      "Note: you may need to restart the kernel to use updated packages.\n",
      "  Downloading watermark-2.1.0-py2.py3-none-any.whl (5.7 kB)\n",
      "Requirement already satisfied: ipython in c:\\users\\hadhouma\\anaconda3\\lib\\site-packages (from watermark) (7.16.1)\n",
      "Requirement already satisfied: setuptools>=18.5 in c:\\users\\hadhouma\\anaconda3\\lib\\site-packages (from ipython->watermark) (49.2.0.post20200714)\n",
      "Requirement already satisfied: pickleshare in c:\\users\\hadhouma\\anaconda3\\lib\\site-packages (from ipython->watermark) (0.7.5)\n",
      "Requirement already satisfied: pygments in c:\\users\\hadhouma\\anaconda3\\lib\\site-packages (from ipython->watermark) (2.6.1)\n",
      "Requirement already satisfied: traitlets>=4.2 in c:\\users\\hadhouma\\anaconda3\\lib\\site-packages (from ipython->watermark) (4.3.3)\n",
      "Requirement already satisfied: backcall in c:\\users\\hadhouma\\anaconda3\\lib\\site-packages (from ipython->watermark) (0.2.0)\n",
      "Requirement already satisfied: jedi>=0.10 in c:\\users\\hadhouma\\anaconda3\\lib\\site-packages (from ipython->watermark) (0.17.1)\n",
      "Requirement already satisfied: colorama; sys_platform == \"win32\" in c:\\users\\hadhouma\\anaconda3\\lib\\site-packages (from ipython->watermark) (0.4.3)\n",
      "Requirement already satisfied: prompt-toolkit!=3.0.0,!=3.0.1,<3.1.0,>=2.0.0 in c:\\users\\hadhouma\\anaconda3\\lib\\site-packages (from ipython->watermark) (3.0.5)\n",
      "Requirement already satisfied: decorator in c:\\users\\hadhouma\\anaconda3\\lib\\site-packages (from ipython->watermark) (4.4.2)\n",
      "Requirement already satisfied: six in c:\\users\\hadhouma\\anaconda3\\lib\\site-packages (from traitlets>=4.2->ipython->watermark) (1.15.0)\n",
      "Requirement already satisfied: ipython-genutils in c:\\users\\hadhouma\\anaconda3\\lib\\site-packages (from traitlets>=4.2->ipython->watermark) (0.2.0)\n",
      "Requirement already satisfied: parso<0.8.0,>=0.7.0 in c:\\users\\hadhouma\\anaconda3\\lib\\site-packages (from jedi>=0.10->ipython->watermark) (0.7.0)\n",
      "Requirement already satisfied: wcwidth in c:\\users\\hadhouma\\anaconda3\\lib\\site-packages (from prompt-toolkit!=3.0.0,!=3.0.1,<3.1.0,>=2.0.0->ipython->watermark) (0.2.5)\n",
      "Installing collected packages: watermark\n",
      "Successfully installed watermark-2.1.0\n"
     ]
    }
   ],
   "source": [
    "pip install watermark"
   ]
  },
  {
   "cell_type": "code",
   "execution_count": 130,
   "metadata": {},
   "outputs": [],
   "source": [
    "%load_ext watermark"
   ]
  },
  {
   "cell_type": "code",
   "execution_count": 131,
   "metadata": {},
   "outputs": [],
   "source": [
    "%watermark?"
   ]
  },
  {
   "cell_type": "code",
   "execution_count": 132,
   "metadata": {},
   "outputs": [
    {
     "name": "stdout",
     "output_type": "stream",
     "text": [
      "re        : 2.2.1\n",
      "nltk      : 3.5\n",
      "sklearn   : 0.23.2\n",
      "tweepy    : 3.9.0\n",
      "pandas    : 1.0.5\n",
      "cv2       : 4.4.0\n",
      "numpy     : 1.18.5\n",
      "sys       : 3.8.3 (default, Jul  2 2020, 17:30:36) [MSC v.1916 64 bit (AMD64)]\n",
      "seaborn   : 0.10.1\n",
      "matplotlib: 3.2.2\n",
      "json      : 2.0.9\n",
      "\n"
     ]
    }
   ],
   "source": [
    "%watermark --iversions"
   ]
  }
 ],
 "metadata": {
  "kernelspec": {
   "display_name": "Python 3",
   "language": "python",
   "name": "python3"
  },
  "language_info": {
   "codemirror_mode": {
    "name": "ipython",
    "version": 3
   },
   "file_extension": ".py",
   "mimetype": "text/x-python",
   "name": "python",
   "nbconvert_exporter": "python",
   "pygments_lexer": "ipython3",
   "version": "3.8.3"
  }
 },
 "nbformat": 4,
 "nbformat_minor": 4
}
